{
 "cells": [
  {
   "cell_type": "code",
   "execution_count": 1,
   "metadata": {},
   "outputs": [
    {
     "name": "stdout",
     "output_type": "stream",
     "text": [
      "[[ 42  42  43 ... 201 196 195]\n",
      " [ 43  43  43 ... 197 193 191]\n",
      " [ 43  43  43 ... 193 192 192]\n",
      " ...\n",
      " [ 31  29  25 ...  26  33  49]\n",
      " [ 31  29  25 ...  32  36  47]\n",
      " [ 31  28  24 ...  41  34  32]]\n"
     ]
    }
   ],
   "source": [
    "import cv2\n",
    "path=\"train\\cat.1.jpg\"\n",
    "imagepath=cv2.imread(path,0)\n",
    "\n",
    "print(imagepath)\n",
    "\n",
    "\n",
    "\n",
    "imoutput=\"‪C:\\\\Users\\sahin\\test\\698.jpg\"\n",
    "cv2.imshow('first',imagepath)\n",
    "cv2.imwrite(imoutput,imagepath)\n",
    "cv2.waitKey(0)\n",
    "cv2.destroyWindow('first')\n"
   ]
  },
  {
   "cell_type": "code",
   "execution_count": 54,
   "metadata": {},
   "outputs": [
    {
     "name": "stdout",
     "output_type": "stream",
     "text": [
      "(280, 300)\n"
     ]
    }
   ],
   "source": [
    "print(imagepath.shape)\n",
    "‪C:\\\\Users\\sahin\\test\\698.jpg"
   ]
  },
  {
   "cell_type": "code",
   "execution_count": 55,
   "metadata": {},
   "outputs": [
    {
     "data": {
      "text/plain": [
       "numpy.ndarray"
      ]
     },
     "execution_count": 55,
     "metadata": {},
     "output_type": "execute_result"
    }
   ],
   "source": [
    "type(imagepath)"
   ]
  },
  {
   "cell_type": "code",
   "execution_count": 56,
   "metadata": {},
   "outputs": [
    {
     "name": "stdout",
     "output_type": "stream",
     "text": [
      "[[ 42  42  43 ... 201 196 195]\n",
      " [ 43  43  43 ... 197 193 191]\n",
      " [ 43  43  43 ... 193 192 192]\n",
      " ...\n",
      " [ 31  29  25 ...  26  33  49]\n",
      " [ 31  29  25 ...  32  36  47]\n",
      " [ 31  28  24 ...  41  34  32]]\n"
     ]
    }
   ],
   "source": [
    "print(imagepath)"
   ]
  },
  {
   "cell_type": "code",
   "execution_count": 57,
   "metadata": {},
   "outputs": [
    {
     "name": "stdout",
     "output_type": "stream",
     "text": [
      "84000\n"
     ]
    }
   ],
   "source": [
    "print(imagepath.size)"
   ]
  },
  {
   "cell_type": "code",
   "execution_count": 58,
   "metadata": {},
   "outputs": [
    {
     "name": "stdout",
     "output_type": "stream",
     "text": [
      "2\n"
     ]
    }
   ],
   "source": [
    "print(imagepath.ndim)"
   ]
  },
  {
   "cell_type": "code",
   "execution_count": 59,
   "metadata": {},
   "outputs": [
    {
     "name": "stdout",
     "output_type": "stream",
     "text": [
      "uint8\n"
     ]
    }
   ],
   "source": [
    "print(imagepath.dtype)"
   ]
  },
  {
   "cell_type": "code",
   "execution_count": 4,
   "metadata": {},
   "outputs": [
    {
     "data": {
      "text/plain": [
       "3"
      ]
     },
     "execution_count": 4,
     "metadata": {},
     "output_type": "execute_result"
    }
   ],
   "source": [
    "import cv2\n",
    "import numpy as np\n",
    "\n",
    "image1= np.zeros((512,512,3),np.uint8)\n",
    "co=np.copy(image1)\n",
    "\n",
    "cv2.line(co, (0,129),(300,0),(255,0,0),1)\n",
    "cv2.rectangle(co, (226,0),(0,300),(255,0,0),13)\n",
    "cv2.circle(co,(240,240),50,(0,250,0),5)\n",
    "cv2.putText(co,'Hello World !',(22,30),cv2.FONT_HERSHEY_SIMPLEX,2,(255,255,0))\n",
    "cv2.imshow('kendim ',co)\n",
    "cv2.waitKey(10000)\n",
    "cv2.destroyWindow('kendim')\n",
    "image1.shape[2]"
   ]
  },
  {
   "cell_type": "code",
   "execution_count": null,
   "metadata": {},
   "outputs": [],
   "source": [
    "import cv2\n",
    "help(cv2.createTrackbar)"
   ]
  },
  {
   "cell_type": "code",
   "execution_count": 16,
   "metadata": {},
   "outputs": [
    {
     "name": "stdout",
     "output_type": "stream",
     "text": [
      "Help on built-in function getTrackbarPos:\n",
      "\n",
      "getTrackbarPos(...)\n",
      "    getTrackbarPos(trackbarname, winname) -> retval\n",
      "    .   @brief Returns the trackbar position.\n",
      "    .   \n",
      "    .   The function returns the current position of the specified trackbar.\n",
      "    .   \n",
      "    .   @note\n",
      "    .   \n",
      "    .   [__Qt Backend Only__] winname can be empty if the trackbar is attached to the control\n",
      "    .   panel.\n",
      "    .   \n",
      "    .   @param trackbarname Name of the trackbar.\n",
      "    .   @param winname Name of the window that is the parent of the trackbar.\n",
      "\n"
     ]
    }
   ],
   "source": [
    "import numpy\n",
    "import cv2\n",
    "\n",
    "help(cv2.getTrackbarPos)"
   ]
  },
  {
   "cell_type": "code",
   "execution_count": 5,
   "metadata": {},
   "outputs": [],
   "source": [
    "import numpy as np\n",
    "import cv2\n",
    "\n",
    "\n",
    "def df():\n",
    "    return\n",
    "\n",
    "image1=np.zeros((512,512,3),np.uint8)\n",
    "\n",
    "\n",
    "c1=np.copy(image1)\n",
    "\n",
    "a1=cv2.createTrackbar('a1','den',0,255,df)\n",
    "a2=cv2.createTrackbar('a2','den',0,255,df)\n",
    "a3=cv2.createTrackbar('a3','den',0,255,df)\n",
    "\n",
    "while(True):\n",
    "    \n",
    "    \n",
    "    \n",
    "    cv2.imshow('den',c1)\n",
    "    if cv2.waitKey(1)==27:\n",
    "        break\n",
    "        \n",
    "        \n",
    "    red=cv2.getTrackbarPos('a1','den')\n",
    "    blue=cv2.getTrackbarPos('a2','den')\n",
    "    green=cv2.getTrackbarPos('a3','den')\n",
    "\n",
    "    \n",
    "    c1[:]=[red,blue,green]\n",
    "\n",
    "\n",
    "\n",
    "cv2.destroyWindow('den')\n",
    "\n",
    "\n",
    "\n",
    "\n",
    "    \n"
   ]
  },
  {
   "cell_type": "code",
   "execution_count": 6,
   "metadata": {},
   "outputs": [],
   "source": [
    "import numpy as np\n",
    "import cv2\n",
    "\n",
    "\n",
    "def df():\n",
    "    return\n",
    "\n",
    "image1=np.zeros((512,512,3),np.uint8)\n",
    "\n",
    "\n",
    "c1=np.copy(image1)\n",
    "\n",
    "a1=cv2.createTrackbar('a1','den',0,255,df)\n",
    "a2=cv2.createTrackbar('a2','den',0,255,df)\n",
    "a3=cv2.createTrackbar('a3','den',0,255,df)\n",
    "\n",
    "while(True):\n",
    "    \n",
    "    \n",
    "    \n",
    "    cv2.imshow('den',c1)\n",
    "    if cv2.waitKey(1)==27:\n",
    "        break\n",
    "        \n",
    "        \n",
    "    red=cv2.getTrackbarPos('a1','den')\n",
    "    blue=cv2.getTrackbarPos('a2','den')\n",
    "    green=cv2.getTrackbarPos('a3','den')\n",
    "\n",
    "    \n",
    "    c1[:]=[red,blue,green]\n",
    "\n",
    "\n",
    "\n",
    "cv2.destroyWindow('den')\n",
    "\n"
   ]
  },
  {
   "cell_type": "code",
   "execution_count": 2,
   "metadata": {},
   "outputs": [],
   "source": [
    "import numpy as np\n",
    "import cv2\n",
    "\n",
    "\n",
    "def df():\n",
    "    return\n",
    "\n",
    "image1=np.zeros((512,512,3),np.uint8)\n",
    "\n",
    "\n",
    "c1=np.copy(image1)\n",
    "\n",
    "a1=cv2.createTrackbar('a1','den',0,255,df)\n",
    "a2=cv2.createTrackbar('a2','den',0,255,df)\n",
    "a3=cv2.createTrackbar('a3','den',0,255,df)\n",
    "\n",
    "while(True):\n",
    "    \n",
    "    \n",
    "    \n",
    "    cv2.imshow('den',c1)\n",
    "    if cv2.waitKey(1)==27:\n",
    "        break\n",
    "        \n",
    "        \n",
    "    red=cv2.getTrackbarPos('a1','den')\n",
    "    blue=cv2.getTrackbarPos('a2','den')\n",
    "    green=cv2.getTrackbarPos('a3','den')\n",
    "\n",
    "    \n",
    "    c1[:]=[red,blue,green]\n",
    "\n",
    "\n",
    "\n",
    "cv2.destroyWindow('den')\n",
    "\n"
   ]
  },
  {
   "cell_type": "code",
   "execution_count": null,
   "metadata": {},
   "outputs": [],
   "source": [
    "import cv2\n",
    "help(cv2.named.window)"
   ]
  },
  {
   "cell_type": "code",
   "execution_count": 21,
   "metadata": {},
   "outputs": [
    {
     "name": "stdout",
     "output_type": "stream",
     "text": [
      "\n",
      "\n",
      "\n",
      "\n",
      "\n",
      "\n",
      "\n",
      "\n",
      "\n",
      "\n",
      "\n",
      "\n",
      "\n",
      "\n",
      "\n",
      "\n",
      "\n",
      "\n",
      "\n",
      "\n",
      "\n",
      "\n",
      "\n",
      "\n",
      "\n",
      "\n",
      "\n",
      "\n",
      "\n",
      "\n",
      "\n",
      "\n",
      "\n",
      "\n",
      "\n",
      "\n",
      "\n",
      "\n",
      "\n",
      "\n",
      "\n",
      "\n",
      "\n",
      "\n"
     ]
    },
    {
     "ename": "TypeError",
     "evalue": "df() takes 0 positional arguments but 1 was given",
     "output_type": "error",
     "traceback": [
      "\u001b[1;31m---------------------------------------------------------------------------\u001b[0m",
      "\u001b[1;31mTypeError\u001b[0m                                 Traceback (most recent call last)",
      "\u001b[1;31mTypeError\u001b[0m: df() takes 0 positional arguments but 1 was given"
     ]
    },
    {
     "ename": "TypeError",
     "evalue": "df() takes 0 positional arguments but 1 was given",
     "output_type": "error",
     "traceback": [
      "\u001b[1;31m---------------------------------------------------------------------------\u001b[0m",
      "\u001b[1;31mTypeError\u001b[0m                                 Traceback (most recent call last)",
      "\u001b[1;31mTypeError\u001b[0m: df() takes 0 positional arguments but 1 was given"
     ]
    },
    {
     "name": "stdout",
     "output_type": "stream",
     "text": [
      "\n"
     ]
    },
    {
     "ename": "TypeError",
     "evalue": "df() takes 0 positional arguments but 1 was given",
     "output_type": "error",
     "traceback": [
      "\u001b[1;31m---------------------------------------------------------------------------\u001b[0m",
      "\u001b[1;31mTypeError\u001b[0m                                 Traceback (most recent call last)",
      "\u001b[1;31mTypeError\u001b[0m: df() takes 0 positional arguments but 1 was given"
     ]
    },
    {
     "ename": "TypeError",
     "evalue": "df() takes 0 positional arguments but 1 was given",
     "output_type": "error",
     "traceback": [
      "\u001b[1;31m---------------------------------------------------------------------------\u001b[0m",
      "\u001b[1;31mTypeError\u001b[0m                                 Traceback (most recent call last)",
      "\u001b[1;31mTypeError\u001b[0m: df() takes 0 positional arguments but 1 was given"
     ]
    },
    {
     "ename": "TypeError",
     "evalue": "df() takes 0 positional arguments but 1 was given",
     "output_type": "error",
     "traceback": [
      "\u001b[1;31m---------------------------------------------------------------------------\u001b[0m",
      "\u001b[1;31mTypeError\u001b[0m                                 Traceback (most recent call last)",
      "\u001b[1;31mTypeError\u001b[0m: df() takes 0 positional arguments but 1 was given"
     ]
    },
    {
     "ename": "TypeError",
     "evalue": "df() takes 0 positional arguments but 1 was given",
     "output_type": "error",
     "traceback": [
      "\u001b[1;31m---------------------------------------------------------------------------\u001b[0m",
      "\u001b[1;31mTypeError\u001b[0m                                 Traceback (most recent call last)",
      "\u001b[1;31mTypeError\u001b[0m: df() takes 0 positional arguments but 1 was given"
     ]
    },
    {
     "ename": "TypeError",
     "evalue": "df() takes 0 positional arguments but 1 was given",
     "output_type": "error",
     "traceback": [
      "\u001b[1;31m---------------------------------------------------------------------------\u001b[0m",
      "\u001b[1;31mTypeError\u001b[0m                                 Traceback (most recent call last)",
      "\u001b[1;31mTypeError\u001b[0m: df() takes 0 positional arguments but 1 was given"
     ]
    },
    {
     "ename": "TypeError",
     "evalue": "df() takes 0 positional arguments but 1 was given",
     "output_type": "error",
     "traceback": [
      "\u001b[1;31m---------------------------------------------------------------------------\u001b[0m",
      "\u001b[1;31mTypeError\u001b[0m                                 Traceback (most recent call last)",
      "\u001b[1;31mTypeError\u001b[0m: df() takes 0 positional arguments but 1 was given"
     ]
    },
    {
     "ename": "TypeError",
     "evalue": "df() takes 0 positional arguments but 1 was given",
     "output_type": "error",
     "traceback": [
      "\u001b[1;31m---------------------------------------------------------------------------\u001b[0m",
      "\u001b[1;31mTypeError\u001b[0m                                 Traceback (most recent call last)",
      "\u001b[1;31mTypeError\u001b[0m: df() takes 0 positional arguments but 1 was given"
     ]
    },
    {
     "name": "stdout",
     "output_type": "stream",
     "text": [
      "\n",
      "\n",
      "\n",
      "\n",
      "\n",
      "\n",
      "\n",
      "\n",
      "\n",
      "\n",
      "\n",
      "\n",
      "\n",
      "\n",
      "\n",
      "\n",
      "\n",
      "\n",
      "\n",
      "\n",
      "\n",
      "\n",
      "\n",
      "\n",
      "\n",
      "\n",
      "\n",
      "\n",
      "\n",
      "\n",
      "\n",
      "\n",
      "\n",
      "\n",
      "\n",
      "\n",
      "\n",
      "\n",
      "\n",
      "\n",
      "\n",
      "\n",
      "\n",
      "\n",
      "\n",
      "\n",
      "\n",
      "\n",
      "\n",
      "\n",
      "\n",
      "\n",
      "\n",
      "\n",
      "\n",
      "\n",
      "\n",
      "\n",
      "\n",
      "\n",
      "\n"
     ]
    }
   ],
   "source": [
    "import numpy as np\n",
    "import cv2\n",
    "image1=np.zeros((1080,1080,3))\n",
    "windowName = 'den'\n",
    "\n",
    "def df():\n",
    "    pass\n",
    "def main():\n",
    "    \n",
    "    \n",
    "\n",
    "    cv2.namedWindow(windowName)\n",
    "\n",
    "\n",
    "    cu=np.copy(image1)\n",
    "\n",
    "    a1=cv2.createTrackbar('a1',windowName,0,255,df)\n",
    "    a2=cv2.createTrackbar('a2',windowName,0,255,df)\n",
    "    a3=cv2.createTrackbar('a3',windowName,0,255,df)\n",
    "\n",
    "    while(True):\n",
    "    \n",
    "        cv2.imshow('den',cu)\n",
    "        if cv2.waitKey(1)==27:\n",
    "            break\n",
    "        red=cv2.getTrackbarPos('a1',windowName)\n",
    "        blue=cv2.getTrackbarPos('a2',windowName)\n",
    "        green=cv2.getTrackbarPos('a3',windowName)\n",
    "        cu[:]=[red,blue,green]\n",
    "        print('')\n",
    "\n",
    "\n",
    "\n",
    "    cv2.destroyAllWindows()\n",
    "    \n",
    "if __name__ == \"__main__\":\n",
    "\n",
    "    main()"
   ]
  },
  {
   "cell_type": "code",
   "execution_count": 17,
   "metadata": {},
   "outputs": [
    {
     "name": "stdout",
     "output_type": "stream",
     "text": [
      "[0, 0, 0]\n",
      "[0, 0, 0]\n",
      "[0, 0, 0]\n",
      "[0, 0, 0]\n",
      "[0, 0, 0]\n",
      "[0, 0, 0]\n",
      "[0, 0, 0]\n",
      "[0, 0, 0]\n",
      "[0, 0, 0]\n",
      "[0, 0, 0]\n",
      "[0, 0, 0]\n",
      "[0, 0, 0]\n",
      "[0, 0, 0]\n",
      "[0, 0, 0]\n",
      "[0, 0, 0]\n",
      "[0, 0, 0]\n",
      "[0, 0, 0]\n",
      "[0, 0, 0]\n",
      "[0, 0, 0]\n",
      "[0, 0, 0]\n",
      "[0, 0, 0]\n",
      "[0, 0, 0]\n",
      "[0, 0, 0]\n",
      "[0, 0, 0]\n",
      "[0, 0, 0]\n",
      "[0, 0, 0]\n",
      "[0, 0, 0]\n",
      "[0, 0, 0]\n",
      "[0, 0, 0]\n",
      "[0, 0, 0]\n",
      "[0, 0, 0]\n",
      "[0, 0, 0]\n",
      "[0, 0, 0]\n",
      "[0, 0, 0]\n",
      "[0, 0, 0]\n",
      "[0, 0, 0]\n",
      "[0, 0, 0]\n",
      "[0, 0, 0]\n",
      "[0, 0, 0]\n",
      "[0, 0, 0]\n",
      "[0, 0, 0]\n",
      "[0, 0, 0]\n",
      "[0, 0, 0]\n",
      "[0, 0, 0]\n",
      "[0, 0, 0]\n",
      "[0, 0, 0]\n",
      "[0, 0, 0]\n",
      "[0, 0, 0]\n",
      "[0, 0, 0]\n",
      "[0, 0, 0]\n",
      "[0, 0, 0]\n",
      "[0, 0, 0]\n",
      "[0, 0, 0]\n",
      "[0, 0, 0]\n",
      "[0, 0, 0]\n",
      "[0, 0, 0]\n",
      "[0, 0, 0]\n",
      "[0, 0, 0]\n",
      "[0, 0, 0]\n",
      "[0, 0, 0]\n",
      "[0, 0, 0]\n",
      "[0, 0, 0]\n",
      "[0, 0, 0]\n",
      "[0, 0, 0]\n",
      "[0, 0, 0]\n",
      "[0, 0, 0]\n",
      "[0, 0, 0]\n",
      "[0, 0, 0]\n",
      "[0, 0, 0]\n",
      "[0, 0, 0]\n",
      "[0, 0, 0]\n",
      "[0, 0, 0]\n",
      "[0, 0, 0]\n",
      "[0, 0, 0]\n",
      "[0, 0, 0]\n",
      "[0, 0, 0]\n",
      "[0, 0, 0]\n",
      "[0, 0, 0]\n",
      "[0, 0, 0]\n",
      "[0, 0, 0]\n",
      "[0, 0, 0]\n",
      "[0, 0, 0]\n",
      "[0, 0, 0]\n",
      "[0, 0, 0]\n",
      "[0, 0, 0]\n",
      "[0, 0, 0]\n",
      "[0, 0, 0]\n",
      "[0, 0, 0]\n",
      "[0, 0, 0]\n",
      "[0, 0, 0]\n",
      "[0, 0, 0]\n",
      "[0, 0, 0]\n",
      "[0, 0, 0]\n",
      "[0, 0, 0]\n",
      "[0, 0, 0]\n",
      "[0, 0, 0]\n",
      "[0, 0, 0]\n",
      "[0, 0, 0]\n",
      "[0, 0, 0]\n",
      "[0, 0, 0]\n",
      "[0, 0, 0]\n",
      "[0, 0, 0]\n",
      "[0, 0, 0]\n",
      "[0, 0, 0]\n",
      "[0, 0, 0]\n",
      "[0, 0, 0]\n",
      "[0, 0, 0]\n",
      "[0, 0, 0]\n",
      "[0, 0, 0]\n",
      "[0, 0, 0]\n",
      "[0, 0, 0]\n",
      "[0, 0, 0]\n",
      "[0, 0, 0]\n",
      "[0, 0, 0]\n",
      "[0, 0, 0]\n",
      "[0, 0, 0]\n",
      "[0, 0, 0]\n",
      "[0, 0, 0]\n",
      "[0, 0, 0]\n",
      "[0, 0, 0]\n",
      "[0, 0, 0]\n",
      "[0, 0, 0]\n",
      "[0, 0, 0]\n",
      "[0, 0, 0]\n",
      "[0, 0, 0]\n",
      "[0, 0, 0]\n",
      "[0, 0, 0]\n",
      "[0, 0, 0]\n",
      "[0, 0, 0]\n",
      "[0, 0, 0]\n",
      "[0, 0, 0]\n",
      "[0, 0, 0]\n",
      "[0, 0, 0]\n",
      "[0, 0, 0]\n",
      "[0, 0, 0]\n",
      "[0, 0, 0]\n",
      "[0, 0, 0]\n",
      "[0, 0, 0]\n",
      "[0, 0, 0]\n",
      "[0, 0, 0]\n",
      "[0, 0, 0]\n",
      "[0, 0, 0]\n",
      "[0, 0, 0]\n",
      "[0, 0, 0]\n",
      "[0, 0, 0]\n",
      "[0, 0, 0]\n",
      "[0, 0, 0]\n",
      "[0, 0, 0]\n",
      "[0, 0, 0]\n",
      "[0, 0, 0]\n",
      "[0, 0, 0]\n",
      "[0, 0, 0]\n",
      "[0, 0, 0]\n",
      "[0, 0, 0]\n",
      "[0, 0, 0]\n",
      "[0, 0, 0]\n",
      "[0, 0, 0]\n",
      "[0, 0, 0]\n",
      "[0, 0, 0]\n",
      "[0, 0, 0]\n",
      "[0, 0, 0]\n",
      "[0, 0, 0]\n",
      "[0, 0, 0]\n",
      "[0, 0, 0]\n",
      "[0, 0, 0]\n",
      "[0, 0, 0]\n",
      "[0, 0, 0]\n",
      "[0, 0, 0]\n",
      "[0, 0, 0]\n",
      "[0, 0, 0]\n",
      "[0, 0, 0]\n",
      "[0, 0, 0]\n",
      "[0, 0, 0]\n",
      "[0, 0, 0]\n",
      "[0, 0, 0]\n",
      "[0, 0, 0]\n",
      "[0, 0, 0]\n",
      "[0, 0, 0]\n",
      "[0, 0, 0]\n",
      "[0, 0, 0]\n",
      "[0, 0, 0]\n",
      "[0, 0, 0]\n",
      "[0, 0, 0]\n",
      "[0, 0, 0]\n",
      "[0, 0, 0]\n",
      "[0, 0, 0]\n",
      "[0, 0, 0]\n",
      "[0, 0, 0]\n",
      "[0, 0, 0]\n",
      "[0, 0, 0]\n",
      "[0, 0, 0]\n",
      "[0, 0, 0]\n",
      "[0, 0, 0]\n",
      "[0, 0, 0]\n",
      "[0, 0, 0]\n",
      "[0, 0, 0]\n",
      "[0, 0, 0]\n",
      "[0, 0, 0]\n",
      "[0, 0, 0]\n",
      "[0, 0, 0]\n",
      "[0, 0, 0]\n",
      "[0, 0, 0]\n",
      "[0, 0, 0]\n",
      "[0, 0, 0]\n",
      "[0, 0, 0]\n",
      "[0, 0, 0]\n",
      "[0, 0, 0]\n",
      "[0, 0, 0]\n",
      "[0, 0, 0]\n",
      "[0, 0, 0]\n",
      "[0, 0, 0]\n",
      "[0, 0, 0]\n",
      "[0, 0, 0]\n",
      "[0, 0, 0]\n",
      "[0, 0, 0]\n",
      "[0, 0, 0]\n",
      "[0, 0, 0]\n",
      "[0, 0, 0]\n",
      "[0, 0, 0]\n",
      "[0, 0, 0]\n",
      "[0, 0, 0]\n",
      "[0, 0, 0]\n",
      "[0, 0, 0]\n",
      "[0, 0, 0]\n",
      "[0, 0, 0]\n",
      "[0, 0, 0]\n",
      "[0, 0, 0]\n",
      "[0, 0, 0]\n",
      "[0, 0, 0]\n",
      "[0, 0, 0]\n",
      "[0, 0, 0]\n",
      "[0, 0, 0]\n",
      "[0, 0, 0]\n",
      "[0, 0, 0]\n",
      "[0, 0, 0]\n",
      "[0, 0, 0]\n",
      "[0, 0, 0]\n",
      "[0, 0, 0]\n",
      "[0, 0, 0]\n",
      "[0, 0, 0]\n",
      "[0, 0, 0]\n",
      "[0, 0, 0]\n",
      "[0, 0, 0]\n",
      "[0, 0, 0]\n",
      "[0, 0, 0]\n",
      "[0, 0, 0]\n",
      "[0, 0, 0]\n",
      "[0, 0, 0]\n",
      "[0, 0, 0]\n",
      "[0, 0, 0]\n",
      "[0, 0, 0]\n",
      "[0, 0, 0]\n",
      "[0, 0, 0]\n",
      "[0, 0, 0]\n",
      "[0, 0, 0]\n",
      "[0, 0, 0]\n",
      "[0, 0, 0]\n",
      "[0, 0, 0]\n",
      "[0, 0, 0]\n",
      "[0, 0, 0]\n",
      "[0, 0, 0]\n",
      "[0, 0, 0]\n",
      "[0, 0, 0]\n",
      "[0, 0, 0]\n",
      "[0, 0, 0]\n",
      "[0, 0, 0]\n",
      "[0, 0, 0]\n",
      "[0, 0, 0]\n",
      "[0, 0, 0]\n",
      "[0, 0, 0]\n",
      "[0, 0, 0]\n",
      "[0, 0, 0]\n",
      "[0, 0, 0]\n",
      "[0, 0, 0]\n",
      "[0, 0, 0]\n",
      "[0, 0, 0]\n",
      "[0, 0, 0]\n",
      "[0, 0, 0]\n",
      "[0, 0, 0]\n",
      "[0, 0, 0]\n",
      "[0, 0, 0]\n",
      "[0, 0, 0]\n",
      "[0, 0, 0]\n",
      "[0, 0, 0]\n",
      "[0, 0, 0]\n",
      "[0, 0, 0]\n",
      "[0, 0, 0]\n",
      "[0, 0, 0]\n",
      "[0, 0, 0]\n",
      "[0, 0, 0]\n",
      "[0, 0, 0]\n",
      "[0, 0, 0]\n",
      "[0, 0, 0]\n",
      "[0, 0, 0]\n",
      "[0, 0, 0]\n",
      "[0, 0, 0]\n",
      "[0, 0, 0]\n",
      "[0, 0, 0]\n",
      "[0, 0, 0]\n",
      "[0, 0, 0]\n",
      "[0, 0, 0]\n",
      "[0, 0, 0]\n",
      "[0, 0, 0]\n",
      "[0, 0, 0]\n",
      "[0, 0, 0]\n",
      "[0, 0, 0]\n",
      "[0, 0, 0]\n",
      "[0, 0, 0]\n",
      "[0, 0, 0]\n",
      "[0, 0, 0]\n",
      "[0, 0, 0]\n",
      "[0, 0, 0]\n",
      "[0, 0, 0]\n",
      "[0, 0, 0]\n",
      "[0, 0, 0]\n",
      "[0, 0, 0]\n",
      "[0, 0, 0]\n",
      "[0, 0, 0]\n",
      "[0, 0, 0]\n",
      "[0, 0, 0]\n",
      "[0, 0, 0]\n",
      "[0, 0, 0]\n",
      "[0, 0, 0]\n",
      "[0, 0, 0]\n",
      "[0, 0, 0]\n",
      "[0, 0, 0]\n",
      "[0, 0, 0]\n",
      "[0, 0, 0]\n",
      "[0, 0, 0]\n",
      "[0, 0, 0]\n",
      "[0, 0, 0]\n",
      "[0, 0, 0]\n",
      "[0, 0, 0]\n",
      "[0, 0, 0]\n",
      "[0, 0, 0]\n",
      "[0, 0, 0]\n",
      "[0, 0, 0]\n",
      "[0, 0, 0]\n",
      "[0, 0, 0]\n",
      "[0, 0, 0]\n",
      "[0, 0, 0]\n",
      "[0, 0, 0]\n",
      "[0, 0, 0]\n",
      "[0, 0, 0]\n",
      "[0, 0, 0]\n",
      "[0, 0, 0]\n",
      "[0, 0, 0]\n",
      "[0, 0, 0]\n",
      "[0, 0, 0]\n",
      "[0, 0, 0]\n",
      "[0, 0, 0]\n",
      "[0, 0, 0]\n",
      "[0, 0, 0]\n",
      "[0, 0, 0]\n",
      "[0, 0, 0]\n",
      "[0, 0, 0]\n",
      "[0, 0, 0]\n",
      "[0, 0, 0]\n",
      "[0, 0, 0]\n",
      "[0, 0, 0]\n"
     ]
    },
    {
     "ename": "TypeError",
     "evalue": "emptyfunction() takes 0 positional arguments but 1 was given",
     "output_type": "error",
     "traceback": [
      "\u001b[1;31m---------------------------------------------------------------------------\u001b[0m",
      "\u001b[1;31mTypeError\u001b[0m                                 Traceback (most recent call last)",
      "\u001b[1;31mTypeError\u001b[0m: emptyfunction() takes 0 positional arguments but 1 was given"
     ]
    },
    {
     "ename": "TypeError",
     "evalue": "emptyfunction() takes 0 positional arguments but 1 was given",
     "output_type": "error",
     "traceback": [
      "\u001b[1;31m---------------------------------------------------------------------------\u001b[0m",
      "\u001b[1;31mTypeError\u001b[0m                                 Traceback (most recent call last)",
      "\u001b[1;31mTypeError\u001b[0m: emptyfunction() takes 0 positional arguments but 1 was given"
     ]
    },
    {
     "ename": "TypeError",
     "evalue": "emptyfunction() takes 0 positional arguments but 1 was given",
     "output_type": "error",
     "traceback": [
      "\u001b[1;31m---------------------------------------------------------------------------\u001b[0m",
      "\u001b[1;31mTypeError\u001b[0m                                 Traceback (most recent call last)",
      "\u001b[1;31mTypeError\u001b[0m: emptyfunction() takes 0 positional arguments but 1 was given"
     ]
    },
    {
     "ename": "TypeError",
     "evalue": "emptyfunction() takes 0 positional arguments but 1 was given",
     "output_type": "error",
     "traceback": [
      "\u001b[1;31m---------------------------------------------------------------------------\u001b[0m",
      "\u001b[1;31mTypeError\u001b[0m                                 Traceback (most recent call last)",
      "\u001b[1;31mTypeError\u001b[0m: emptyfunction() takes 0 positional arguments but 1 was given"
     ]
    },
    {
     "ename": "TypeError",
     "evalue": "emptyfunction() takes 0 positional arguments but 1 was given",
     "output_type": "error",
     "traceback": [
      "\u001b[1;31m---------------------------------------------------------------------------\u001b[0m",
      "\u001b[1;31mTypeError\u001b[0m                                 Traceback (most recent call last)",
      "\u001b[1;31mTypeError\u001b[0m: emptyfunction() takes 0 positional arguments but 1 was given"
     ]
    },
    {
     "ename": "TypeError",
     "evalue": "emptyfunction() takes 0 positional arguments but 1 was given",
     "output_type": "error",
     "traceback": [
      "\u001b[1;31m---------------------------------------------------------------------------\u001b[0m",
      "\u001b[1;31mTypeError\u001b[0m                                 Traceback (most recent call last)",
      "\u001b[1;31mTypeError\u001b[0m: emptyfunction() takes 0 positional arguments but 1 was given"
     ]
    },
    {
     "name": "stdout",
     "output_type": "stream",
     "text": [
      "[70, 0, 0]\n"
     ]
    },
    {
     "ename": "TypeError",
     "evalue": "emptyfunction() takes 0 positional arguments but 1 was given",
     "output_type": "error",
     "traceback": [
      "\u001b[1;31m---------------------------------------------------------------------------\u001b[0m",
      "\u001b[1;31mTypeError\u001b[0m                                 Traceback (most recent call last)",
      "\u001b[1;31mTypeError\u001b[0m: emptyfunction() takes 0 positional arguments but 1 was given"
     ]
    },
    {
     "ename": "TypeError",
     "evalue": "emptyfunction() takes 0 positional arguments but 1 was given",
     "output_type": "error",
     "traceback": [
      "\u001b[1;31m---------------------------------------------------------------------------\u001b[0m",
      "\u001b[1;31mTypeError\u001b[0m                                 Traceback (most recent call last)",
      "\u001b[1;31mTypeError\u001b[0m: emptyfunction() takes 0 positional arguments but 1 was given"
     ]
    },
    {
     "ename": "TypeError",
     "evalue": "emptyfunction() takes 0 positional arguments but 1 was given",
     "output_type": "error",
     "traceback": [
      "\u001b[1;31m---------------------------------------------------------------------------\u001b[0m",
      "\u001b[1;31mTypeError\u001b[0m                                 Traceback (most recent call last)",
      "\u001b[1;31mTypeError\u001b[0m: emptyfunction() takes 0 positional arguments but 1 was given"
     ]
    },
    {
     "ename": "TypeError",
     "evalue": "emptyfunction() takes 0 positional arguments but 1 was given",
     "output_type": "error",
     "traceback": [
      "\u001b[1;31m---------------------------------------------------------------------------\u001b[0m",
      "\u001b[1;31mTypeError\u001b[0m                                 Traceback (most recent call last)",
      "\u001b[1;31mTypeError\u001b[0m: emptyfunction() takes 0 positional arguments but 1 was given"
     ]
    },
    {
     "ename": "TypeError",
     "evalue": "emptyfunction() takes 0 positional arguments but 1 was given",
     "output_type": "error",
     "traceback": [
      "\u001b[1;31m---------------------------------------------------------------------------\u001b[0m",
      "\u001b[1;31mTypeError\u001b[0m                                 Traceback (most recent call last)",
      "\u001b[1;31mTypeError\u001b[0m: emptyfunction() takes 0 positional arguments but 1 was given"
     ]
    },
    {
     "ename": "TypeError",
     "evalue": "emptyfunction() takes 0 positional arguments but 1 was given",
     "output_type": "error",
     "traceback": [
      "\u001b[1;31m---------------------------------------------------------------------------\u001b[0m",
      "\u001b[1;31mTypeError\u001b[0m                                 Traceback (most recent call last)",
      "\u001b[1;31mTypeError\u001b[0m: emptyfunction() takes 0 positional arguments but 1 was given"
     ]
    },
    {
     "ename": "TypeError",
     "evalue": "emptyfunction() takes 0 positional arguments but 1 was given",
     "output_type": "error",
     "traceback": [
      "\u001b[1;31m---------------------------------------------------------------------------\u001b[0m",
      "\u001b[1;31mTypeError\u001b[0m                                 Traceback (most recent call last)",
      "\u001b[1;31mTypeError\u001b[0m: emptyfunction() takes 0 positional arguments but 1 was given"
     ]
    },
    {
     "name": "stdout",
     "output_type": "stream",
     "text": [
      "[91, 0, 0]\n"
     ]
    },
    {
     "ename": "TypeError",
     "evalue": "emptyfunction() takes 0 positional arguments but 1 was given",
     "output_type": "error",
     "traceback": [
      "\u001b[1;31m---------------------------------------------------------------------------\u001b[0m",
      "\u001b[1;31mTypeError\u001b[0m                                 Traceback (most recent call last)",
      "\u001b[1;31mTypeError\u001b[0m: emptyfunction() takes 0 positional arguments but 1 was given"
     ]
    },
    {
     "ename": "TypeError",
     "evalue": "emptyfunction() takes 0 positional arguments but 1 was given",
     "output_type": "error",
     "traceback": [
      "\u001b[1;31m---------------------------------------------------------------------------\u001b[0m",
      "\u001b[1;31mTypeError\u001b[0m                                 Traceback (most recent call last)",
      "\u001b[1;31mTypeError\u001b[0m: emptyfunction() takes 0 positional arguments but 1 was given"
     ]
    },
    {
     "ename": "TypeError",
     "evalue": "emptyfunction() takes 0 positional arguments but 1 was given",
     "output_type": "error",
     "traceback": [
      "\u001b[1;31m---------------------------------------------------------------------------\u001b[0m",
      "\u001b[1;31mTypeError\u001b[0m                                 Traceback (most recent call last)",
      "\u001b[1;31mTypeError\u001b[0m: emptyfunction() takes 0 positional arguments but 1 was given"
     ]
    },
    {
     "ename": "TypeError",
     "evalue": "emptyfunction() takes 0 positional arguments but 1 was given",
     "output_type": "error",
     "traceback": [
      "\u001b[1;31m---------------------------------------------------------------------------\u001b[0m",
      "\u001b[1;31mTypeError\u001b[0m                                 Traceback (most recent call last)",
      "\u001b[1;31mTypeError\u001b[0m: emptyfunction() takes 0 positional arguments but 1 was given"
     ]
    },
    {
     "ename": "TypeError",
     "evalue": "emptyfunction() takes 0 positional arguments but 1 was given",
     "output_type": "error",
     "traceback": [
      "\u001b[1;31m---------------------------------------------------------------------------\u001b[0m",
      "\u001b[1;31mTypeError\u001b[0m                                 Traceback (most recent call last)",
      "\u001b[1;31mTypeError\u001b[0m: emptyfunction() takes 0 positional arguments but 1 was given"
     ]
    },
    {
     "ename": "TypeError",
     "evalue": "emptyfunction() takes 0 positional arguments but 1 was given",
     "output_type": "error",
     "traceback": [
      "\u001b[1;31m---------------------------------------------------------------------------\u001b[0m",
      "\u001b[1;31mTypeError\u001b[0m                                 Traceback (most recent call last)",
      "\u001b[1;31mTypeError\u001b[0m: emptyfunction() takes 0 positional arguments but 1 was given"
     ]
    },
    {
     "ename": "TypeError",
     "evalue": "emptyfunction() takes 0 positional arguments but 1 was given",
     "output_type": "error",
     "traceback": [
      "\u001b[1;31m---------------------------------------------------------------------------\u001b[0m",
      "\u001b[1;31mTypeError\u001b[0m                                 Traceback (most recent call last)",
      "\u001b[1;31mTypeError\u001b[0m: emptyfunction() takes 0 positional arguments but 1 was given"
     ]
    },
    {
     "ename": "TypeError",
     "evalue": "emptyfunction() takes 0 positional arguments but 1 was given",
     "output_type": "error",
     "traceback": [
      "\u001b[1;31m---------------------------------------------------------------------------\u001b[0m",
      "\u001b[1;31mTypeError\u001b[0m                                 Traceback (most recent call last)",
      "\u001b[1;31mTypeError\u001b[0m: emptyfunction() takes 0 positional arguments but 1 was given"
     ]
    },
    {
     "ename": "TypeError",
     "evalue": "emptyfunction() takes 0 positional arguments but 1 was given",
     "output_type": "error",
     "traceback": [
      "\u001b[1;31m---------------------------------------------------------------------------\u001b[0m",
      "\u001b[1;31mTypeError\u001b[0m                                 Traceback (most recent call last)",
      "\u001b[1;31mTypeError\u001b[0m: emptyfunction() takes 0 positional arguments but 1 was given"
     ]
    },
    {
     "ename": "TypeError",
     "evalue": "emptyfunction() takes 0 positional arguments but 1 was given",
     "output_type": "error",
     "traceback": [
      "\u001b[1;31m---------------------------------------------------------------------------\u001b[0m",
      "\u001b[1;31mTypeError\u001b[0m                                 Traceback (most recent call last)",
      "\u001b[1;31mTypeError\u001b[0m: emptyfunction() takes 0 positional arguments but 1 was given"
     ]
    },
    {
     "ename": "TypeError",
     "evalue": "emptyfunction() takes 0 positional arguments but 1 was given",
     "output_type": "error",
     "traceback": [
      "\u001b[1;31m---------------------------------------------------------------------------\u001b[0m",
      "\u001b[1;31mTypeError\u001b[0m                                 Traceback (most recent call last)",
      "\u001b[1;31mTypeError\u001b[0m: emptyfunction() takes 0 positional arguments but 1 was given"
     ]
    },
    {
     "name": "stdout",
     "output_type": "stream",
     "text": [
      "[157, 0, 0]\n",
      "[157, 0, 0]\n",
      "[157, 0, 0]\n"
     ]
    },
    {
     "ename": "TypeError",
     "evalue": "emptyfunction() takes 0 positional arguments but 1 was given",
     "output_type": "error",
     "traceback": [
      "\u001b[1;31m---------------------------------------------------------------------------\u001b[0m",
      "\u001b[1;31mTypeError\u001b[0m                                 Traceback (most recent call last)",
      "\u001b[1;31mTypeError\u001b[0m: emptyfunction() takes 0 positional arguments but 1 was given"
     ]
    },
    {
     "ename": "TypeError",
     "evalue": "emptyfunction() takes 0 positional arguments but 1 was given",
     "output_type": "error",
     "traceback": [
      "\u001b[1;31m---------------------------------------------------------------------------\u001b[0m",
      "\u001b[1;31mTypeError\u001b[0m                                 Traceback (most recent call last)",
      "\u001b[1;31mTypeError\u001b[0m: emptyfunction() takes 0 positional arguments but 1 was given"
     ]
    },
    {
     "ename": "TypeError",
     "evalue": "emptyfunction() takes 0 positional arguments but 1 was given",
     "output_type": "error",
     "traceback": [
      "\u001b[1;31m---------------------------------------------------------------------------\u001b[0m",
      "\u001b[1;31mTypeError\u001b[0m                                 Traceback (most recent call last)",
      "\u001b[1;31mTypeError\u001b[0m: emptyfunction() takes 0 positional arguments but 1 was given"
     ]
    },
    {
     "ename": "TypeError",
     "evalue": "emptyfunction() takes 0 positional arguments but 1 was given",
     "output_type": "error",
     "traceback": [
      "\u001b[1;31m---------------------------------------------------------------------------\u001b[0m",
      "\u001b[1;31mTypeError\u001b[0m                                 Traceback (most recent call last)",
      "\u001b[1;31mTypeError\u001b[0m: emptyfunction() takes 0 positional arguments but 1 was given"
     ]
    },
    {
     "ename": "TypeError",
     "evalue": "emptyfunction() takes 0 positional arguments but 1 was given",
     "output_type": "error",
     "traceback": [
      "\u001b[1;31m---------------------------------------------------------------------------\u001b[0m",
      "\u001b[1;31mTypeError\u001b[0m                                 Traceback (most recent call last)",
      "\u001b[1;31mTypeError\u001b[0m: emptyfunction() takes 0 positional arguments but 1 was given"
     ]
    },
    {
     "ename": "TypeError",
     "evalue": "emptyfunction() takes 0 positional arguments but 1 was given",
     "output_type": "error",
     "traceback": [
      "\u001b[1;31m---------------------------------------------------------------------------\u001b[0m",
      "\u001b[1;31mTypeError\u001b[0m                                 Traceback (most recent call last)",
      "\u001b[1;31mTypeError\u001b[0m: emptyfunction() takes 0 positional arguments but 1 was given"
     ]
    },
    {
     "ename": "TypeError",
     "evalue": "emptyfunction() takes 0 positional arguments but 1 was given",
     "output_type": "error",
     "traceback": [
      "\u001b[1;31m---------------------------------------------------------------------------\u001b[0m",
      "\u001b[1;31mTypeError\u001b[0m                                 Traceback (most recent call last)",
      "\u001b[1;31mTypeError\u001b[0m: emptyfunction() takes 0 positional arguments but 1 was given"
     ]
    },
    {
     "ename": "TypeError",
     "evalue": "emptyfunction() takes 0 positional arguments but 1 was given",
     "output_type": "error",
     "traceback": [
      "\u001b[1;31m---------------------------------------------------------------------------\u001b[0m",
      "\u001b[1;31mTypeError\u001b[0m                                 Traceback (most recent call last)",
      "\u001b[1;31mTypeError\u001b[0m: emptyfunction() takes 0 positional arguments but 1 was given"
     ]
    },
    {
     "ename": "TypeError",
     "evalue": "emptyfunction() takes 0 positional arguments but 1 was given",
     "output_type": "error",
     "traceback": [
      "\u001b[1;31m---------------------------------------------------------------------------\u001b[0m",
      "\u001b[1;31mTypeError\u001b[0m                                 Traceback (most recent call last)",
      "\u001b[1;31mTypeError\u001b[0m: emptyfunction() takes 0 positional arguments but 1 was given"
     ]
    },
    {
     "ename": "TypeError",
     "evalue": "emptyfunction() takes 0 positional arguments but 1 was given",
     "output_type": "error",
     "traceback": [
      "\u001b[1;31m---------------------------------------------------------------------------\u001b[0m",
      "\u001b[1;31mTypeError\u001b[0m                                 Traceback (most recent call last)",
      "\u001b[1;31mTypeError\u001b[0m: emptyfunction() takes 0 positional arguments but 1 was given"
     ]
    },
    {
     "ename": "TypeError",
     "evalue": "emptyfunction() takes 0 positional arguments but 1 was given",
     "output_type": "error",
     "traceback": [
      "\u001b[1;31m---------------------------------------------------------------------------\u001b[0m",
      "\u001b[1;31mTypeError\u001b[0m                                 Traceback (most recent call last)",
      "\u001b[1;31mTypeError\u001b[0m: emptyfunction() takes 0 positional arguments but 1 was given"
     ]
    },
    {
     "ename": "TypeError",
     "evalue": "emptyfunction() takes 0 positional arguments but 1 was given",
     "output_type": "error",
     "traceback": [
      "\u001b[1;31m---------------------------------------------------------------------------\u001b[0m",
      "\u001b[1;31mTypeError\u001b[0m                                 Traceback (most recent call last)",
      "\u001b[1;31mTypeError\u001b[0m: emptyfunction() takes 0 positional arguments but 1 was given"
     ]
    },
    {
     "ename": "TypeError",
     "evalue": "emptyfunction() takes 0 positional arguments but 1 was given",
     "output_type": "error",
     "traceback": [
      "\u001b[1;31m---------------------------------------------------------------------------\u001b[0m",
      "\u001b[1;31mTypeError\u001b[0m                                 Traceback (most recent call last)",
      "\u001b[1;31mTypeError\u001b[0m: emptyfunction() takes 0 positional arguments but 1 was given"
     ]
    },
    {
     "name": "stdout",
     "output_type": "stream",
     "text": [
      "[206, 0, 0]\n"
     ]
    },
    {
     "ename": "TypeError",
     "evalue": "emptyfunction() takes 0 positional arguments but 1 was given",
     "output_type": "error",
     "traceback": [
      "\u001b[1;31m---------------------------------------------------------------------------\u001b[0m",
      "\u001b[1;31mTypeError\u001b[0m                                 Traceback (most recent call last)",
      "\u001b[1;31mTypeError\u001b[0m: emptyfunction() takes 0 positional arguments but 1 was given"
     ]
    },
    {
     "ename": "TypeError",
     "evalue": "emptyfunction() takes 0 positional arguments but 1 was given",
     "output_type": "error",
     "traceback": [
      "\u001b[1;31m---------------------------------------------------------------------------\u001b[0m",
      "\u001b[1;31mTypeError\u001b[0m                                 Traceback (most recent call last)",
      "\u001b[1;31mTypeError\u001b[0m: emptyfunction() takes 0 positional arguments but 1 was given"
     ]
    },
    {
     "ename": "TypeError",
     "evalue": "emptyfunction() takes 0 positional arguments but 1 was given",
     "output_type": "error",
     "traceback": [
      "\u001b[1;31m---------------------------------------------------------------------------\u001b[0m",
      "\u001b[1;31mTypeError\u001b[0m                                 Traceback (most recent call last)",
      "\u001b[1;31mTypeError\u001b[0m: emptyfunction() takes 0 positional arguments but 1 was given"
     ]
    },
    {
     "name": "stdout",
     "output_type": "stream",
     "text": [
      "[218, 0, 0]\n"
     ]
    },
    {
     "ename": "TypeError",
     "evalue": "emptyfunction() takes 0 positional arguments but 1 was given",
     "output_type": "error",
     "traceback": [
      "\u001b[1;31m---------------------------------------------------------------------------\u001b[0m",
      "\u001b[1;31mTypeError\u001b[0m                                 Traceback (most recent call last)",
      "\u001b[1;31mTypeError\u001b[0m: emptyfunction() takes 0 positional arguments but 1 was given"
     ]
    },
    {
     "name": "stdout",
     "output_type": "stream",
     "text": [
      "[221, 0, 0]\n"
     ]
    },
    {
     "ename": "TypeError",
     "evalue": "emptyfunction() takes 0 positional arguments but 1 was given",
     "output_type": "error",
     "traceback": [
      "\u001b[1;31m---------------------------------------------------------------------------\u001b[0m",
      "\u001b[1;31mTypeError\u001b[0m                                 Traceback (most recent call last)",
      "\u001b[1;31mTypeError\u001b[0m: emptyfunction() takes 0 positional arguments but 1 was given"
     ]
    },
    {
     "ename": "TypeError",
     "evalue": "emptyfunction() takes 0 positional arguments but 1 was given",
     "output_type": "error",
     "traceback": [
      "\u001b[1;31m---------------------------------------------------------------------------\u001b[0m",
      "\u001b[1;31mTypeError\u001b[0m                                 Traceback (most recent call last)",
      "\u001b[1;31mTypeError\u001b[0m: emptyfunction() takes 0 positional arguments but 1 was given"
     ]
    },
    {
     "name": "stdout",
     "output_type": "stream",
     "text": [
      "[223, 0, 0]\n",
      "[223, 0, 0]\n"
     ]
    },
    {
     "ename": "TypeError",
     "evalue": "emptyfunction() takes 0 positional arguments but 1 was given",
     "output_type": "error",
     "traceback": [
      "\u001b[1;31m---------------------------------------------------------------------------\u001b[0m",
      "\u001b[1;31mTypeError\u001b[0m                                 Traceback (most recent call last)",
      "\u001b[1;31mTypeError\u001b[0m: emptyfunction() takes 0 positional arguments but 1 was given"
     ]
    },
    {
     "name": "stdout",
     "output_type": "stream",
     "text": [
      "[225, 0, 0]\n"
     ]
    },
    {
     "ename": "TypeError",
     "evalue": "emptyfunction() takes 0 positional arguments but 1 was given",
     "output_type": "error",
     "traceback": [
      "\u001b[1;31m---------------------------------------------------------------------------\u001b[0m",
      "\u001b[1;31mTypeError\u001b[0m                                 Traceback (most recent call last)",
      "\u001b[1;31mTypeError\u001b[0m: emptyfunction() takes 0 positional arguments but 1 was given"
     ]
    },
    {
     "ename": "TypeError",
     "evalue": "emptyfunction() takes 0 positional arguments but 1 was given",
     "output_type": "error",
     "traceback": [
      "\u001b[1;31m---------------------------------------------------------------------------\u001b[0m",
      "\u001b[1;31mTypeError\u001b[0m                                 Traceback (most recent call last)",
      "\u001b[1;31mTypeError\u001b[0m: emptyfunction() takes 0 positional arguments but 1 was given"
     ]
    },
    {
     "name": "stdout",
     "output_type": "stream",
     "text": [
      "[230, 0, 0]\n"
     ]
    },
    {
     "ename": "TypeError",
     "evalue": "emptyfunction() takes 0 positional arguments but 1 was given",
     "output_type": "error",
     "traceback": [
      "\u001b[1;31m---------------------------------------------------------------------------\u001b[0m",
      "\u001b[1;31mTypeError\u001b[0m                                 Traceback (most recent call last)",
      "\u001b[1;31mTypeError\u001b[0m: emptyfunction() takes 0 positional arguments but 1 was given"
     ]
    },
    {
     "ename": "TypeError",
     "evalue": "emptyfunction() takes 0 positional arguments but 1 was given",
     "output_type": "error",
     "traceback": [
      "\u001b[1;31m---------------------------------------------------------------------------\u001b[0m",
      "\u001b[1;31mTypeError\u001b[0m                                 Traceback (most recent call last)",
      "\u001b[1;31mTypeError\u001b[0m: emptyfunction() takes 0 positional arguments but 1 was given"
     ]
    },
    {
     "ename": "TypeError",
     "evalue": "emptyfunction() takes 0 positional arguments but 1 was given",
     "output_type": "error",
     "traceback": [
      "\u001b[1;31m---------------------------------------------------------------------------\u001b[0m",
      "\u001b[1;31mTypeError\u001b[0m                                 Traceback (most recent call last)",
      "\u001b[1;31mTypeError\u001b[0m: emptyfunction() takes 0 positional arguments but 1 was given"
     ]
    },
    {
     "ename": "TypeError",
     "evalue": "emptyfunction() takes 0 positional arguments but 1 was given",
     "output_type": "error",
     "traceback": [
      "\u001b[1;31m---------------------------------------------------------------------------\u001b[0m",
      "\u001b[1;31mTypeError\u001b[0m                                 Traceback (most recent call last)",
      "\u001b[1;31mTypeError\u001b[0m: emptyfunction() takes 0 positional arguments but 1 was given"
     ]
    },
    {
     "ename": "TypeError",
     "evalue": "emptyfunction() takes 0 positional arguments but 1 was given",
     "output_type": "error",
     "traceback": [
      "\u001b[1;31m---------------------------------------------------------------------------\u001b[0m",
      "\u001b[1;31mTypeError\u001b[0m                                 Traceback (most recent call last)",
      "\u001b[1;31mTypeError\u001b[0m: emptyfunction() takes 0 positional arguments but 1 was given"
     ]
    },
    {
     "ename": "TypeError",
     "evalue": "emptyfunction() takes 0 positional arguments but 1 was given",
     "output_type": "error",
     "traceback": [
      "\u001b[1;31m---------------------------------------------------------------------------\u001b[0m",
      "\u001b[1;31mTypeError\u001b[0m                                 Traceback (most recent call last)",
      "\u001b[1;31mTypeError\u001b[0m: emptyfunction() takes 0 positional arguments but 1 was given"
     ]
    },
    {
     "name": "stdout",
     "output_type": "stream",
     "text": [
      "[255, 0, 0]\n",
      "[255, 0, 0]\n",
      "[255, 0, 0]\n",
      "[255, 0, 0]\n",
      "[255, 0, 0]\n",
      "[255, 0, 0]\n",
      "[255, 0, 0]\n",
      "[255, 0, 0]\n",
      "[255, 0, 0]\n",
      "[255, 0, 0]\n",
      "[255, 0, 0]\n",
      "[255, 0, 0]\n",
      "[255, 0, 0]\n",
      "[255, 0, 0]\n",
      "[255, 0, 0]\n",
      "[255, 0, 0]\n",
      "[255, 0, 0]\n",
      "[255, 0, 0]\n",
      "[255, 0, 0]\n",
      "[255, 0, 0]\n",
      "[255, 0, 0]\n",
      "[255, 0, 0]\n",
      "[255, 0, 0]\n",
      "[255, 0, 0]\n",
      "[255, 0, 0]\n",
      "[255, 0, 0]\n",
      "[255, 0, 0]\n",
      "[255, 0, 0]\n",
      "[255, 0, 0]\n",
      "[255, 0, 0]\n",
      "[255, 0, 0]\n",
      "[255, 0, 0]\n",
      "[255, 0, 0]\n",
      "[255, 0, 0]\n",
      "[255, 0, 0]\n",
      "[255, 0, 0]\n",
      "[255, 0, 0]\n",
      "[255, 0, 0]\n",
      "[255, 0, 0]\n",
      "[255, 0, 0]\n",
      "[255, 0, 0]\n",
      "[255, 0, 0]\n",
      "[255, 0, 0]\n",
      "[255, 0, 0]\n",
      "[255, 0, 0]\n",
      "[255, 0, 0]\n"
     ]
    },
    {
     "ename": "TypeError",
     "evalue": "emptyfunction() takes 0 positional arguments but 1 was given",
     "output_type": "error",
     "traceback": [
      "\u001b[1;31m---------------------------------------------------------------------------\u001b[0m",
      "\u001b[1;31mTypeError\u001b[0m                                 Traceback (most recent call last)",
      "\u001b[1;31mTypeError\u001b[0m: emptyfunction() takes 0 positional arguments but 1 was given"
     ]
    },
    {
     "ename": "TypeError",
     "evalue": "emptyfunction() takes 0 positional arguments but 1 was given",
     "output_type": "error",
     "traceback": [
      "\u001b[1;31m---------------------------------------------------------------------------\u001b[0m",
      "\u001b[1;31mTypeError\u001b[0m                                 Traceback (most recent call last)",
      "\u001b[1;31mTypeError\u001b[0m: emptyfunction() takes 0 positional arguments but 1 was given"
     ]
    },
    {
     "ename": "TypeError",
     "evalue": "emptyfunction() takes 0 positional arguments but 1 was given",
     "output_type": "error",
     "traceback": [
      "\u001b[1;31m---------------------------------------------------------------------------\u001b[0m",
      "\u001b[1;31mTypeError\u001b[0m                                 Traceback (most recent call last)",
      "\u001b[1;31mTypeError\u001b[0m: emptyfunction() takes 0 positional arguments but 1 was given"
     ]
    },
    {
     "ename": "TypeError",
     "evalue": "emptyfunction() takes 0 positional arguments but 1 was given",
     "output_type": "error",
     "traceback": [
      "\u001b[1;31m---------------------------------------------------------------------------\u001b[0m",
      "\u001b[1;31mTypeError\u001b[0m                                 Traceback (most recent call last)",
      "\u001b[1;31mTypeError\u001b[0m: emptyfunction() takes 0 positional arguments but 1 was given"
     ]
    },
    {
     "ename": "TypeError",
     "evalue": "emptyfunction() takes 0 positional arguments but 1 was given",
     "output_type": "error",
     "traceback": [
      "\u001b[1;31m---------------------------------------------------------------------------\u001b[0m",
      "\u001b[1;31mTypeError\u001b[0m                                 Traceback (most recent call last)",
      "\u001b[1;31mTypeError\u001b[0m: emptyfunction() takes 0 positional arguments but 1 was given"
     ]
    },
    {
     "ename": "TypeError",
     "evalue": "emptyfunction() takes 0 positional arguments but 1 was given",
     "output_type": "error",
     "traceback": [
      "\u001b[1;31m---------------------------------------------------------------------------\u001b[0m",
      "\u001b[1;31mTypeError\u001b[0m                                 Traceback (most recent call last)",
      "\u001b[1;31mTypeError\u001b[0m: emptyfunction() takes 0 positional arguments but 1 was given"
     ]
    },
    {
     "ename": "TypeError",
     "evalue": "emptyfunction() takes 0 positional arguments but 1 was given",
     "output_type": "error",
     "traceback": [
      "\u001b[1;31m---------------------------------------------------------------------------\u001b[0m",
      "\u001b[1;31mTypeError\u001b[0m                                 Traceback (most recent call last)",
      "\u001b[1;31mTypeError\u001b[0m: emptyfunction() takes 0 positional arguments but 1 was given"
     ]
    },
    {
     "ename": "TypeError",
     "evalue": "emptyfunction() takes 0 positional arguments but 1 was given",
     "output_type": "error",
     "traceback": [
      "\u001b[1;31m---------------------------------------------------------------------------\u001b[0m",
      "\u001b[1;31mTypeError\u001b[0m                                 Traceback (most recent call last)",
      "\u001b[1;31mTypeError\u001b[0m: emptyfunction() takes 0 positional arguments but 1 was given"
     ]
    },
    {
     "ename": "TypeError",
     "evalue": "emptyfunction() takes 0 positional arguments but 1 was given",
     "output_type": "error",
     "traceback": [
      "\u001b[1;31m---------------------------------------------------------------------------\u001b[0m",
      "\u001b[1;31mTypeError\u001b[0m                                 Traceback (most recent call last)",
      "\u001b[1;31mTypeError\u001b[0m: emptyfunction() takes 0 positional arguments but 1 was given"
     ]
    },
    {
     "ename": "TypeError",
     "evalue": "emptyfunction() takes 0 positional arguments but 1 was given",
     "output_type": "error",
     "traceback": [
      "\u001b[1;31m---------------------------------------------------------------------------\u001b[0m",
      "\u001b[1;31mTypeError\u001b[0m                                 Traceback (most recent call last)",
      "\u001b[1;31mTypeError\u001b[0m: emptyfunction() takes 0 positional arguments but 1 was given"
     ]
    },
    {
     "ename": "TypeError",
     "evalue": "emptyfunction() takes 0 positional arguments but 1 was given",
     "output_type": "error",
     "traceback": [
      "\u001b[1;31m---------------------------------------------------------------------------\u001b[0m",
      "\u001b[1;31mTypeError\u001b[0m                                 Traceback (most recent call last)",
      "\u001b[1;31mTypeError\u001b[0m: emptyfunction() takes 0 positional arguments but 1 was given"
     ]
    },
    {
     "ename": "TypeError",
     "evalue": "emptyfunction() takes 0 positional arguments but 1 was given",
     "output_type": "error",
     "traceback": [
      "\u001b[1;31m---------------------------------------------------------------------------\u001b[0m",
      "\u001b[1;31mTypeError\u001b[0m                                 Traceback (most recent call last)",
      "\u001b[1;31mTypeError\u001b[0m: emptyfunction() takes 0 positional arguments but 1 was given"
     ]
    },
    {
     "ename": "TypeError",
     "evalue": "emptyfunction() takes 0 positional arguments but 1 was given",
     "output_type": "error",
     "traceback": [
      "\u001b[1;31m---------------------------------------------------------------------------\u001b[0m",
      "\u001b[1;31mTypeError\u001b[0m                                 Traceback (most recent call last)",
      "\u001b[1;31mTypeError\u001b[0m: emptyfunction() takes 0 positional arguments but 1 was given"
     ]
    },
    {
     "ename": "TypeError",
     "evalue": "emptyfunction() takes 0 positional arguments but 1 was given",
     "output_type": "error",
     "traceback": [
      "\u001b[1;31m---------------------------------------------------------------------------\u001b[0m",
      "\u001b[1;31mTypeError\u001b[0m                                 Traceback (most recent call last)",
      "\u001b[1;31mTypeError\u001b[0m: emptyfunction() takes 0 positional arguments but 1 was given"
     ]
    },
    {
     "ename": "TypeError",
     "evalue": "emptyfunction() takes 0 positional arguments but 1 was given",
     "output_type": "error",
     "traceback": [
      "\u001b[1;31m---------------------------------------------------------------------------\u001b[0m",
      "\u001b[1;31mTypeError\u001b[0m                                 Traceback (most recent call last)",
      "\u001b[1;31mTypeError\u001b[0m: emptyfunction() takes 0 positional arguments but 1 was given"
     ]
    },
    {
     "ename": "TypeError",
     "evalue": "emptyfunction() takes 0 positional arguments but 1 was given",
     "output_type": "error",
     "traceback": [
      "\u001b[1;31m---------------------------------------------------------------------------\u001b[0m",
      "\u001b[1;31mTypeError\u001b[0m                                 Traceback (most recent call last)",
      "\u001b[1;31mTypeError\u001b[0m: emptyfunction() takes 0 positional arguments but 1 was given"
     ]
    },
    {
     "name": "stdout",
     "output_type": "stream",
     "text": [
      "[0, 0, 0]\n",
      "[0, 0, 0]\n",
      "[0, 0, 0]\n",
      "[0, 0, 0]\n",
      "[0, 0, 0]\n",
      "[0, 0, 0]\n",
      "[0, 0, 0]\n",
      "[0, 0, 0]\n",
      "[0, 0, 0]\n",
      "[0, 0, 0]\n",
      "[0, 0, 0]\n",
      "[0, 0, 0]\n",
      "[0, 0, 0]\n",
      "[0, 0, 0]\n",
      "[0, 0, 0]\n",
      "[0, 0, 0]\n",
      "[0, 0, 0]\n",
      "[0, 0, 0]\n",
      "[0, 0, 0]\n",
      "[0, 0, 0]\n",
      "[0, 0, 0]\n",
      "[0, 0, 0]\n",
      "[0, 0, 0]\n",
      "[0, 0, 0]\n",
      "[0, 0, 0]\n",
      "[0, 0, 0]\n",
      "[0, 0, 0]\n",
      "[0, 0, 0]\n",
      "[0, 0, 0]\n",
      "[0, 0, 0]\n",
      "[0, 0, 0]\n",
      "[0, 0, 0]\n",
      "[0, 0, 0]\n",
      "[0, 0, 0]\n",
      "[0, 0, 0]\n",
      "[0, 0, 0]\n",
      "[0, 0, 0]\n",
      "[0, 0, 0]\n",
      "[0, 0, 0]\n",
      "[0, 0, 0]\n",
      "[0, 0, 0]\n",
      "[0, 0, 0]\n",
      "[0, 0, 0]\n",
      "[0, 0, 0]\n",
      "[0, 0, 0]\n",
      "[0, 0, 0]\n",
      "[0, 0, 0]\n",
      "[0, 0, 0]\n",
      "[0, 0, 0]\n",
      "[0, 0, 0]\n",
      "[0, 0, 0]\n",
      "[0, 0, 0]\n",
      "[0, 0, 0]\n",
      "[0, 0, 0]\n",
      "[0, 0, 0]\n",
      "[0, 0, 0]\n",
      "[0, 0, 0]\n",
      "[0, 0, 0]\n",
      "[0, 0, 0]\n",
      "[0, 0, 0]\n",
      "[0, 0, 0]\n",
      "[0, 0, 0]\n",
      "[0, 0, 0]\n",
      "[0, 0, 0]\n",
      "[0, 0, 0]\n",
      "[0, 0, 0]\n",
      "[0, 0, 0]\n",
      "[0, 0, 0]\n",
      "[0, 0, 0]\n",
      "[0, 0, 0]\n",
      "[0, 0, 0]\n",
      "[0, 0, 0]\n",
      "[0, 0, 0]\n",
      "[0, 0, 0]\n",
      "[0, 0, 0]\n",
      "[0, 0, 0]\n",
      "[0, 0, 0]\n",
      "[0, 0, 0]\n",
      "[0, 0, 0]\n",
      "[0, 0, 0]\n",
      "[0, 0, 0]\n",
      "[0, 0, 0]\n",
      "[0, 0, 0]\n",
      "[0, 0, 0]\n",
      "[0, 0, 0]\n",
      "[0, 0, 0]\n",
      "[0, 0, 0]\n",
      "[0, 0, 0]\n",
      "[0, 0, 0]\n",
      "[0, 0, 0]\n",
      "[0, 0, 0]\n",
      "[0, 0, 0]\n",
      "[0, 0, 0]\n",
      "[0, 0, 0]\n",
      "[0, 0, 0]\n",
      "[0, 0, 0]\n",
      "[0, 0, 0]\n",
      "[0, 0, 0]\n",
      "[0, 0, 0]\n",
      "[0, 0, 0]\n",
      "[0, 0, 0]\n",
      "[0, 0, 0]\n",
      "[0, 0, 0]\n",
      "[0, 0, 0]\n",
      "[0, 0, 0]\n",
      "[0, 0, 0]\n",
      "[0, 0, 0]\n",
      "[0, 0, 0]\n",
      "[0, 0, 0]\n",
      "[0, 0, 0]\n",
      "[0, 0, 0]\n",
      "[0, 0, 0]\n",
      "[0, 0, 0]\n",
      "[0, 0, 0]\n",
      "[0, 0, 0]\n",
      "[0, 0, 0]\n",
      "[0, 0, 0]\n",
      "[0, 0, 0]\n",
      "[0, 0, 0]\n",
      "[0, 0, 0]\n",
      "[0, 0, 0]\n",
      "[0, 0, 0]\n",
      "[0, 0, 0]\n",
      "[0, 0, 0]\n",
      "[0, 0, 0]\n",
      "[0, 0, 0]\n",
      "[0, 0, 0]\n",
      "[0, 0, 0]\n",
      "[0, 0, 0]\n",
      "[0, 0, 0]\n",
      "[0, 0, 0]\n",
      "[0, 0, 0]\n",
      "[0, 0, 0]\n",
      "[0, 0, 0]\n",
      "[0, 0, 0]\n",
      "[0, 0, 0]\n",
      "[0, 0, 0]\n",
      "[0, 0, 0]\n",
      "[0, 0, 0]\n",
      "[0, 0, 0]\n",
      "[0, 0, 0]\n",
      "[0, 0, 0]\n",
      "[0, 0, 0]\n",
      "[0, 0, 0]\n",
      "[0, 0, 0]\n",
      "[0, 0, 0]\n",
      "[0, 0, 0]\n",
      "[0, 0, 0]\n",
      "[0, 0, 0]\n",
      "[0, 0, 0]\n",
      "[0, 0, 0]\n",
      "[0, 0, 0]\n",
      "[0, 0, 0]\n",
      "[0, 0, 0]\n",
      "[0, 0, 0]\n",
      "[0, 0, 0]\n",
      "[0, 0, 0]\n",
      "[0, 0, 0]\n",
      "[0, 0, 0]\n",
      "[0, 0, 0]\n",
      "[0, 0, 0]\n",
      "[0, 0, 0]\n",
      "[0, 0, 0]\n",
      "[0, 0, 0]\n",
      "[0, 0, 0]\n",
      "[0, 0, 0]\n",
      "[0, 0, 0]\n",
      "[0, 0, 0]\n",
      "[0, 0, 0]\n",
      "[0, 0, 0]\n",
      "[0, 0, 0]\n",
      "[0, 0, 0]\n",
      "[0, 0, 0]\n",
      "[0, 0, 0]\n",
      "[0, 0, 0]\n",
      "[0, 0, 0]\n",
      "[0, 0, 0]\n",
      "[0, 0, 0]\n",
      "[0, 0, 0]\n",
      "[0, 0, 0]\n",
      "[0, 0, 0]\n",
      "[0, 0, 0]\n",
      "[0, 0, 0]\n",
      "[0, 0, 0]\n",
      "[0, 0, 0]\n",
      "[0, 0, 0]\n",
      "[0, 0, 0]\n",
      "[0, 0, 0]\n",
      "[0, 0, 0]\n",
      "[0, 0, 0]\n",
      "[0, 0, 0]\n",
      "[0, 0, 0]\n",
      "[0, 0, 0]\n",
      "[0, 0, 0]\n",
      "[0, 0, 0]\n",
      "[0, 0, 0]\n",
      "[0, 0, 0]\n",
      "[0, 0, 0]\n",
      "[0, 0, 0]\n",
      "[0, 0, 0]\n",
      "[0, 0, 0]\n",
      "[0, 0, 0]\n",
      "[0, 0, 0]\n",
      "[0, 0, 0]\n",
      "[0, 0, 0]\n",
      "[0, 0, 0]\n",
      "[0, 0, 0]\n",
      "[0, 0, 0]\n",
      "[0, 0, 0]\n",
      "[0, 0, 0]\n",
      "[0, 0, 0]\n",
      "[0, 0, 0]\n",
      "[0, 0, 0]\n",
      "[0, 0, 0]\n",
      "[0, 0, 0]\n",
      "[0, 0, 0]\n",
      "[0, 0, 0]\n",
      "[0, 0, 0]\n",
      "[0, 0, 0]\n",
      "[0, 0, 0]\n",
      "[0, 0, 0]\n",
      "[0, 0, 0]\n",
      "[0, 0, 0]\n",
      "[0, 0, 0]\n",
      "[-1, -1, -1]\n",
      "[-1, -1, -1]\n",
      "[-1, -1, -1]\n",
      "[-1, -1, -1]\n",
      "[-1, -1, -1]\n",
      "[-1, -1, -1]\n",
      "[-1, -1, -1]\n",
      "[-1, -1, -1]\n",
      "[-1, -1, -1]\n",
      "[-1, -1, -1]\n",
      "[-1, -1, -1]\n",
      "[-1, -1, -1]\n",
      "[-1, -1, -1]\n",
      "[-1, -1, -1]\n",
      "[-1, -1, -1]\n",
      "[-1, -1, -1]\n",
      "[-1, -1, -1]\n",
      "[-1, -1, -1]\n",
      "[-1, -1, -1]\n",
      "[-1, -1, -1]\n",
      "[-1, -1, -1]\n",
      "[-1, -1, -1]\n",
      "[-1, -1, -1]\n",
      "[-1, -1, -1]\n",
      "[-1, -1, -1]\n",
      "[-1, -1, -1]\n",
      "[-1, -1, -1]\n",
      "[-1, -1, -1]\n",
      "[-1, -1, -1]\n",
      "[-1, -1, -1]\n",
      "[-1, -1, -1]\n",
      "[-1, -1, -1]\n",
      "[-1, -1, -1]\n",
      "[-1, -1, -1]\n",
      "[-1, -1, -1]\n",
      "[-1, -1, -1]\n",
      "[-1, -1, -1]\n",
      "[-1, -1, -1]\n",
      "[-1, -1, -1]\n",
      "[-1, -1, -1]\n",
      "[-1, -1, -1]\n",
      "[-1, -1, -1]\n",
      "[-1, -1, -1]\n",
      "[-1, -1, -1]\n",
      "[-1, -1, -1]\n",
      "[-1, -1, -1]\n",
      "[-1, -1, -1]\n",
      "[-1, -1, -1]\n",
      "[-1, -1, -1]\n",
      "[-1, -1, -1]\n",
      "[-1, -1, -1]\n",
      "[-1, -1, -1]\n",
      "[-1, -1, -1]\n",
      "[-1, -1, -1]\n",
      "[-1, -1, -1]\n",
      "[-1, -1, -1]\n",
      "[-1, -1, -1]\n",
      "[-1, -1, -1]\n",
      "[-1, -1, -1]\n",
      "[-1, -1, -1]\n",
      "[-1, -1, -1]\n",
      "[-1, -1, -1]\n",
      "[-1, -1, -1]\n",
      "[-1, -1, -1]\n",
      "[-1, -1, -1]\n",
      "[-1, -1, -1]\n",
      "[-1, -1, -1]\n",
      "[-1, -1, -1]\n",
      "[-1, -1, -1]\n",
      "[-1, -1, -1]\n",
      "[-1, -1, -1]\n",
      "[-1, -1, -1]\n",
      "[-1, -1, -1]\n",
      "[-1, -1, -1]\n",
      "[-1, -1, -1]\n",
      "[-1, -1, -1]\n",
      "[-1, -1, -1]\n",
      "[-1, -1, -1]\n",
      "[-1, -1, -1]\n",
      "[-1, -1, -1]\n",
      "[-1, -1, -1]\n",
      "[-1, -1, -1]\n",
      "[-1, -1, -1]\n",
      "[-1, -1, -1]\n",
      "[-1, -1, -1]\n",
      "[-1, -1, -1]\n",
      "[-1, -1, -1]\n",
      "[-1, -1, -1]\n",
      "[-1, -1, -1]\n",
      "[-1, -1, -1]\n",
      "[-1, -1, -1]\n",
      "[-1, -1, -1]\n",
      "[-1, -1, -1]\n",
      "[-1, -1, -1]\n",
      "[-1, -1, -1]\n",
      "[-1, -1, -1]\n",
      "[-1, -1, -1]\n",
      "[-1, -1, -1]\n",
      "[-1, -1, -1]\n",
      "[-1, -1, -1]\n",
      "[-1, -1, -1]\n",
      "[-1, -1, -1]\n",
      "[-1, -1, -1]\n",
      "[-1, -1, -1]\n",
      "[-1, -1, -1]\n",
      "[-1, -1, -1]\n",
      "[-1, -1, -1]\n",
      "[-1, -1, -1]\n",
      "[-1, -1, -1]\n",
      "[-1, -1, -1]\n",
      "[-1, -1, -1]\n",
      "[-1, -1, -1]\n",
      "[-1, -1, -1]\n",
      "[-1, -1, -1]\n",
      "[-1, -1, -1]\n",
      "[-1, -1, -1]\n",
      "[-1, -1, -1]\n",
      "[-1, -1, -1]\n",
      "[-1, -1, -1]\n",
      "[-1, -1, -1]\n",
      "[-1, -1, -1]\n",
      "[-1, -1, -1]\n",
      "[-1, -1, -1]\n",
      "[-1, -1, -1]\n",
      "[-1, -1, -1]\n",
      "[-1, -1, -1]\n",
      "[-1, -1, -1]\n",
      "[-1, -1, -1]\n",
      "[-1, -1, -1]\n",
      "[-1, -1, -1]\n",
      "[-1, -1, -1]\n",
      "[-1, -1, -1]\n",
      "[-1, -1, -1]\n",
      "[-1, -1, -1]\n",
      "[-1, -1, -1]\n",
      "[-1, -1, -1]\n",
      "[-1, -1, -1]\n",
      "[-1, -1, -1]\n",
      "[-1, -1, -1]\n",
      "[-1, -1, -1]\n",
      "[-1, -1, -1]\n",
      "[-1, -1, -1]\n",
      "[-1, -1, -1]\n",
      "[-1, -1, -1]\n",
      "[-1, -1, -1]\n",
      "[-1, -1, -1]\n",
      "[-1, -1, -1]\n"
     ]
    }
   ],
   "source": [
    "import cv2\n",
    "import numpy as np \n",
    "\n",
    "\n",
    "WindowName='ilk Deneme'\n",
    "\n",
    "cv2.namedWindow(WindowName)\n",
    "\n",
    "image2=np.zeros((512,512,3),np.uint8)\n",
    "\n",
    "imagec=np.copy(image2)\n",
    "\n",
    "\n",
    "\n",
    "\n",
    "def emptyfunction():\n",
    "    pass \n",
    "\n",
    "\n",
    "\n",
    "\n",
    "\n",
    "def main():\n",
    "    \n",
    "    cv2.createTrackbar('a1',WindowName,0,255,emptyfunction)\n",
    "\n",
    "    a2=cv2.createTrackbar('a2',WindowName,0,255,emptyfunction)\n",
    "\n",
    "    a3=cv2.createTrackbar('a3',WindowName, 0,255,emptyfunction)\n",
    "\n",
    "    while (True):\n",
    "        \n",
    "        \n",
    "        cv2.imshow(WindowName,imagec)\n",
    "        \n",
    "        if cv2.waitKey(1)==27:\n",
    "            break\n",
    "        \n",
    "        \n",
    "        red=cv2.getTrackbarPos('a1',WindowName)\n",
    "        \n",
    "        blue=cv2.getTrackbarPos('a2',WindowName)\n",
    "        \n",
    "        green=cv2.getTrackbarPos('a3',WindowName)\n",
    "        \n",
    "        imagec[:]=[red,blue,green]\n",
    "        \n",
    "        \n",
    "        print([red,blue,green])\n",
    "        \n",
    "            \n",
    "    cv2.destroyAllWindows()\n",
    "\n",
    "\n",
    "  \n",
    "\n",
    "    \n",
    "    \n",
    "if __name__=='__main__':\n",
    "    main()\n"
   ]
  },
  {
   "cell_type": "code",
   "execution_count": 2,
   "metadata": {},
   "outputs": [
    {
     "name": "stdout",
     "output_type": "stream",
     "text": [
      "Help on built-in function setMouseCallback in module cv2.cv2:\n",
      "\n",
      "setMouseCallback(...)\n",
      "    setMouseCallback(windowName, onMouse [, param]) -> None\n",
      "\n"
     ]
    }
   ],
   "source": [
    "import cv2\n",
    "\n",
    "# C:\\\\Users\\\\sahin\\\\train\\\\cat.3.jpg\n",
    "\n",
    "help(cv2.setMouseCallback)"
   ]
  },
  {
   "cell_type": "markdown",
   "metadata": {},
   "source": [
    "# 08 - Mini Project: Mouse Events and Interactive Drawing"
   ]
  },
  {
   "cell_type": "code",
   "execution_count": 5,
   "metadata": {},
   "outputs": [
    {
     "name": "stdout",
     "output_type": "stream",
     "text": [
      "['EVENT_FLAG_ALTKEY', 'EVENT_FLAG_CTRLKEY', 'EVENT_FLAG_LBUTTON', 'EVENT_FLAG_MBUTTON', 'EVENT_FLAG_RBUTTON', 'EVENT_FLAG_SHIFTKEY', 'EVENT_LBUTTONDBLCLK', 'EVENT_LBUTTONDOWN', 'EVENT_LBUTTONUP', 'EVENT_MBUTTONDBLCLK', 'EVENT_MBUTTONDOWN', 'EVENT_MBUTTONUP', 'EVENT_MOUSEHWHEEL', 'EVENT_MOUSEMOVE', 'EVENT_MOUSEWHEEL', 'EVENT_RBUTTONDBLCLK', 'EVENT_RBUTTONDOWN', 'EVENT_RBUTTONUP']\n"
     ]
    }
   ],
   "source": [
    "import cv2\n",
    "dir(cv2)\n",
    "events=[i for i in dir(cv2) if 'EVENT' in i]\n",
    "print(events)"
   ]
  },
  {
   "cell_type": "code",
   "execution_count": 15,
   "metadata": {},
   "outputs": [],
   "source": [
    "import cv2\n",
    "import numpy as np\n",
    "\n",
    "image1=np.zeros((512,512,3),np.uint8)\n",
    "\n",
    "\n",
    "imagec=np.copy(image1)\n",
    "\n",
    "WindowName='DENEME'\n",
    "\n",
    "cv2.namedWindow(WindowName)\n",
    "\n",
    "\n",
    "def draw_line(event,x,y,flags,pram):\n",
    "    if event==cv2.EVENT_LBUTTONDBLCLK:\n",
    "        cv2.circle(imagec,(x,y),40,(0,0,254),-1)\n",
    "\n",
    "\n",
    "cv2.setMouseCallback(WindowName,draw_line)\n",
    "\n",
    "\n",
    "\n",
    "\n",
    "\n",
    "def main():\n",
    "    \n",
    "    \n",
    "    \n",
    "    while (True):\n",
    "        cv2.imshow(WindowName,imagec)\n",
    "        \n",
    "        if cv2.waitKey(1)== 27: \n",
    "            break\n",
    "    \n",
    "    \n",
    "    cv2.destroyWindow(WindowName)\n",
    "    \n",
    "    \n",
    "    \n",
    "    \n",
    "    \n",
    "if __name__=='__main__':\n",
    "    main()"
   ]
  },
  {
   "cell_type": "code",
   "execution_count": 4,
   "metadata": {},
   "outputs": [
    {
     "name": "stdout",
     "output_type": "stream",
     "text": [
      "Help on function imshow in module matplotlib.pyplot:\n",
      "\n",
      "imshow(X, cmap=None, norm=None, aspect=None, interpolation=None, alpha=None, vmin=None, vmax=None, origin=None, extent=None, shape=None, filternorm=1, filterrad=4.0, imlim=None, resample=None, url=None, *, data=None, **kwargs)\n",
      "    Display an image, i.e. data on a 2D regular raster.\n",
      "    \n",
      "    Parameters\n",
      "    ----------\n",
      "    X : array-like or PIL image\n",
      "        The image data. Supported array shapes are:\n",
      "    \n",
      "        - (M, N): an image with scalar data. The data is visualized\n",
      "          using a colormap.\n",
      "        - (M, N, 3): an image with RGB values (float or uint8).\n",
      "        - (M, N, 4): an image with RGBA values (float or uint8), i.e.\n",
      "          including transparency.\n",
      "    \n",
      "        The first two dimensions (M, N) define the rows and columns of\n",
      "        the image.\n",
      "    \n",
      "        The RGB(A) values should be in the range [0 .. 1] for floats or\n",
      "        [0 .. 255] for integers.  Out-of-range values will be clipped to\n",
      "        these bounds.\n",
      "    \n",
      "    cmap : str or `~matplotlib.colors.Colormap`, optional\n",
      "        A Colormap instance or registered colormap name. The colormap\n",
      "        maps scalar data to colors. It is ignored for RGB(A) data.\n",
      "        Defaults to :rc:`image.cmap`.\n",
      "    \n",
      "    aspect : {'equal', 'auto'} or float, optional\n",
      "        Controls the aspect ratio of the axes. The aspect is of particular\n",
      "        relevance for images since it may distort the image, i.e. pixel\n",
      "        will not be square.\n",
      "    \n",
      "        This parameter is a shortcut for explicitly calling\n",
      "        `.Axes.set_aspect`. See there for further details.\n",
      "    \n",
      "        - 'equal': Ensures an aspect ratio of 1. Pixels will be square\n",
      "          (unless pixel sizes are explicitly made non-square in data\n",
      "          coordinates using *extent*).\n",
      "        - 'auto': The axes is kept fixed and the aspect is adjusted so\n",
      "          that the data fit in the axes. In general, this will result in\n",
      "          non-square pixels.\n",
      "    \n",
      "        If not given, use :rc:`image.aspect` (default: 'equal').\n",
      "    \n",
      "    interpolation : str, optional\n",
      "        The interpolation method used. If *None*\n",
      "        :rc:`image.interpolation` is used, which defaults to 'nearest'.\n",
      "    \n",
      "        Supported values are 'none', 'nearest', 'bilinear', 'bicubic',\n",
      "        'spline16', 'spline36', 'hanning', 'hamming', 'hermite', 'kaiser',\n",
      "        'quadric', 'catrom', 'gaussian', 'bessel', 'mitchell', 'sinc',\n",
      "        'lanczos'.\n",
      "    \n",
      "        If *interpolation* is 'none', then no interpolation is performed\n",
      "        on the Agg, ps and pdf backends. Other backends will fall back to\n",
      "        'nearest'.\n",
      "    \n",
      "        See\n",
      "        :doc:`/gallery/images_contours_and_fields/interpolation_methods`\n",
      "        for an overview of the supported interpolation methods.\n",
      "    \n",
      "        Some interpolation methods require an additional radius parameter,\n",
      "        which can be set by *filterrad*. Additionally, the antigrain image\n",
      "        resize filter is controlled by the parameter *filternorm*.\n",
      "    \n",
      "    norm : `~matplotlib.colors.Normalize`, optional\n",
      "        If scalar data are used, the Normalize instance scales the\n",
      "        data values to the canonical colormap range [0,1] for mapping\n",
      "        to colors. By default, the data range is mapped to the\n",
      "        colorbar range using linear scaling. This parameter is ignored for\n",
      "        RGB(A) data.\n",
      "    \n",
      "    vmin, vmax : scalar, optional\n",
      "        When using scalar data and no explicit *norm*, *vmin* and *vmax*\n",
      "        define the data range that the colormap covers. By default,\n",
      "        the colormap covers the complete value range of the supplied\n",
      "        data. *vmin*, *vmax* are ignored if the *norm* parameter is used.\n",
      "    \n",
      "    alpha : scalar, optional\n",
      "        The alpha blending value, between 0 (transparent) and 1 (opaque).\n",
      "        This parameter is ignored for RGBA input data.\n",
      "    \n",
      "    origin : {'upper', 'lower'}, optional\n",
      "        Place the [0,0] index of the array in the upper left or lower left\n",
      "        corner of the axes. The convention 'upper' is typically used for\n",
      "        matrices and images.\n",
      "        If not given, :rc:`image.origin` is used, defaulting to 'upper'.\n",
      "    \n",
      "        Note that the vertical axes points upward for 'lower'\n",
      "        but downward for 'upper'.\n",
      "    \n",
      "    extent : scalars (left, right, bottom, top), optional\n",
      "        The bounding box in data coordinates that the image will fill.\n",
      "        The image is stretched individually along x and y to fill the box.\n",
      "    \n",
      "        The default extent is determined by the following conditions.\n",
      "        Pixels have unit size in data coordinates. Their centers are on\n",
      "        integer coordinates, and their center coordinates range from 0 to\n",
      "        columns-1 horizontally and from 0 to rows-1 vertically.\n",
      "    \n",
      "        Note that the direction of the vertical axis and thus the default\n",
      "        values for top and bottom depend on *origin*:\n",
      "    \n",
      "        - For ``origin == 'upper'`` the default is\n",
      "          ``(-0.5, numcols-0.5, numrows-0.5, -0.5)``.\n",
      "        - For ``origin == 'lower'`` the default is\n",
      "          ``(-0.5, numcols-0.5, -0.5, numrows-0.5)``.\n",
      "    \n",
      "        See the example :doc:`/tutorials/intermediate/imshow_extent` for a\n",
      "        more detailed description.\n",
      "    \n",
      "    shape : scalars (columns, rows), optional, default: None\n",
      "        For raw buffer images.\n",
      "    \n",
      "    filternorm : bool, optional, default: True\n",
      "        A parameter for the antigrain image resize filter (see the\n",
      "        antigrain documentation).  If *filternorm* is set, the filter\n",
      "        normalizes integer values and corrects the rounding errors. It\n",
      "        doesn't do anything with the source floating point values, it\n",
      "        corrects only integers according to the rule of 1.0 which means\n",
      "        that any sum of pixel weights must be equal to 1.0.  So, the\n",
      "        filter function must produce a graph of the proper shape.\n",
      "    \n",
      "    filterrad : float > 0, optional, default: 4.0\n",
      "        The filter radius for filters that have a radius parameter, i.e.\n",
      "        when interpolation is one of: 'sinc', 'lanczos' or 'blackman'.\n",
      "    \n",
      "    resample : bool, optional\n",
      "        When *True*, use a full resampling method.  When *False*, only\n",
      "        resample when the output image is larger than the input image.\n",
      "    \n",
      "    url : str, optional\n",
      "        Set the url of the created `.AxesImage`. See `.Artist.set_url`.\n",
      "    \n",
      "    Returns\n",
      "    -------\n",
      "    image : `~matplotlib.image.AxesImage`\n",
      "    \n",
      "    Other Parameters\n",
      "    ----------------\n",
      "    **kwargs : `~matplotlib.artist.Artist` properties\n",
      "        These parameters are passed on to the constructor of the\n",
      "        `.AxesImage` artist.\n",
      "    \n",
      "    See also\n",
      "    --------\n",
      "    matshow : Plot a matrix or an array as an image.\n",
      "    \n",
      "    Notes\n",
      "    -----\n",
      "    Unless *extent* is used, pixel centers will be located at integer\n",
      "    coordinates. In other words: the origin will coincide with the center\n",
      "    of pixel (0, 0).\n",
      "    \n",
      "    There are two common representations for RGB images with an alpha\n",
      "    channel:\n",
      "    \n",
      "    -   Straight (unassociated) alpha: R, G, and B channels represent the\n",
      "        color of the pixel, disregarding its opacity.\n",
      "    -   Premultiplied (associated) alpha: R, G, and B channels represent\n",
      "        the color of the pixel, adjusted for its opacity by multiplication.\n",
      "    \n",
      "    `~matplotlib.pyplot.imshow` expects RGB images adopting the straight\n",
      "    (unassociated) alpha representation.\n",
      "    \n",
      "    .. note::\n",
      "        In addition to the above described arguments, this function can take a\n",
      "        **data** keyword argument. If such a **data** argument is given, the\n",
      "        following arguments are replaced by **data[<arg>]**:\n",
      "    \n",
      "        * All positional and all keyword arguments.\n",
      "    \n",
      "        Objects passed as **data** must support item access (``data[<arg>]``) and\n",
      "        membership test (``<arg> in data``).\n",
      "\n"
     ]
    }
   ],
   "source": [
    "import cv2\n",
    "\n",
    "help(plt.imshow)"
   ]
  },
  {
   "cell_type": "code",
   "execution_count": 72,
   "metadata": {},
   "outputs": [
    {
     "data": {
      "image/png": "[encoded data removed]",
      "text/plain": [
       "<Figure size 432x288 with 1 Axes>"
      ]
     },
     "metadata": {
      "needs_background": "light"
     },
     "output_type": "display_data"
    }
   ],
   "source": [
    "import matplotlib.pyplot as plt\n",
    "import numpy as np\n",
    "import cv2\n",
    "path=\"train\\cat.6.jpg\"\n",
    "im1=cv2.imread(path)\n",
    "im2=cv2.cvtColor(im1,cv2.COLOR_BGR2RGB)\n",
    "\n",
    "plt.imshow(im2,cmap='gray')\n",
    "plt.show()\n",
    "\n",
    "    \n",
    "    "
   ]
  },
  {
   "cell_type": "code",
   "execution_count": 51,
   "metadata": {},
   "outputs": [
    {
     "data": {
      "image/png": "[encoded data removed]",
      "text/plain": [
       "<Figure size 432x288 with 1 Axes>"
      ]
     },
     "metadata": {
      "needs_background": "light"
     },
     "output_type": "display_data"
    }
   ],
   "source": [
    "import matplotlib.pyplot as plt\n",
    "import matplotlib.colors as col\n",
    "from matplotlib.colors import LinearSegmentedColormap\n",
    "import numpy as np \n",
    "import numpy as np\n",
    "import cv2\n",
    "image1= np.zeros((512,512,3),np.uint8)\n",
    "\n",
    "im2=cv2.imread(\"train\\cat.6.jpg\",cv2.COLOR_BGR2RGB)\n",
    "\n",
    "plt.imshow(im2,cmap='Spectral_r')\n",
    "plt.show()\n",
    "\n",
    "    "
   ]
  },
  {
   "cell_type": "code",
   "execution_count": 15,
   "metadata": {},
   "outputs": [
    {
     "name": "stdout",
     "output_type": "stream",
     "text": [
      "Help on class Colormap in module matplotlib.colors:\n",
      "\n",
      "class Colormap(builtins.object)\n",
      " |  Colormap(name, N=256)\n",
      " |  \n",
      " |  Baseclass for all scalar to RGBA mappings.\n",
      " |  \n",
      " |  Typically Colormap instances are used to convert data values (floats) from\n",
      " |  the interval ``[0, 1]`` to the RGBA color that the respective Colormap\n",
      " |  represents. For scaling of data into the ``[0, 1]`` interval see\n",
      " |  :class:`matplotlib.colors.Normalize`. It is worth noting that\n",
      " |  :class:`matplotlib.cm.ScalarMappable` subclasses make heavy use of this\n",
      " |  ``data->normalize->map-to-color`` processing chain.\n",
      " |  \n",
      " |  Methods defined here:\n",
      " |  \n",
      " |  __call__(self, X, alpha=None, bytes=False)\n",
      " |      Parameters\n",
      " |      ----------\n",
      " |      X : scalar, ndarray\n",
      " |          The data value(s) to convert to RGBA.\n",
      " |          For floats, X should be in the interval ``[0.0, 1.0]`` to\n",
      " |          return the RGBA values ``X*100`` percent along the Colormap line.\n",
      " |          For integers, X should be in the interval ``[0, Colormap.N)`` to\n",
      " |          return RGBA values *indexed* from the Colormap with index ``X``.\n",
      " |      alpha : float, None\n",
      " |          Alpha must be a scalar between 0 and 1, or None.\n",
      " |      bytes : bool\n",
      " |          If False (default), the returned RGBA values will be floats in the\n",
      " |          interval ``[0, 1]`` otherwise they will be uint8s in the interval\n",
      " |          ``[0, 255]``.\n",
      " |      \n",
      " |      Returns\n",
      " |      -------\n",
      " |      Tuple of RGBA values if X is scalar, otherwise an array of\n",
      " |      RGBA values with a shape of ``X.shape + (4, )``.\n",
      " |  \n",
      " |  __copy__(self)\n",
      " |      Create new object with the same class, update attributes\n",
      " |  \n",
      " |  __init__(self, name, N=256)\n",
      " |      Parameters\n",
      " |      ----------\n",
      " |      name : str\n",
      " |          The name of the colormap.\n",
      " |      N : int\n",
      " |          The number of rgb quantization levels.\n",
      " |  \n",
      " |  is_gray(self)\n",
      " |  \n",
      " |  reversed(self, name=None)\n",
      " |      Make a reversed instance of the Colormap.\n",
      " |      \n",
      " |      .. note :: Function not implemented for base class.\n",
      " |      \n",
      " |      Parameters\n",
      " |      ----------\n",
      " |      name : str, optional\n",
      " |          The name for the reversed colormap. If it's None the\n",
      " |          name will be the name of the parent colormap + \"_r\".\n",
      " |      \n",
      " |      Notes\n",
      " |      -----\n",
      " |      See :meth:`LinearSegmentedColormap.reversed` and\n",
      " |      :meth:`ListedColormap.reversed`\n",
      " |  \n",
      " |  set_bad(self, color='k', alpha=None)\n",
      " |      Set color to be used for masked values.\n",
      " |  \n",
      " |  set_over(self, color='k', alpha=None)\n",
      " |      Set color to be used for high out-of-range values.\n",
      " |      Requires norm.clip = False\n",
      " |  \n",
      " |  set_under(self, color='k', alpha=None)\n",
      " |      Set color to be used for low out-of-range values.\n",
      " |      Requires norm.clip = False\n",
      " |  \n",
      " |  ----------------------------------------------------------------------\n",
      " |  Data descriptors defined here:\n",
      " |  \n",
      " |  __dict__\n",
      " |      dictionary for instance variables (if defined)\n",
      " |  \n",
      " |  __weakref__\n",
      " |      list of weak references to the object (if defined)\n",
      "\n"
     ]
    }
   ],
   "source": [
    "import matplotlib\n",
    "help(matplotlib.colors.Colormap)"
   ]
  },
  {
   "cell_type": "code",
   "execution_count": 45,
   "metadata": {},
   "outputs": [
    {
     "ename": "TypeError",
     "evalue": "'list' object cannot be interpreted as an integer",
     "output_type": "error",
     "traceback": [
      "\u001b[1;31m---------------------------------------------------------------------------\u001b[0m",
      "\u001b[1;31mTypeError\u001b[0m                                 Traceback (most recent call last)",
      "\u001b[1;32m<ipython-input-45-c4b9e0ec6092>\u001b[0m in \u001b[0;36m<module>\u001b[1;34m\u001b[0m\n\u001b[0;32m      1\u001b[0m \u001b[1;32mimport\u001b[0m \u001b[0mcv2\u001b[0m\u001b[1;33m\u001b[0m\u001b[1;33m\u001b[0m\u001b[0m\n\u001b[0;32m      2\u001b[0m \u001b[1;33m\u001b[0m\u001b[0m\n\u001b[1;32m----> 3\u001b[1;33m \u001b[1;32mfor\u001b[0m \u001b[0mi\u001b[0m \u001b[1;32min\u001b[0m \u001b[0mrange\u001b[0m\u001b[1;33m(\u001b[0m\u001b[0mdir\u001b[0m\u001b[1;33m(\u001b[0m\u001b[0mcv2\u001b[0m\u001b[1;33m)\u001b[0m\u001b[1;33m)\u001b[0m\u001b[1;33m:\u001b[0m\u001b[1;33m\u001b[0m\u001b[1;33m\u001b[0m\u001b[0m\n\u001b[0m\u001b[0;32m      4\u001b[0m     \u001b[0mprint\u001b[0m\u001b[1;33m(\u001b[0m\u001b[0mi\u001b[0m\u001b[1;33m)\u001b[0m\u001b[1;33m\u001b[0m\u001b[1;33m\u001b[0m\u001b[0m\n",
      "\u001b[1;31mTypeError\u001b[0m: 'list' object cannot be interpreted as an integer"
     ]
    }
   ],
   "source": [
    "import cv2\n",
    "\n",
    "for i in range(dir(cv2)):\n",
    "    print(i)"
   ]
  },
  {
   "cell_type": "code",
   "execution_count": 46,
   "metadata": {},
   "outputs": [
    {
     "name": "stdout",
     "output_type": "stream",
     "text": [
      "0\n",
      "1\n",
      "2\n"
     ]
    }
   ],
   "source": [
    "for i in range(3):\n",
    "    print(i)"
   ]
  },
  {
   "cell_type": "code",
   "execution_count": 48,
   "metadata": {},
   "outputs": [
    {
     "data": {
      "text/plain": [
       "['CAP_PROP_XI_COLOR_FILTER_ARRAY',\n",
       " 'COLOR_BAYER_BG2BGR',\n",
       " 'COLOR_BAYER_BG2BGRA',\n",
       " 'COLOR_BAYER_BG2BGR_EA',\n",
       " 'COLOR_BAYER_BG2BGR_VNG',\n",
       " 'COLOR_BAYER_BG2GRAY',\n",
       " 'COLOR_BAYER_BG2RGB',\n",
       " 'COLOR_BAYER_BG2RGBA',\n",
       " 'COLOR_BAYER_BG2RGB_EA',\n",
       " 'COLOR_BAYER_BG2RGB_VNG',\n",
       " 'COLOR_BAYER_GB2BGR',\n",
       " 'COLOR_BAYER_GB2BGRA',\n",
       " 'COLOR_BAYER_GB2BGR_EA',\n",
       " 'COLOR_BAYER_GB2BGR_VNG',\n",
       " 'COLOR_BAYER_GB2GRAY',\n",
       " 'COLOR_BAYER_GB2RGB',\n",
       " 'COLOR_BAYER_GB2RGBA',\n",
       " 'COLOR_BAYER_GB2RGB_EA',\n",
       " 'COLOR_BAYER_GB2RGB_VNG',\n",
       " 'COLOR_BAYER_GR2BGR',\n",
       " 'COLOR_BAYER_GR2BGRA',\n",
       " 'COLOR_BAYER_GR2BGR_EA',\n",
       " 'COLOR_BAYER_GR2BGR_VNG',\n",
       " 'COLOR_BAYER_GR2GRAY',\n",
       " 'COLOR_BAYER_GR2RGB',\n",
       " 'COLOR_BAYER_GR2RGBA',\n",
       " 'COLOR_BAYER_GR2RGB_EA',\n",
       " 'COLOR_BAYER_GR2RGB_VNG',\n",
       " 'COLOR_BAYER_RG2BGR',\n",
       " 'COLOR_BAYER_RG2BGRA',\n",
       " 'COLOR_BAYER_RG2BGR_EA',\n",
       " 'COLOR_BAYER_RG2BGR_VNG',\n",
       " 'COLOR_BAYER_RG2GRAY',\n",
       " 'COLOR_BAYER_RG2RGB',\n",
       " 'COLOR_BAYER_RG2RGBA',\n",
       " 'COLOR_BAYER_RG2RGB_EA',\n",
       " 'COLOR_BAYER_RG2RGB_VNG',\n",
       " 'COLOR_BGR2BGR555',\n",
       " 'COLOR_BGR2BGR565',\n",
       " 'COLOR_BGR2BGRA',\n",
       " 'COLOR_BGR2GRAY',\n",
       " 'COLOR_BGR2HLS',\n",
       " 'COLOR_BGR2HLS_FULL',\n",
       " 'COLOR_BGR2HSV',\n",
       " 'COLOR_BGR2HSV_FULL',\n",
       " 'COLOR_BGR2LAB',\n",
       " 'COLOR_BGR2LUV',\n",
       " 'COLOR_BGR2Lab',\n",
       " 'COLOR_BGR2Luv',\n",
       " 'COLOR_BGR2RGB',\n",
       " 'COLOR_BGR2RGBA',\n",
       " 'COLOR_BGR2XYZ',\n",
       " 'COLOR_BGR2YCR_CB',\n",
       " 'COLOR_BGR2YCrCb',\n",
       " 'COLOR_BGR2YUV',\n",
       " 'COLOR_BGR2YUV_I420',\n",
       " 'COLOR_BGR2YUV_IYUV',\n",
       " 'COLOR_BGR2YUV_YV12',\n",
       " 'COLOR_BGR5552BGR',\n",
       " 'COLOR_BGR5552BGRA',\n",
       " 'COLOR_BGR5552GRAY',\n",
       " 'COLOR_BGR5552RGB',\n",
       " 'COLOR_BGR5552RGBA',\n",
       " 'COLOR_BGR5652BGR',\n",
       " 'COLOR_BGR5652BGRA',\n",
       " 'COLOR_BGR5652GRAY',\n",
       " 'COLOR_BGR5652RGB',\n",
       " 'COLOR_BGR5652RGBA',\n",
       " 'COLOR_BGRA2BGR',\n",
       " 'COLOR_BGRA2BGR555',\n",
       " 'COLOR_BGRA2BGR565',\n",
       " 'COLOR_BGRA2GRAY',\n",
       " 'COLOR_BGRA2RGB',\n",
       " 'COLOR_BGRA2RGBA',\n",
       " 'COLOR_BGRA2YUV_I420',\n",
       " 'COLOR_BGRA2YUV_IYUV',\n",
       " 'COLOR_BGRA2YUV_YV12',\n",
       " 'COLOR_BayerBG2BGR',\n",
       " 'COLOR_BayerBG2BGRA',\n",
       " 'COLOR_BayerBG2BGR_EA',\n",
       " 'COLOR_BayerBG2BGR_VNG',\n",
       " 'COLOR_BayerBG2GRAY',\n",
       " 'COLOR_BayerBG2RGB',\n",
       " 'COLOR_BayerBG2RGBA',\n",
       " 'COLOR_BayerBG2RGB_EA',\n",
       " 'COLOR_BayerBG2RGB_VNG',\n",
       " 'COLOR_BayerGB2BGR',\n",
       " 'COLOR_BayerGB2BGRA',\n",
       " 'COLOR_BayerGB2BGR_EA',\n",
       " 'COLOR_BayerGB2BGR_VNG',\n",
       " 'COLOR_BayerGB2GRAY',\n",
       " 'COLOR_BayerGB2RGB',\n",
       " 'COLOR_BayerGB2RGBA',\n",
       " 'COLOR_BayerGB2RGB_EA',\n",
       " 'COLOR_BayerGB2RGB_VNG',\n",
       " 'COLOR_BayerGR2BGR',\n",
       " 'COLOR_BayerGR2BGRA',\n",
       " 'COLOR_BayerGR2BGR_EA',\n",
       " 'COLOR_BayerGR2BGR_VNG',\n",
       " 'COLOR_BayerGR2GRAY',\n",
       " 'COLOR_BayerGR2RGB',\n",
       " 'COLOR_BayerGR2RGBA',\n",
       " 'COLOR_BayerGR2RGB_EA',\n",
       " 'COLOR_BayerGR2RGB_VNG',\n",
       " 'COLOR_BayerRG2BGR',\n",
       " 'COLOR_BayerRG2BGRA',\n",
       " 'COLOR_BayerRG2BGR_EA',\n",
       " 'COLOR_BayerRG2BGR_VNG',\n",
       " 'COLOR_BayerRG2GRAY',\n",
       " 'COLOR_BayerRG2RGB',\n",
       " 'COLOR_BayerRG2RGBA',\n",
       " 'COLOR_BayerRG2RGB_EA',\n",
       " 'COLOR_BayerRG2RGB_VNG',\n",
       " 'COLOR_COLORCVT_MAX',\n",
       " 'COLOR_GRAY2BGR',\n",
       " 'COLOR_GRAY2BGR555',\n",
       " 'COLOR_GRAY2BGR565',\n",
       " 'COLOR_GRAY2BGRA',\n",
       " 'COLOR_GRAY2RGB',\n",
       " 'COLOR_GRAY2RGBA',\n",
       " 'COLOR_HLS2BGR',\n",
       " 'COLOR_HLS2BGR_FULL',\n",
       " 'COLOR_HLS2RGB',\n",
       " 'COLOR_HLS2RGB_FULL',\n",
       " 'COLOR_HSV2BGR',\n",
       " 'COLOR_HSV2BGR_FULL',\n",
       " 'COLOR_HSV2RGB',\n",
       " 'COLOR_HSV2RGB_FULL',\n",
       " 'COLOR_LAB2BGR',\n",
       " 'COLOR_LAB2LBGR',\n",
       " 'COLOR_LAB2LRGB',\n",
       " 'COLOR_LAB2RGB',\n",
       " 'COLOR_LBGR2LAB',\n",
       " 'COLOR_LBGR2LUV',\n",
       " 'COLOR_LBGR2Lab',\n",
       " 'COLOR_LBGR2Luv',\n",
       " 'COLOR_LRGB2LAB',\n",
       " 'COLOR_LRGB2LUV',\n",
       " 'COLOR_LRGB2Lab',\n",
       " 'COLOR_LRGB2Luv',\n",
       " 'COLOR_LUV2BGR',\n",
       " 'COLOR_LUV2LBGR',\n",
       " 'COLOR_LUV2LRGB',\n",
       " 'COLOR_LUV2RGB',\n",
       " 'COLOR_Lab2BGR',\n",
       " 'COLOR_Lab2LBGR',\n",
       " 'COLOR_Lab2LRGB',\n",
       " 'COLOR_Lab2RGB',\n",
       " 'COLOR_Luv2BGR',\n",
       " 'COLOR_Luv2LBGR',\n",
       " 'COLOR_Luv2LRGB',\n",
       " 'COLOR_Luv2RGB',\n",
       " 'COLOR_M_RGBA2RGBA',\n",
       " 'COLOR_RGB2BGR',\n",
       " 'COLOR_RGB2BGR555',\n",
       " 'COLOR_RGB2BGR565',\n",
       " 'COLOR_RGB2BGRA',\n",
       " 'COLOR_RGB2GRAY',\n",
       " 'COLOR_RGB2HLS',\n",
       " 'COLOR_RGB2HLS_FULL',\n",
       " 'COLOR_RGB2HSV',\n",
       " 'COLOR_RGB2HSV_FULL',\n",
       " 'COLOR_RGB2LAB',\n",
       " 'COLOR_RGB2LUV',\n",
       " 'COLOR_RGB2Lab',\n",
       " 'COLOR_RGB2Luv',\n",
       " 'COLOR_RGB2RGBA',\n",
       " 'COLOR_RGB2XYZ',\n",
       " 'COLOR_RGB2YCR_CB',\n",
       " 'COLOR_RGB2YCrCb',\n",
       " 'COLOR_RGB2YUV',\n",
       " 'COLOR_RGB2YUV_I420',\n",
       " 'COLOR_RGB2YUV_IYUV',\n",
       " 'COLOR_RGB2YUV_YV12',\n",
       " 'COLOR_RGBA2BGR',\n",
       " 'COLOR_RGBA2BGR555',\n",
       " 'COLOR_RGBA2BGR565',\n",
       " 'COLOR_RGBA2BGRA',\n",
       " 'COLOR_RGBA2GRAY',\n",
       " 'COLOR_RGBA2M_RGBA',\n",
       " 'COLOR_RGBA2RGB',\n",
       " 'COLOR_RGBA2YUV_I420',\n",
       " 'COLOR_RGBA2YUV_IYUV',\n",
       " 'COLOR_RGBA2YUV_YV12',\n",
       " 'COLOR_RGBA2mRGBA',\n",
       " 'COLOR_XYZ2BGR',\n",
       " 'COLOR_XYZ2RGB',\n",
       " 'COLOR_YCR_CB2BGR',\n",
       " 'COLOR_YCR_CB2RGB',\n",
       " 'COLOR_YCrCb2BGR',\n",
       " 'COLOR_YCrCb2RGB',\n",
       " 'COLOR_YUV2BGR',\n",
       " 'COLOR_YUV2BGRA_I420',\n",
       " 'COLOR_YUV2BGRA_IYUV',\n",
       " 'COLOR_YUV2BGRA_NV12',\n",
       " 'COLOR_YUV2BGRA_NV21',\n",
       " 'COLOR_YUV2BGRA_UYNV',\n",
       " 'COLOR_YUV2BGRA_UYVY',\n",
       " 'COLOR_YUV2BGRA_Y422',\n",
       " 'COLOR_YUV2BGRA_YUNV',\n",
       " 'COLOR_YUV2BGRA_YUY2',\n",
       " 'COLOR_YUV2BGRA_YUYV',\n",
       " 'COLOR_YUV2BGRA_YV12',\n",
       " 'COLOR_YUV2BGRA_YVYU',\n",
       " 'COLOR_YUV2BGR_I420',\n",
       " 'COLOR_YUV2BGR_IYUV',\n",
       " 'COLOR_YUV2BGR_NV12',\n",
       " 'COLOR_YUV2BGR_NV21',\n",
       " 'COLOR_YUV2BGR_UYNV',\n",
       " 'COLOR_YUV2BGR_UYVY',\n",
       " 'COLOR_YUV2BGR_Y422',\n",
       " 'COLOR_YUV2BGR_YUNV',\n",
       " 'COLOR_YUV2BGR_YUY2',\n",
       " 'COLOR_YUV2BGR_YUYV',\n",
       " 'COLOR_YUV2BGR_YV12',\n",
       " 'COLOR_YUV2BGR_YVYU',\n",
       " 'COLOR_YUV2GRAY_420',\n",
       " 'COLOR_YUV2GRAY_I420',\n",
       " 'COLOR_YUV2GRAY_IYUV',\n",
       " 'COLOR_YUV2GRAY_NV12',\n",
       " 'COLOR_YUV2GRAY_NV21',\n",
       " 'COLOR_YUV2GRAY_UYNV',\n",
       " 'COLOR_YUV2GRAY_UYVY',\n",
       " 'COLOR_YUV2GRAY_Y422',\n",
       " 'COLOR_YUV2GRAY_YUNV',\n",
       " 'COLOR_YUV2GRAY_YUY2',\n",
       " 'COLOR_YUV2GRAY_YUYV',\n",
       " 'COLOR_YUV2GRAY_YV12',\n",
       " 'COLOR_YUV2GRAY_YVYU',\n",
       " 'COLOR_YUV2RGB',\n",
       " 'COLOR_YUV2RGBA_I420',\n",
       " 'COLOR_YUV2RGBA_IYUV',\n",
       " 'COLOR_YUV2RGBA_NV12',\n",
       " 'COLOR_YUV2RGBA_NV21',\n",
       " 'COLOR_YUV2RGBA_UYNV',\n",
       " 'COLOR_YUV2RGBA_UYVY',\n",
       " 'COLOR_YUV2RGBA_Y422',\n",
       " 'COLOR_YUV2RGBA_YUNV',\n",
       " 'COLOR_YUV2RGBA_YUY2',\n",
       " 'COLOR_YUV2RGBA_YUYV',\n",
       " 'COLOR_YUV2RGBA_YV12',\n",
       " 'COLOR_YUV2RGBA_YVYU',\n",
       " 'COLOR_YUV2RGB_I420',\n",
       " 'COLOR_YUV2RGB_IYUV',\n",
       " 'COLOR_YUV2RGB_NV12',\n",
       " 'COLOR_YUV2RGB_NV21',\n",
       " 'COLOR_YUV2RGB_UYNV',\n",
       " 'COLOR_YUV2RGB_UYVY',\n",
       " 'COLOR_YUV2RGB_Y422',\n",
       " 'COLOR_YUV2RGB_YUNV',\n",
       " 'COLOR_YUV2RGB_YUY2',\n",
       " 'COLOR_YUV2RGB_YUYV',\n",
       " 'COLOR_YUV2RGB_YV12',\n",
       " 'COLOR_YUV2RGB_YVYU',\n",
       " 'COLOR_YUV420P2BGR',\n",
       " 'COLOR_YUV420P2BGRA',\n",
       " 'COLOR_YUV420P2GRAY',\n",
       " 'COLOR_YUV420P2RGB',\n",
       " 'COLOR_YUV420P2RGBA',\n",
       " 'COLOR_YUV420SP2BGR',\n",
       " 'COLOR_YUV420SP2BGRA',\n",
       " 'COLOR_YUV420SP2GRAY',\n",
       " 'COLOR_YUV420SP2RGB',\n",
       " 'COLOR_YUV420SP2RGBA',\n",
       " 'COLOR_YUV420p2BGR',\n",
       " 'COLOR_YUV420p2BGRA',\n",
       " 'COLOR_YUV420p2GRAY',\n",
       " 'COLOR_YUV420p2RGB',\n",
       " 'COLOR_YUV420p2RGBA',\n",
       " 'COLOR_YUV420sp2BGR',\n",
       " 'COLOR_YUV420sp2BGRA',\n",
       " 'COLOR_YUV420sp2GRAY',\n",
       " 'COLOR_YUV420sp2RGB',\n",
       " 'COLOR_YUV420sp2RGBA',\n",
       " 'COLOR_mRGBA2RGBA',\n",
       " 'IMREAD_REDUCED_COLOR_2',\n",
       " 'IMREAD_REDUCED_COLOR_4',\n",
       " 'IMREAD_REDUCED_COLOR_8']"
      ]
     },
     "execution_count": 48,
     "metadata": {},
     "output_type": "execute_result"
    }
   ],
   "source": [
    "import cv2\n",
    "y=[i for i in dir(cv2) if \"COLOR_\" in i]\n",
    "y"
   ]
  },
  {
   "cell_type": "code",
   "execution_count": 61,
   "metadata": {},
   "outputs": [
    {
     "name": "stdout",
     "output_type": "stream",
     "text": [
      "CAP_PROP_XI_COLOR_FILTER_ARRAY\n",
      "CAP_PROP_XI_IMAGE_IS_COLOR\n",
      "COLORMAP_AUTUMN\n",
      "COLORMAP_BONE\n",
      "COLORMAP_CIVIDIS\n",
      "COLORMAP_COOL\n",
      "COLORMAP_HOT\n",
      "COLORMAP_HSV\n",
      "COLORMAP_INFERNO\n",
      "COLORMAP_JET\n",
      "COLORMAP_MAGMA\n",
      "COLORMAP_OCEAN\n",
      "COLORMAP_PARULA\n",
      "COLORMAP_PINK\n",
      "COLORMAP_PLASMA\n",
      "COLORMAP_RAINBOW\n",
      "COLORMAP_SPRING\n",
      "COLORMAP_SUMMER\n",
      "COLORMAP_TWILIGHT\n",
      "COLORMAP_TWILIGHT_SHIFTED\n",
      "COLORMAP_VIRIDIS\n",
      "COLORMAP_WINTER\n",
      "COLOR_BAYER_BG2BGR\n",
      "COLOR_BAYER_BG2BGRA\n",
      "COLOR_BAYER_BG2BGR_EA\n",
      "COLOR_BAYER_BG2BGR_VNG\n",
      "COLOR_BAYER_BG2GRAY\n",
      "COLOR_BAYER_BG2RGB\n",
      "COLOR_BAYER_BG2RGBA\n",
      "COLOR_BAYER_BG2RGB_EA\n",
      "COLOR_BAYER_BG2RGB_VNG\n",
      "COLOR_BAYER_GB2BGR\n",
      "COLOR_BAYER_GB2BGRA\n",
      "COLOR_BAYER_GB2BGR_EA\n",
      "COLOR_BAYER_GB2BGR_VNG\n",
      "COLOR_BAYER_GB2GRAY\n",
      "COLOR_BAYER_GB2RGB\n",
      "COLOR_BAYER_GB2RGBA\n",
      "COLOR_BAYER_GB2RGB_EA\n",
      "COLOR_BAYER_GB2RGB_VNG\n",
      "COLOR_BAYER_GR2BGR\n",
      "COLOR_BAYER_GR2BGRA\n",
      "COLOR_BAYER_GR2BGR_EA\n",
      "COLOR_BAYER_GR2BGR_VNG\n",
      "COLOR_BAYER_GR2GRAY\n",
      "COLOR_BAYER_GR2RGB\n",
      "COLOR_BAYER_GR2RGBA\n",
      "COLOR_BAYER_GR2RGB_EA\n",
      "COLOR_BAYER_GR2RGB_VNG\n",
      "COLOR_BAYER_RG2BGR\n",
      "COLOR_BAYER_RG2BGRA\n",
      "COLOR_BAYER_RG2BGR_EA\n",
      "COLOR_BAYER_RG2BGR_VNG\n",
      "COLOR_BAYER_RG2GRAY\n",
      "COLOR_BAYER_RG2RGB\n",
      "COLOR_BAYER_RG2RGBA\n",
      "COLOR_BAYER_RG2RGB_EA\n",
      "COLOR_BAYER_RG2RGB_VNG\n",
      "COLOR_BGR2BGR555\n",
      "COLOR_BGR2BGR565\n",
      "COLOR_BGR2BGRA\n",
      "COLOR_BGR2GRAY\n",
      "COLOR_BGR2HLS\n",
      "COLOR_BGR2HLS_FULL\n",
      "COLOR_BGR2HSV\n",
      "COLOR_BGR2HSV_FULL\n",
      "COLOR_BGR2LAB\n",
      "COLOR_BGR2LUV\n",
      "COLOR_BGR2Lab\n",
      "COLOR_BGR2Luv\n",
      "COLOR_BGR2RGB\n",
      "COLOR_BGR2RGBA\n",
      "COLOR_BGR2XYZ\n",
      "COLOR_BGR2YCR_CB\n",
      "COLOR_BGR2YCrCb\n",
      "COLOR_BGR2YUV\n",
      "COLOR_BGR2YUV_I420\n",
      "COLOR_BGR2YUV_IYUV\n",
      "COLOR_BGR2YUV_YV12\n",
      "COLOR_BGR5552BGR\n",
      "COLOR_BGR5552BGRA\n",
      "COLOR_BGR5552GRAY\n",
      "COLOR_BGR5552RGB\n",
      "COLOR_BGR5552RGBA\n",
      "COLOR_BGR5652BGR\n",
      "COLOR_BGR5652BGRA\n",
      "COLOR_BGR5652GRAY\n",
      "COLOR_BGR5652RGB\n",
      "COLOR_BGR5652RGBA\n",
      "COLOR_BGRA2BGR\n",
      "COLOR_BGRA2BGR555\n",
      "COLOR_BGRA2BGR565\n",
      "COLOR_BGRA2GRAY\n",
      "COLOR_BGRA2RGB\n",
      "COLOR_BGRA2RGBA\n",
      "COLOR_BGRA2YUV_I420\n",
      "COLOR_BGRA2YUV_IYUV\n",
      "COLOR_BGRA2YUV_YV12\n",
      "COLOR_BayerBG2BGR\n",
      "COLOR_BayerBG2BGRA\n",
      "COLOR_BayerBG2BGR_EA\n",
      "COLOR_BayerBG2BGR_VNG\n",
      "COLOR_BayerBG2GRAY\n",
      "COLOR_BayerBG2RGB\n",
      "COLOR_BayerBG2RGBA\n",
      "COLOR_BayerBG2RGB_EA\n",
      "COLOR_BayerBG2RGB_VNG\n",
      "COLOR_BayerGB2BGR\n",
      "COLOR_BayerGB2BGRA\n",
      "COLOR_BayerGB2BGR_EA\n",
      "COLOR_BayerGB2BGR_VNG\n",
      "COLOR_BayerGB2GRAY\n",
      "COLOR_BayerGB2RGB\n",
      "COLOR_BayerGB2RGBA\n",
      "COLOR_BayerGB2RGB_EA\n",
      "COLOR_BayerGB2RGB_VNG\n",
      "COLOR_BayerGR2BGR\n",
      "COLOR_BayerGR2BGRA\n",
      "COLOR_BayerGR2BGR_EA\n",
      "COLOR_BayerGR2BGR_VNG\n",
      "COLOR_BayerGR2GRAY\n",
      "COLOR_BayerGR2RGB\n",
      "COLOR_BayerGR2RGBA\n",
      "COLOR_BayerGR2RGB_EA\n",
      "COLOR_BayerGR2RGB_VNG\n",
      "COLOR_BayerRG2BGR\n",
      "COLOR_BayerRG2BGRA\n",
      "COLOR_BayerRG2BGR_EA\n",
      "COLOR_BayerRG2BGR_VNG\n",
      "COLOR_BayerRG2GRAY\n",
      "COLOR_BayerRG2RGB\n",
      "COLOR_BayerRG2RGBA\n",
      "COLOR_BayerRG2RGB_EA\n",
      "COLOR_BayerRG2RGB_VNG\n",
      "COLOR_COLORCVT_MAX\n",
      "COLOR_GRAY2BGR\n",
      "COLOR_GRAY2BGR555\n",
      "COLOR_GRAY2BGR565\n",
      "COLOR_GRAY2BGRA\n",
      "COLOR_GRAY2RGB\n",
      "COLOR_GRAY2RGBA\n",
      "COLOR_HLS2BGR\n",
      "COLOR_HLS2BGR_FULL\n",
      "COLOR_HLS2RGB\n",
      "COLOR_HLS2RGB_FULL\n",
      "COLOR_HSV2BGR\n",
      "COLOR_HSV2BGR_FULL\n",
      "COLOR_HSV2RGB\n",
      "COLOR_HSV2RGB_FULL\n",
      "COLOR_LAB2BGR\n",
      "COLOR_LAB2LBGR\n",
      "COLOR_LAB2LRGB\n",
      "COLOR_LAB2RGB\n",
      "COLOR_LBGR2LAB\n",
      "COLOR_LBGR2LUV\n",
      "COLOR_LBGR2Lab\n",
      "COLOR_LBGR2Luv\n",
      "COLOR_LRGB2LAB\n",
      "COLOR_LRGB2LUV\n",
      "COLOR_LRGB2Lab\n",
      "COLOR_LRGB2Luv\n",
      "COLOR_LUV2BGR\n",
      "COLOR_LUV2LBGR\n",
      "COLOR_LUV2LRGB\n",
      "COLOR_LUV2RGB\n",
      "COLOR_Lab2BGR\n",
      "COLOR_Lab2LBGR\n",
      "COLOR_Lab2LRGB\n",
      "COLOR_Lab2RGB\n",
      "COLOR_Luv2BGR\n",
      "COLOR_Luv2LBGR\n",
      "COLOR_Luv2LRGB\n",
      "COLOR_Luv2RGB\n",
      "COLOR_M_RGBA2RGBA\n",
      "COLOR_RGB2BGR\n",
      "COLOR_RGB2BGR555\n",
      "COLOR_RGB2BGR565\n",
      "COLOR_RGB2BGRA\n",
      "COLOR_RGB2GRAY\n",
      "COLOR_RGB2HLS\n",
      "COLOR_RGB2HLS_FULL\n",
      "COLOR_RGB2HSV\n",
      "COLOR_RGB2HSV_FULL\n",
      "COLOR_RGB2LAB\n",
      "COLOR_RGB2LUV\n",
      "COLOR_RGB2Lab\n",
      "COLOR_RGB2Luv\n",
      "COLOR_RGB2RGBA\n",
      "COLOR_RGB2XYZ\n",
      "COLOR_RGB2YCR_CB\n",
      "COLOR_RGB2YCrCb\n",
      "COLOR_RGB2YUV\n",
      "COLOR_RGB2YUV_I420\n",
      "COLOR_RGB2YUV_IYUV\n",
      "COLOR_RGB2YUV_YV12\n",
      "COLOR_RGBA2BGR\n",
      "COLOR_RGBA2BGR555\n",
      "COLOR_RGBA2BGR565\n",
      "COLOR_RGBA2BGRA\n",
      "COLOR_RGBA2GRAY\n",
      "COLOR_RGBA2M_RGBA\n",
      "COLOR_RGBA2RGB\n",
      "COLOR_RGBA2YUV_I420\n",
      "COLOR_RGBA2YUV_IYUV\n",
      "COLOR_RGBA2YUV_YV12\n",
      "COLOR_RGBA2mRGBA\n",
      "COLOR_XYZ2BGR\n",
      "COLOR_XYZ2RGB\n",
      "COLOR_YCR_CB2BGR\n",
      "COLOR_YCR_CB2RGB\n",
      "COLOR_YCrCb2BGR\n",
      "COLOR_YCrCb2RGB\n",
      "COLOR_YUV2BGR\n",
      "COLOR_YUV2BGRA_I420\n",
      "COLOR_YUV2BGRA_IYUV\n",
      "COLOR_YUV2BGRA_NV12\n",
      "COLOR_YUV2BGRA_NV21\n",
      "COLOR_YUV2BGRA_UYNV\n",
      "COLOR_YUV2BGRA_UYVY\n",
      "COLOR_YUV2BGRA_Y422\n",
      "COLOR_YUV2BGRA_YUNV\n",
      "COLOR_YUV2BGRA_YUY2\n",
      "COLOR_YUV2BGRA_YUYV\n",
      "COLOR_YUV2BGRA_YV12\n",
      "COLOR_YUV2BGRA_YVYU\n",
      "COLOR_YUV2BGR_I420\n",
      "COLOR_YUV2BGR_IYUV\n",
      "COLOR_YUV2BGR_NV12\n",
      "COLOR_YUV2BGR_NV21\n",
      "COLOR_YUV2BGR_UYNV\n",
      "COLOR_YUV2BGR_UYVY\n",
      "COLOR_YUV2BGR_Y422\n",
      "COLOR_YUV2BGR_YUNV\n",
      "COLOR_YUV2BGR_YUY2\n",
      "COLOR_YUV2BGR_YUYV\n",
      "COLOR_YUV2BGR_YV12\n",
      "COLOR_YUV2BGR_YVYU\n",
      "COLOR_YUV2GRAY_420\n",
      "COLOR_YUV2GRAY_I420\n",
      "COLOR_YUV2GRAY_IYUV\n",
      "COLOR_YUV2GRAY_NV12\n",
      "COLOR_YUV2GRAY_NV21\n",
      "COLOR_YUV2GRAY_UYNV\n",
      "COLOR_YUV2GRAY_UYVY\n",
      "COLOR_YUV2GRAY_Y422\n",
      "COLOR_YUV2GRAY_YUNV\n",
      "COLOR_YUV2GRAY_YUY2\n",
      "COLOR_YUV2GRAY_YUYV\n",
      "COLOR_YUV2GRAY_YV12\n",
      "COLOR_YUV2GRAY_YVYU\n",
      "COLOR_YUV2RGB\n",
      "COLOR_YUV2RGBA_I420\n",
      "COLOR_YUV2RGBA_IYUV\n",
      "COLOR_YUV2RGBA_NV12\n",
      "COLOR_YUV2RGBA_NV21\n",
      "COLOR_YUV2RGBA_UYNV\n",
      "COLOR_YUV2RGBA_UYVY\n",
      "COLOR_YUV2RGBA_Y422\n",
      "COLOR_YUV2RGBA_YUNV\n",
      "COLOR_YUV2RGBA_YUY2\n",
      "COLOR_YUV2RGBA_YUYV\n",
      "COLOR_YUV2RGBA_YV12\n",
      "COLOR_YUV2RGBA_YVYU\n",
      "COLOR_YUV2RGB_I420\n",
      "COLOR_YUV2RGB_IYUV\n",
      "COLOR_YUV2RGB_NV12\n",
      "COLOR_YUV2RGB_NV21\n",
      "COLOR_YUV2RGB_UYNV\n",
      "COLOR_YUV2RGB_UYVY\n",
      "COLOR_YUV2RGB_Y422\n",
      "COLOR_YUV2RGB_YUNV\n",
      "COLOR_YUV2RGB_YUY2\n",
      "COLOR_YUV2RGB_YUYV\n",
      "COLOR_YUV2RGB_YV12\n",
      "COLOR_YUV2RGB_YVYU\n",
      "COLOR_YUV420P2BGR\n",
      "COLOR_YUV420P2BGRA\n",
      "COLOR_YUV420P2GRAY\n",
      "COLOR_YUV420P2RGB\n",
      "COLOR_YUV420P2RGBA\n",
      "COLOR_YUV420SP2BGR\n",
      "COLOR_YUV420SP2BGRA\n",
      "COLOR_YUV420SP2GRAY\n",
      "COLOR_YUV420SP2RGB\n",
      "COLOR_YUV420SP2RGBA\n",
      "COLOR_YUV420p2BGR\n",
      "COLOR_YUV420p2BGRA\n",
      "COLOR_YUV420p2GRAY\n",
      "COLOR_YUV420p2RGB\n",
      "COLOR_YUV420p2RGBA\n",
      "COLOR_YUV420sp2BGR\n",
      "COLOR_YUV420sp2BGRA\n",
      "COLOR_YUV420sp2GRAY\n",
      "COLOR_YUV420sp2RGB\n",
      "COLOR_YUV420sp2RGBA\n",
      "COLOR_mRGBA2RGBA\n",
      "IMREAD_ANYCOLOR\n",
      "IMREAD_COLOR\n",
      "IMREAD_REDUCED_COLOR_2\n",
      "IMREAD_REDUCED_COLOR_4\n",
      "IMREAD_REDUCED_COLOR_8\n"
     ]
    }
   ],
   "source": [
    "for filename in dir(cv2):\n",
    "    if 'COLOR' in filename:\n",
    "        print(filename)"
   ]
  },
  {
   "cell_type": "markdown",
   "metadata": {},
   "source": [
    "# 12 - OpenCV Webcam Image Capture"
   ]
  },
  {
   "cell_type": "code",
   "execution_count": 2,
   "metadata": {},
   "outputs": [
    {
     "name": "stdout",
     "output_type": "stream",
     "text": [
      "True\n",
      "[[[0 0 0]\n",
      "  [0 0 0]\n",
      "  [0 0 0]\n",
      "  ...\n",
      "  [0 0 4]\n",
      "  [0 0 4]\n",
      "  [0 0 4]]\n",
      "\n",
      " [[0 0 0]\n",
      "  [0 0 0]\n",
      "  [0 0 0]\n",
      "  ...\n",
      "  [0 0 0]\n",
      "  [0 0 0]\n",
      "  [0 0 0]]\n",
      "\n",
      " [[0 0 0]\n",
      "  [0 0 0]\n",
      "  [0 0 0]\n",
      "  ...\n",
      "  [0 0 4]\n",
      "  [0 0 4]\n",
      "  [0 0 4]]\n",
      "\n",
      " ...\n",
      "\n",
      " [[0 0 0]\n",
      "  [0 0 0]\n",
      "  [0 0 0]\n",
      "  ...\n",
      "  [0 0 2]\n",
      "  [0 0 2]\n",
      "  [0 0 2]]\n",
      "\n",
      " [[0 0 0]\n",
      "  [0 0 0]\n",
      "  [0 0 0]\n",
      "  ...\n",
      "  [0 0 2]\n",
      "  [0 0 2]\n",
      "  [0 0 2]]\n",
      "\n",
      " [[0 0 0]\n",
      "  [0 0 0]\n",
      "  [0 0 0]\n",
      "  ...\n",
      "  [0 0 0]\n",
      "  [0 0 0]\n",
      "  [0 0 0]]]\n"
     ]
    },
    {
     "data": {
      "image/png": "[encoded data removed]",
      "text/plain": [
       "<Figure size 432x288 with 1 Axes>"
      ]
     },
     "metadata": {
      "needs_background": "light"
     },
     "output_type": "display_data"
    }
   ],
   "source": [
    "import cv2\n",
    "import numpy as np\n",
    "import matplotlib.pyplot as plt \n",
    "\n",
    "\n",
    "cap=cv2.VideoCapture(0)\n",
    "red, frame=cap.read()\n",
    "\n",
    "print(red)\n",
    "print(frame)\n",
    "\n",
    "imk=cv2.cvtColor(frame,cv2.COLOR_BGR2RGB)\n",
    "plt.imshow(imk)\n",
    "\n",
    "\n",
    "\n",
    "\n",
    "\n",
    "cap.release()"
   ]
  },
  {
   "cell_type": "markdown",
   "metadata": {},
   "source": [
    "# 13 - OpenCV Live Video Feed Capture and Processing"
   ]
  },
  {
   "cell_type": "code",
   "execution_count": 10,
   "metadata": {},
   "outputs": [
    {
     "name": "stdout",
     "output_type": "stream",
     "text": [
      "640.0\n",
      "480.0\n",
      "320.0\n",
      "240.0\n"
     ]
    }
   ],
   "source": [
    "import cv2\n",
    "wid='Live'\n",
    "cv2.namedWindow(wid)\n",
    "cap=cv2.VideoCapture(0)\n",
    "print(cap.get(3))\n",
    "print(cap.get(4))\n",
    "cap.set(3,300)\n",
    "cap.set(4,200)\n",
    "\n",
    "print(cap.get(3))\n",
    "print(cap.get(4))\n",
    "while(True):\n",
    "    red,frame=cap.read()\n",
    "    cv2.imshow(wid,frame)\n",
    "    if cv2.waitKey(1)==27:\n",
    "        break\n",
    "cap.release()\n",
    "cv2.destroyWindow(wid)    "
   ]
  },
  {
   "cell_type": "code",
   "execution_count": 11,
   "metadata": {},
   "outputs": [
    {
     "name": "stdout",
     "output_type": "stream",
     "text": [
      "CAP_PROP_XI_COLOR_FILTER_ARRAY\n",
      "CAP_PROP_XI_IMAGE_IS_COLOR\n",
      "COLORMAP_AUTUMN\n",
      "COLORMAP_BONE\n",
      "COLORMAP_CIVIDIS\n",
      "COLORMAP_COOL\n",
      "COLORMAP_HOT\n",
      "COLORMAP_HSV\n",
      "COLORMAP_INFERNO\n",
      "COLORMAP_JET\n",
      "COLORMAP_MAGMA\n",
      "COLORMAP_OCEAN\n",
      "COLORMAP_PARULA\n",
      "COLORMAP_PINK\n",
      "COLORMAP_PLASMA\n",
      "COLORMAP_RAINBOW\n",
      "COLORMAP_SPRING\n",
      "COLORMAP_SUMMER\n",
      "COLORMAP_TWILIGHT\n",
      "COLORMAP_TWILIGHT_SHIFTED\n",
      "COLORMAP_VIRIDIS\n",
      "COLORMAP_WINTER\n",
      "COLOR_BAYER_BG2BGR\n",
      "COLOR_BAYER_BG2BGRA\n",
      "COLOR_BAYER_BG2BGR_EA\n",
      "COLOR_BAYER_BG2BGR_VNG\n",
      "COLOR_BAYER_BG2GRAY\n",
      "COLOR_BAYER_BG2RGB\n",
      "COLOR_BAYER_BG2RGBA\n",
      "COLOR_BAYER_BG2RGB_EA\n",
      "COLOR_BAYER_BG2RGB_VNG\n",
      "COLOR_BAYER_GB2BGR\n",
      "COLOR_BAYER_GB2BGRA\n",
      "COLOR_BAYER_GB2BGR_EA\n",
      "COLOR_BAYER_GB2BGR_VNG\n",
      "COLOR_BAYER_GB2GRAY\n",
      "COLOR_BAYER_GB2RGB\n",
      "COLOR_BAYER_GB2RGBA\n",
      "COLOR_BAYER_GB2RGB_EA\n",
      "COLOR_BAYER_GB2RGB_VNG\n",
      "COLOR_BAYER_GR2BGR\n",
      "COLOR_BAYER_GR2BGRA\n",
      "COLOR_BAYER_GR2BGR_EA\n",
      "COLOR_BAYER_GR2BGR_VNG\n",
      "COLOR_BAYER_GR2GRAY\n",
      "COLOR_BAYER_GR2RGB\n",
      "COLOR_BAYER_GR2RGBA\n",
      "COLOR_BAYER_GR2RGB_EA\n",
      "COLOR_BAYER_GR2RGB_VNG\n",
      "COLOR_BAYER_RG2BGR\n",
      "COLOR_BAYER_RG2BGRA\n",
      "COLOR_BAYER_RG2BGR_EA\n",
      "COLOR_BAYER_RG2BGR_VNG\n",
      "COLOR_BAYER_RG2GRAY\n",
      "COLOR_BAYER_RG2RGB\n",
      "COLOR_BAYER_RG2RGBA\n",
      "COLOR_BAYER_RG2RGB_EA\n",
      "COLOR_BAYER_RG2RGB_VNG\n",
      "COLOR_BGR2BGR555\n",
      "COLOR_BGR2BGR565\n",
      "COLOR_BGR2BGRA\n",
      "COLOR_BGR2GRAY\n",
      "COLOR_BGR2HLS\n",
      "COLOR_BGR2HLS_FULL\n",
      "COLOR_BGR2HSV\n",
      "COLOR_BGR2HSV_FULL\n",
      "COLOR_BGR2LAB\n",
      "COLOR_BGR2LUV\n",
      "COLOR_BGR2Lab\n",
      "COLOR_BGR2Luv\n",
      "COLOR_BGR2RGB\n",
      "COLOR_BGR2RGBA\n",
      "COLOR_BGR2XYZ\n",
      "COLOR_BGR2YCR_CB\n",
      "COLOR_BGR2YCrCb\n",
      "COLOR_BGR2YUV\n",
      "COLOR_BGR2YUV_I420\n",
      "COLOR_BGR2YUV_IYUV\n",
      "COLOR_BGR2YUV_YV12\n",
      "COLOR_BGR5552BGR\n",
      "COLOR_BGR5552BGRA\n",
      "COLOR_BGR5552GRAY\n",
      "COLOR_BGR5552RGB\n",
      "COLOR_BGR5552RGBA\n",
      "COLOR_BGR5652BGR\n",
      "COLOR_BGR5652BGRA\n",
      "COLOR_BGR5652GRAY\n",
      "COLOR_BGR5652RGB\n",
      "COLOR_BGR5652RGBA\n",
      "COLOR_BGRA2BGR\n",
      "COLOR_BGRA2BGR555\n",
      "COLOR_BGRA2BGR565\n",
      "COLOR_BGRA2GRAY\n",
      "COLOR_BGRA2RGB\n",
      "COLOR_BGRA2RGBA\n",
      "COLOR_BGRA2YUV_I420\n",
      "COLOR_BGRA2YUV_IYUV\n",
      "COLOR_BGRA2YUV_YV12\n",
      "COLOR_BayerBG2BGR\n",
      "COLOR_BayerBG2BGRA\n",
      "COLOR_BayerBG2BGR_EA\n",
      "COLOR_BayerBG2BGR_VNG\n",
      "COLOR_BayerBG2GRAY\n",
      "COLOR_BayerBG2RGB\n",
      "COLOR_BayerBG2RGBA\n",
      "COLOR_BayerBG2RGB_EA\n",
      "COLOR_BayerBG2RGB_VNG\n",
      "COLOR_BayerGB2BGR\n",
      "COLOR_BayerGB2BGRA\n",
      "COLOR_BayerGB2BGR_EA\n",
      "COLOR_BayerGB2BGR_VNG\n",
      "COLOR_BayerGB2GRAY\n",
      "COLOR_BayerGB2RGB\n",
      "COLOR_BayerGB2RGBA\n",
      "COLOR_BayerGB2RGB_EA\n",
      "COLOR_BayerGB2RGB_VNG\n",
      "COLOR_BayerGR2BGR\n",
      "COLOR_BayerGR2BGRA\n",
      "COLOR_BayerGR2BGR_EA\n",
      "COLOR_BayerGR2BGR_VNG\n",
      "COLOR_BayerGR2GRAY\n",
      "COLOR_BayerGR2RGB\n",
      "COLOR_BayerGR2RGBA\n",
      "COLOR_BayerGR2RGB_EA\n",
      "COLOR_BayerGR2RGB_VNG\n",
      "COLOR_BayerRG2BGR\n",
      "COLOR_BayerRG2BGRA\n",
      "COLOR_BayerRG2BGR_EA\n",
      "COLOR_BayerRG2BGR_VNG\n",
      "COLOR_BayerRG2GRAY\n",
      "COLOR_BayerRG2RGB\n",
      "COLOR_BayerRG2RGBA\n",
      "COLOR_BayerRG2RGB_EA\n",
      "COLOR_BayerRG2RGB_VNG\n",
      "COLOR_COLORCVT_MAX\n",
      "COLOR_GRAY2BGR\n",
      "COLOR_GRAY2BGR555\n",
      "COLOR_GRAY2BGR565\n",
      "COLOR_GRAY2BGRA\n",
      "COLOR_GRAY2RGB\n",
      "COLOR_GRAY2RGBA\n",
      "COLOR_HLS2BGR\n",
      "COLOR_HLS2BGR_FULL\n",
      "COLOR_HLS2RGB\n",
      "COLOR_HLS2RGB_FULL\n",
      "COLOR_HSV2BGR\n",
      "COLOR_HSV2BGR_FULL\n",
      "COLOR_HSV2RGB\n",
      "COLOR_HSV2RGB_FULL\n",
      "COLOR_LAB2BGR\n",
      "COLOR_LAB2LBGR\n",
      "COLOR_LAB2LRGB\n",
      "COLOR_LAB2RGB\n",
      "COLOR_LBGR2LAB\n",
      "COLOR_LBGR2LUV\n",
      "COLOR_LBGR2Lab\n",
      "COLOR_LBGR2Luv\n",
      "COLOR_LRGB2LAB\n",
      "COLOR_LRGB2LUV\n",
      "COLOR_LRGB2Lab\n",
      "COLOR_LRGB2Luv\n",
      "COLOR_LUV2BGR\n",
      "COLOR_LUV2LBGR\n",
      "COLOR_LUV2LRGB\n",
      "COLOR_LUV2RGB\n",
      "COLOR_Lab2BGR\n",
      "COLOR_Lab2LBGR\n",
      "COLOR_Lab2LRGB\n",
      "COLOR_Lab2RGB\n",
      "COLOR_Luv2BGR\n",
      "COLOR_Luv2LBGR\n",
      "COLOR_Luv2LRGB\n",
      "COLOR_Luv2RGB\n",
      "COLOR_M_RGBA2RGBA\n",
      "COLOR_RGB2BGR\n",
      "COLOR_RGB2BGR555\n",
      "COLOR_RGB2BGR565\n",
      "COLOR_RGB2BGRA\n",
      "COLOR_RGB2GRAY\n",
      "COLOR_RGB2HLS\n",
      "COLOR_RGB2HLS_FULL\n",
      "COLOR_RGB2HSV\n",
      "COLOR_RGB2HSV_FULL\n",
      "COLOR_RGB2LAB\n",
      "COLOR_RGB2LUV\n",
      "COLOR_RGB2Lab\n",
      "COLOR_RGB2Luv\n",
      "COLOR_RGB2RGBA\n",
      "COLOR_RGB2XYZ\n",
      "COLOR_RGB2YCR_CB\n",
      "COLOR_RGB2YCrCb\n",
      "COLOR_RGB2YUV\n",
      "COLOR_RGB2YUV_I420\n",
      "COLOR_RGB2YUV_IYUV\n",
      "COLOR_RGB2YUV_YV12\n",
      "COLOR_RGBA2BGR\n",
      "COLOR_RGBA2BGR555\n",
      "COLOR_RGBA2BGR565\n",
      "COLOR_RGBA2BGRA\n",
      "COLOR_RGBA2GRAY\n",
      "COLOR_RGBA2M_RGBA\n",
      "COLOR_RGBA2RGB\n",
      "COLOR_RGBA2YUV_I420\n",
      "COLOR_RGBA2YUV_IYUV\n",
      "COLOR_RGBA2YUV_YV12\n",
      "COLOR_RGBA2mRGBA\n",
      "COLOR_XYZ2BGR\n",
      "COLOR_XYZ2RGB\n",
      "COLOR_YCR_CB2BGR\n",
      "COLOR_YCR_CB2RGB\n",
      "COLOR_YCrCb2BGR\n",
      "COLOR_YCrCb2RGB\n",
      "COLOR_YUV2BGR\n",
      "COLOR_YUV2BGRA_I420\n",
      "COLOR_YUV2BGRA_IYUV\n",
      "COLOR_YUV2BGRA_NV12\n",
      "COLOR_YUV2BGRA_NV21\n",
      "COLOR_YUV2BGRA_UYNV\n",
      "COLOR_YUV2BGRA_UYVY\n",
      "COLOR_YUV2BGRA_Y422\n",
      "COLOR_YUV2BGRA_YUNV\n",
      "COLOR_YUV2BGRA_YUY2\n",
      "COLOR_YUV2BGRA_YUYV\n",
      "COLOR_YUV2BGRA_YV12\n",
      "COLOR_YUV2BGRA_YVYU\n",
      "COLOR_YUV2BGR_I420\n",
      "COLOR_YUV2BGR_IYUV\n",
      "COLOR_YUV2BGR_NV12\n",
      "COLOR_YUV2BGR_NV21\n",
      "COLOR_YUV2BGR_UYNV\n",
      "COLOR_YUV2BGR_UYVY\n",
      "COLOR_YUV2BGR_Y422\n",
      "COLOR_YUV2BGR_YUNV\n",
      "COLOR_YUV2BGR_YUY2\n",
      "COLOR_YUV2BGR_YUYV\n",
      "COLOR_YUV2BGR_YV12\n",
      "COLOR_YUV2BGR_YVYU\n",
      "COLOR_YUV2GRAY_420\n",
      "COLOR_YUV2GRAY_I420\n",
      "COLOR_YUV2GRAY_IYUV\n",
      "COLOR_YUV2GRAY_NV12\n",
      "COLOR_YUV2GRAY_NV21\n",
      "COLOR_YUV2GRAY_UYNV\n",
      "COLOR_YUV2GRAY_UYVY\n",
      "COLOR_YUV2GRAY_Y422\n",
      "COLOR_YUV2GRAY_YUNV\n",
      "COLOR_YUV2GRAY_YUY2\n",
      "COLOR_YUV2GRAY_YUYV\n",
      "COLOR_YUV2GRAY_YV12\n",
      "COLOR_YUV2GRAY_YVYU\n",
      "COLOR_YUV2RGB\n",
      "COLOR_YUV2RGBA_I420\n",
      "COLOR_YUV2RGBA_IYUV\n",
      "COLOR_YUV2RGBA_NV12\n",
      "COLOR_YUV2RGBA_NV21\n",
      "COLOR_YUV2RGBA_UYNV\n",
      "COLOR_YUV2RGBA_UYVY\n",
      "COLOR_YUV2RGBA_Y422\n",
      "COLOR_YUV2RGBA_YUNV\n",
      "COLOR_YUV2RGBA_YUY2\n",
      "COLOR_YUV2RGBA_YUYV\n",
      "COLOR_YUV2RGBA_YV12\n",
      "COLOR_YUV2RGBA_YVYU\n",
      "COLOR_YUV2RGB_I420\n",
      "COLOR_YUV2RGB_IYUV\n",
      "COLOR_YUV2RGB_NV12\n",
      "COLOR_YUV2RGB_NV21\n",
      "COLOR_YUV2RGB_UYNV\n",
      "COLOR_YUV2RGB_UYVY\n",
      "COLOR_YUV2RGB_Y422\n",
      "COLOR_YUV2RGB_YUNV\n",
      "COLOR_YUV2RGB_YUY2\n",
      "COLOR_YUV2RGB_YUYV\n",
      "COLOR_YUV2RGB_YV12\n",
      "COLOR_YUV2RGB_YVYU\n",
      "COLOR_YUV420P2BGR\n",
      "COLOR_YUV420P2BGRA\n",
      "COLOR_YUV420P2GRAY\n",
      "COLOR_YUV420P2RGB\n",
      "COLOR_YUV420P2RGBA\n",
      "COLOR_YUV420SP2BGR\n",
      "COLOR_YUV420SP2BGRA\n",
      "COLOR_YUV420SP2GRAY\n",
      "COLOR_YUV420SP2RGB\n",
      "COLOR_YUV420SP2RGBA\n",
      "COLOR_YUV420p2BGR\n",
      "COLOR_YUV420p2BGRA\n",
      "COLOR_YUV420p2GRAY\n",
      "COLOR_YUV420p2RGB\n",
      "COLOR_YUV420p2RGBA\n",
      "COLOR_YUV420sp2BGR\n",
      "COLOR_YUV420sp2BGRA\n",
      "COLOR_YUV420sp2GRAY\n",
      "COLOR_YUV420sp2RGB\n",
      "COLOR_YUV420sp2RGBA\n",
      "COLOR_mRGBA2RGBA\n",
      "IMREAD_ANYCOLOR\n",
      "IMREAD_COLOR\n",
      "IMREAD_REDUCED_COLOR_2\n",
      "IMREAD_REDUCED_COLOR_4\n",
      "IMREAD_REDUCED_COLOR_8\n"
     ]
    }
   ],
   "source": [
    "import cv2\n",
    "for i in dir(cv2):\n",
    "    if 'COLOR' in i :\n",
    "        print(i)"
   ]
  },
  {
   "cell_type": "markdown",
   "metadata": {},
   "source": [
    "# 15 - OpenCV Webcam Video Recording to a file"
   ]
  },
  {
   "cell_type": "code",
   "execution_count": 16,
   "metadata": {},
   "outputs": [],
   "source": [
    "import cv2\n",
    "videname='Live Captured Video'\n",
    "cv2.namedWindow(videname)\n",
    "cap=cv2.VideoCapture(0)\n",
    "\n",
    "filename = 'C:\\\\Users\\sahin\\OneDrive\\Bilder\\Screenshots\\sahk.mp4'\n",
    "\n",
    "codec = cv2.VideoWriter_fourcc(*'MP4V')\n",
    "\n",
    "framerate = 20.0\n",
    "\n",
    "resolution = (640,480)\n",
    "\n",
    "VideoFileOutput = cv2.VideoWriter(filename, codec, framerate, resolution)\n",
    "\n",
    "\n",
    "\n",
    "while True:\n",
    "    redt,frame=cap.read()\n",
    "   \n",
    "    frame1 = cv2.cvtColor(frame, cv2.COLOR_BGR2HSV)\n",
    "\n",
    "    VideoFileOutput.write(frame1)\n",
    "    \n",
    "    cv2.imshow(videname, frame1)\n",
    "    \n",
    "    if cv2.waitKey(1)  == 27:\n",
    "        break\n",
    "        \n",
    "VideoFileOutput.release()\n",
    "cap.release()\n",
    "cv2.destroyWindow(videname)\n",
    "    \n",
    "        \n",
    "    "
   ]
  },
  {
   "cell_type": "code",
   "execution_count": 4,
   "metadata": {},
   "outputs": [
    {
     "name": "stdout",
     "output_type": "stream",
     "text": [
      "Help on built-in function VideoWriter_fourcc:\n",
      "\n",
      "VideoWriter_fourcc(...)\n",
      "    VideoWriter_fourcc(c1, c2, c3, c4) -> retval\n",
      "    .   @brief Concatenates 4 chars to a fourcc code\n",
      "    .   \n",
      "    .   @return a fourcc code\n",
      "    .   \n",
      "    .   This static method constructs the fourcc code of the codec to be used in the constructor\n",
      "    .   VideoWriter::VideoWriter or VideoWriter::open.\n",
      "\n"
     ]
    }
   ],
   "source": [
    "import cv2\n",
    "\n",
    "help( cv2.VideoWriter_fourcc)"
   ]
  },
  {
   "cell_type": "markdown",
   "metadata": {},
   "source": [
    "# 16 - OpenCV Video Player"
   ]
  },
  {
   "cell_type": "code",
   "execution_count": 21,
   "metadata": {},
   "outputs": [],
   "source": [
    "import cv2\n",
    "filename=\"C:\\\\Users\\sahin\\OneDrive\\Bilder\\Screenshots\\sahk.mp4\"\n",
    "nam='3.DENEME'\n",
    "cv2.namedWindow(nam)\n",
    "cap=cv2.VideoCapture(filename)\n",
    "\n",
    "while True:\n",
    "    \n",
    "    red,frame=cap.read()\n",
    "    frame1=cv2.cvtColor(frame,cv2.COLOR_BGR2RGB)\n",
    "    \n",
    "    cv2.imshow(nam,frame1)\n",
    "    if cv2.waitKey(500)==27:\n",
    "        break\n",
    "        \n",
    "cv2.destroyWindow(nam)\n"
   ]
  },
  {
   "cell_type": "code",
   "execution_count": 27,
   "metadata": {},
   "outputs": [
    {
     "name": "stdout",
     "output_type": "stream",
     "text": [
      "Help on built-in function cvtColor:\n",
      "\n",
      "cvtColor(...)\n",
      "    cvtColor(src, code[, dst[, dstCn]]) -> dst\n",
      "    .   @brief Converts an image from one color space to another.\n",
      "    .   \n",
      "    .   The function converts an input image from one color space to another. In case of a transformation\n",
      "    .   to-from RGB color space, the order of the channels should be specified explicitly (RGB or BGR). Note\n",
      "    .   that the default color format in OpenCV is often referred to as RGB but it is actually BGR (the\n",
      "    .   bytes are reversed). So the first byte in a standard (24-bit) color image will be an 8-bit Blue\n",
      "    .   component, the second byte will be Green, and the third byte will be Red. The fourth, fifth, and\n",
      "    .   sixth bytes would then be the second pixel (Blue, then Green, then Red), and so on.\n",
      "    .   \n",
      "    .   The conventional ranges for R, G, and B channel values are:\n",
      "    .   -   0 to 255 for CV_8U images\n",
      "    .   -   0 to 65535 for CV_16U images\n",
      "    .   -   0 to 1 for CV_32F images\n",
      "    .   \n",
      "    .   In case of linear transformations, the range does not matter. But in case of a non-linear\n",
      "    .   transformation, an input RGB image should be normalized to the proper value range to get the correct\n",
      "    .   results, for example, for RGB \\f$\\rightarrow\\f$ L\\*u\\*v\\* transformation. For example, if you have a\n",
      "    .   32-bit floating-point image directly converted from an 8-bit image without any scaling, then it will\n",
      "    .   have the 0..255 value range instead of 0..1 assumed by the function. So, before calling #cvtColor ,\n",
      "    .   you need first to scale the image down:\n",
      "    .   @code\n",
      "    .   img *= 1./255;\n",
      "    .   cvtColor(img, img, COLOR_BGR2Luv);\n",
      "    .   @endcode\n",
      "    .   If you use #cvtColor with 8-bit images, the conversion will have some information lost. For many\n",
      "    .   applications, this will not be noticeable but it is recommended to use 32-bit images in applications\n",
      "    .   that need the full range of colors or that convert an image before an operation and then convert\n",
      "    .   back.\n",
      "    .   \n",
      "    .   If conversion adds the alpha channel, its value will set to the maximum of corresponding channel\n",
      "    .   range: 255 for CV_8U, 65535 for CV_16U, 1 for CV_32F.\n",
      "    .   \n",
      "    .   @param src input image: 8-bit unsigned, 16-bit unsigned ( CV_16UC... ), or single-precision\n",
      "    .   floating-point.\n",
      "    .   @param dst output image of the same size and depth as src.\n",
      "    .   @param code color space conversion code (see #ColorConversionCodes).\n",
      "    .   @param dstCn number of channels in the destination image; if the parameter is 0, the number of the\n",
      "    .   channels is derived automatically from src and code.\n",
      "    .   \n",
      "    .   @see @ref imgproc_color_conversions\n",
      "\n"
     ]
    }
   ],
   "source": [
    "import cv2\n",
    "help(cv2.cvtColor)"
   ]
  },
  {
   "cell_type": "markdown",
   "metadata": {},
   "source": [
    "# 18 - Displaying Multiple Images with Matplotlib"
   ]
  },
  {
   "cell_type": "code",
   "execution_count": 36,
   "metadata": {},
   "outputs": [
    {
     "ename": "ValueError",
     "evalue": "operands could not be broadcast together with shapes (303,400,3) (499,495,3) ",
     "output_type": "error",
     "traceback": [
      "\u001b[1;31m---------------------------------------------------------------------------\u001b[0m",
      "\u001b[1;31mValueError\u001b[0m                                Traceback (most recent call last)",
      "\u001b[1;32m<ipython-input-36-a9cda7557505>\u001b[0m in \u001b[0;36m<module>\u001b[1;34m\u001b[0m\n\u001b[0;32m      7\u001b[0m \u001b[0mimage1\u001b[0m\u001b[1;33m=\u001b[0m \u001b[0mcv2\u001b[0m\u001b[1;33m.\u001b[0m\u001b[0mimread\u001b[0m\u001b[1;33m(\u001b[0m\u001b[0mpath1\u001b[0m\u001b[1;33m)\u001b[0m\u001b[1;33m\u001b[0m\u001b[1;33m\u001b[0m\u001b[0m\n\u001b[0;32m      8\u001b[0m \u001b[0mimage2\u001b[0m\u001b[1;33m=\u001b[0m\u001b[0mcv2\u001b[0m\u001b[1;33m.\u001b[0m\u001b[0mimread\u001b[0m\u001b[1;33m(\u001b[0m\u001b[0mpath2\u001b[0m\u001b[1;33m)\u001b[0m\u001b[1;33m\u001b[0m\u001b[1;33m\u001b[0m\u001b[0m\n\u001b[1;32m----> 9\u001b[1;33m \u001b[0mimage3\u001b[0m\u001b[1;33m=\u001b[0m\u001b[0mimage1\u001b[0m\u001b[1;33m+\u001b[0m\u001b[0mimage2\u001b[0m\u001b[1;33m\u001b[0m\u001b[1;33m\u001b[0m\u001b[0m\n\u001b[0m\u001b[0;32m     10\u001b[0m \u001b[0mprint\u001b[0m\u001b[1;33m(\u001b[0m\u001b[0mimage2\u001b[0m\u001b[1;33m.\u001b[0m\u001b[0mshape\u001b[0m\u001b[1;33m)\u001b[0m\u001b[1;33m\u001b[0m\u001b[1;33m\u001b[0m\u001b[0m\n\u001b[0;32m     11\u001b[0m \u001b[0mplt\u001b[0m\u001b[1;33m.\u001b[0m\u001b[0msubplot\u001b[0m\u001b[1;33m(\u001b[0m\u001b[1;36m1\u001b[0m\u001b[1;33m,\u001b[0m\u001b[1;36m3\u001b[0m\u001b[1;33m,\u001b[0m\u001b[1;36m1\u001b[0m\u001b[1;33m)\u001b[0m\u001b[1;33m\u001b[0m\u001b[1;33m\u001b[0m\u001b[0m\n",
      "\u001b[1;31mValueError\u001b[0m: operands could not be broadcast together with shapes (303,400,3) (499,495,3) "
     ]
    }
   ],
   "source": [
    "import matplotlib.pyplot as plt \n",
    "import cv2\n",
    "\n",
    "path1=\"train\\cat.6.jpg\"\n",
    "path2=\"train\\cat.7.jpg\"\n",
    "import cv2\n",
    "image1= cv2.imread(path1)\n",
    "image2=cv2.imread(path2)\n",
    "image3=image1+image2\n",
    "print(image2.shape)\n",
    "plt.subplot(1,3,1)\n",
    "fram1c=cv2.cvtColor(image1,cv2.COLOR_BGR2RGB)\n",
    "plt.imshow(fram1c)\n",
    "\n",
    "\n",
    "plt.subplot(1,3,2)\n",
    "fram2c=cv2.cvtColor(image2,cv2.COLOR_BGR2RGB)\n",
    "plt.imshow(fram2c)\n",
    "\n",
    "plt.subplot(1,3,3)\n",
    "plt.imshow(image3)\n",
    "\n",
    "plt.show()\n",
    "\n"
   ]
  },
  {
   "cell_type": "code",
   "execution_count": 43,
   "metadata": {},
   "outputs": [
    {
     "name": "stdout",
     "output_type": "stream",
     "text": [
      "4\n",
      "17\n",
      "29\n",
      "33\n",
      "58\n",
      "65\n",
      "70\n",
      "73\n",
      "81\n",
      "87\n",
      "91\n",
      "92\n",
      "116\n",
      "124\n",
      "131\n",
      "144\n",
      "150\n",
      "151\n",
      "163\n",
      "164\n",
      "187\n",
      "195\n",
      "198\n",
      "217\n",
      "221\n",
      "222\n",
      "226\n",
      "236\n",
      "241\n",
      "246\n",
      "263\n",
      "270\n",
      "286\n",
      "318\n",
      "321\n",
      "325\n",
      "327\n",
      "360\n",
      "363\n",
      "369\n",
      "371\n",
      "374\n",
      "376\n",
      "377\n",
      "384\n",
      "387\n",
      "397\n",
      "405\n",
      "412\n",
      "423\n",
      "427\n",
      "450\n",
      "455\n",
      "456\n",
      "467\n",
      "468\n",
      "478\n",
      "493\n",
      "499\n",
      "500\n",
      "504\n",
      "506\n",
      "508\n",
      "511\n",
      "512\n",
      "521\n",
      "530\n",
      "544\n",
      "548\n",
      "555\n",
      "571\n",
      "590\n",
      "605\n",
      "607\n",
      "609\n",
      "614\n",
      "616\n",
      "630\n",
      "638\n",
      "641\n",
      "649\n",
      "652\n",
      "669\n",
      "675\n",
      "676\n",
      "677\n",
      "687\n",
      "701\n",
      "704\n",
      "708\n",
      "714\n",
      "717\n",
      "726\n",
      "746\n",
      "757\n",
      "763\n",
      "773\n",
      "778\n",
      "788\n",
      "794\n",
      "795\n",
      "797\n",
      "808\n",
      "812\n",
      "818\n",
      "820\n",
      "848\n",
      "873\n",
      "879\n",
      "883\n",
      "893\n",
      "903\n",
      "905\n",
      "938\n",
      "945\n",
      "952\n",
      "963\n",
      "968\n",
      "970\n",
      "981\n",
      "982\n",
      "987\n",
      "990\n",
      "991\n"
     ]
    }
   ],
   "source": [
    "import cv2\n",
    "\n",
    "path2=\"train\\cat.4.jpg\"\n",
    "image2=cv2.imread(path2)\n",
    "\n",
    "for i in range(1000) :\n",
    "    path1=\"train\\cat.\"+str(i)+\".jpg\"\n",
    "    image1= cv2.imread(path1)\n",
    "    \n",
    "    if image1.shape==image2.shape:\n",
    "        print(i)\n",
    "    \n",
    "    \n",
    "\n"
   ]
  },
  {
   "cell_type": "code",
   "execution_count": 51,
   "metadata": {},
   "outputs": [
    {
     "name": "stdout",
     "output_type": "stream",
     "text": [
      "sucesfully \n",
      "sucesfully \n",
      "sucesfully \n",
      "sucesfully \n",
      "sucesfully \n",
      "sucesfully \n",
      "sucesfully \n",
      "sucesfully \n",
      "sucesfully \n",
      "sucesfully \n",
      "sucesfully \n",
      "sucesfully \n",
      "sucesfully \n",
      "sucesfully \n",
      "sucesfully \n",
      "sucesfully \n",
      "sucesfully \n",
      "sucesfully \n",
      "sucesfully \n",
      "sucesfully \n",
      "sucesfully \n",
      "sucesfully \n",
      "sucesfully \n",
      "sucesfully \n",
      "sucesfully \n",
      "sucesfully \n",
      "sucesfully \n",
      "sucesfully \n",
      "sucesfully \n",
      "sucesfully \n",
      "sucesfully \n",
      "sucesfully \n",
      "sucesfully \n",
      "sucesfully \n",
      "sucesfully \n",
      "sucesfully \n",
      "sucesfully \n",
      "sucesfully \n",
      "sucesfully \n",
      "sucesfully \n",
      "sucesfully \n",
      "sucesfully \n",
      "sucesfully \n",
      "sucesfully \n",
      "sucesfully \n",
      "sucesfully \n",
      "sucesfully \n",
      "sucesfully \n",
      "sucesfully \n",
      "sucesfully \n",
      "sucesfully \n",
      "sucesfully \n",
      "sucesfully \n",
      "sucesfully \n",
      "sucesfully \n",
      "sucesfully \n",
      "sucesfully \n",
      "sucesfully \n",
      "sucesfully \n",
      "sucesfully \n",
      "sucesfully \n",
      "sucesfully \n",
      "sucesfully \n",
      "sucesfully \n",
      "sucesfully \n",
      "sucesfully \n",
      "sucesfully \n",
      "sucesfully \n",
      "sucesfully \n",
      "sucesfully \n",
      "sucesfully \n",
      "sucesfully \n",
      "sucesfully \n",
      "sucesfully \n",
      "sucesfully \n",
      "sucesfully \n",
      "sucesfully \n",
      "sucesfully \n",
      "sucesfully \n",
      "sucesfully \n",
      "sucesfully \n",
      "sucesfully \n",
      "sucesfully \n",
      "sucesfully \n",
      "sucesfully \n",
      "sucesfully \n",
      "sucesfully \n",
      "sucesfully \n",
      "sucesfully \n",
      "sucesfully \n",
      "sucesfully \n",
      "sucesfully \n",
      "sucesfully \n",
      "sucesfully \n",
      "sucesfully \n",
      "sucesfully \n",
      "sucesfully \n",
      "sucesfully \n",
      "sucesfully \n",
      "sucesfully \n",
      "sucesfully \n",
      "sucesfully \n",
      "sucesfully \n",
      "sucesfully \n",
      "sucesfully \n",
      "sucesfully \n",
      "sucesfully \n",
      "sucesfully \n",
      "sucesfully \n",
      "sucesfully \n",
      "sucesfully \n",
      "sucesfully \n",
      "sucesfully \n",
      "sucesfully \n",
      "sucesfully \n",
      "sucesfully \n",
      "sucesfully \n",
      "sucesfully \n",
      "sucesfully \n",
      "sucesfully \n",
      "sucesfully \n",
      "sucesfully \n",
      "sucesfully \n",
      "sucesfully \n",
      "sucesfully \n",
      "sucesfully \n",
      "sucesfully \n",
      "sucesfully \n",
      "sucesfully \n",
      "sucesfully \n",
      "sucesfully \n",
      "sucesfully \n",
      "sucesfully \n",
      "sucesfully \n",
      "sucesfully \n",
      "sucesfully \n",
      "sucesfully \n",
      "sucesfully \n",
      "sucesfully \n",
      "sucesfully \n",
      "sucesfully \n",
      "sucesfully \n",
      "sucesfully \n",
      "sucesfully \n",
      "sucesfully \n",
      "sucesfully \n",
      "sucesfully \n",
      "sucesfully \n",
      "sucesfully \n",
      "sucesfully \n",
      "sucesfully \n",
      "sucesfully \n",
      "sucesfully \n",
      "sucesfully \n",
      "sucesfully \n",
      "sucesfully \n",
      "sucesfully \n",
      "sucesfully \n",
      "sucesfully \n",
      "sucesfully \n",
      "sucesfully \n",
      "sucesfully \n",
      "sucesfully \n",
      "sucesfully \n",
      "sucesfully \n",
      "sucesfully \n",
      "sucesfully \n",
      "sucesfully \n",
      "sucesfully \n",
      "sucesfully \n",
      "sucesfully \n",
      "sucesfully \n",
      "sucesfully \n",
      "sucesfully \n",
      "sucesfully \n",
      "sucesfully \n",
      "sucesfully \n",
      "sucesfully \n",
      "sucesfully \n",
      "sucesfully \n",
      "sucesfully \n",
      "sucesfully \n",
      "sucesfully \n",
      "sucesfully \n",
      "sucesfully \n",
      "sucesfully \n",
      "sucesfully \n",
      "sucesfully \n",
      "sucesfully \n",
      "sucesfully \n",
      "sucesfully \n",
      "sucesfully \n",
      "sucesfully \n",
      "sucesfully \n",
      "sucesfully \n",
      "sucesfully \n",
      "sucesfully \n",
      "sucesfully \n",
      "sucesfully \n",
      "sucesfully \n",
      "sucesfully \n",
      "sucesfully \n",
      "sucesfully \n",
      "sucesfully \n",
      "sucesfully \n",
      "sucesfully \n",
      "sucesfully \n",
      "sucesfully \n",
      "sucesfully \n",
      "sucesfully \n"
     ]
    },
    {
     "ename": "TypeError",
     "evalue": "emptyfunction() takes 0 positional arguments but 1 was given",
     "output_type": "error",
     "traceback": [
      "\u001b[1;31m---------------------------------------------------------------------------\u001b[0m",
      "\u001b[1;31mTypeError\u001b[0m                                 Traceback (most recent call last)",
      "\u001b[1;31mTypeError\u001b[0m: emptyfunction() takes 0 positional arguments but 1 was given"
     ]
    },
    {
     "name": "stdout",
     "output_type": "stream",
     "text": [
      "sucesfully \n",
      "sucesfully \n",
      "sucesfully \n",
      "sucesfully \n",
      "sucesfully \n",
      "sucesfully \n",
      "sucesfully \n",
      "sucesfully \n",
      "sucesfully \n",
      "sucesfully \n",
      "sucesfully \n",
      "sucesfully \n",
      "sucesfully \n",
      "sucesfully \n",
      "sucesfully \n",
      "sucesfully \n",
      "sucesfully \n",
      "sucesfully \n",
      "sucesfully \n",
      "sucesfully \n",
      "sucesfully \n",
      "sucesfully \n",
      "sucesfully \n",
      "sucesfully \n",
      "sucesfully \n",
      "sucesfully \n",
      "sucesfully \n",
      "sucesfully \n",
      "sucesfully \n",
      "sucesfully \n",
      "sucesfully \n",
      "sucesfully \n",
      "sucesfully \n",
      "sucesfully \n",
      "sucesfully \n",
      "sucesfully \n"
     ]
    },
    {
     "ename": "TypeError",
     "evalue": "emptyfunction() takes 0 positional arguments but 1 was given",
     "output_type": "error",
     "traceback": [
      "\u001b[1;31m---------------------------------------------------------------------------\u001b[0m",
      "\u001b[1;31mTypeError\u001b[0m                                 Traceback (most recent call last)",
      "\u001b[1;31mTypeError\u001b[0m: emptyfunction() takes 0 positional arguments but 1 was given"
     ]
    },
    {
     "name": "stdout",
     "output_type": "stream",
     "text": [
      "sucesfully \n",
      "sucesfully \n",
      "sucesfully \n",
      "sucesfully \n",
      "sucesfully \n",
      "sucesfully \n",
      "sucesfully \n",
      "sucesfully \n",
      "sucesfully \n",
      "sucesfully \n",
      "sucesfully \n",
      "sucesfully \n",
      "sucesfully \n",
      "sucesfully \n",
      "sucesfully \n",
      "sucesfully \n",
      "sucesfully \n",
      "sucesfully \n",
      "sucesfully \n",
      "sucesfully \n",
      "sucesfully \n",
      "sucesfully \n",
      "sucesfully \n",
      "sucesfully \n",
      "sucesfully \n",
      "sucesfully \n",
      "sucesfully \n",
      "sucesfully \n",
      "sucesfully \n",
      "sucesfully \n",
      "sucesfully \n"
     ]
    },
    {
     "ename": "TypeError",
     "evalue": "emptyfunction() takes 0 positional arguments but 1 was given",
     "output_type": "error",
     "traceback": [
      "\u001b[1;31m---------------------------------------------------------------------------\u001b[0m",
      "\u001b[1;31mTypeError\u001b[0m                                 Traceback (most recent call last)",
      "\u001b[1;31mTypeError\u001b[0m: emptyfunction() takes 0 positional arguments but 1 was given"
     ]
    },
    {
     "name": "stdout",
     "output_type": "stream",
     "text": [
      "sucesfully \n",
      "sucesfully \n",
      "sucesfully \n",
      "sucesfully \n",
      "sucesfully \n",
      "sucesfully \n",
      "sucesfully \n",
      "sucesfully \n",
      "sucesfully \n",
      "sucesfully \n",
      "sucesfully \n",
      "sucesfully \n",
      "sucesfully \n"
     ]
    },
    {
     "ename": "TypeError",
     "evalue": "emptyfunction() takes 0 positional arguments but 1 was given",
     "output_type": "error",
     "traceback": [
      "\u001b[1;31m---------------------------------------------------------------------------\u001b[0m",
      "\u001b[1;31mTypeError\u001b[0m                                 Traceback (most recent call last)",
      "\u001b[1;31mTypeError\u001b[0m: emptyfunction() takes 0 positional arguments but 1 was given"
     ]
    },
    {
     "name": "stdout",
     "output_type": "stream",
     "text": [
      "sucesfully \n",
      "sucesfully \n",
      "sucesfully \n",
      "sucesfully \n",
      "sucesfully \n",
      "sucesfully \n",
      "sucesfully \n",
      "sucesfully \n",
      "sucesfully \n",
      "sucesfully \n",
      "sucesfully \n",
      "sucesfully \n",
      "sucesfully \n",
      "sucesfully \n",
      "sucesfully \n"
     ]
    },
    {
     "ename": "TypeError",
     "evalue": "emptyfunction() takes 0 positional arguments but 1 was given",
     "output_type": "error",
     "traceback": [
      "\u001b[1;31m---------------------------------------------------------------------------\u001b[0m",
      "\u001b[1;31mTypeError\u001b[0m                                 Traceback (most recent call last)",
      "\u001b[1;31mTypeError\u001b[0m: emptyfunction() takes 0 positional arguments but 1 was given"
     ]
    },
    {
     "name": "stdout",
     "output_type": "stream",
     "text": [
      "sucesfully \n",
      "sucesfully \n",
      "sucesfully \n",
      "sucesfully \n",
      "sucesfully \n",
      "sucesfully \n",
      "sucesfully \n",
      "sucesfully \n",
      "sucesfully \n",
      "sucesfully \n",
      "sucesfully \n",
      "sucesfully \n",
      "sucesfully \n",
      "sucesfully \n",
      "sucesfully \n"
     ]
    },
    {
     "ename": "TypeError",
     "evalue": "emptyfunction() takes 0 positional arguments but 1 was given",
     "output_type": "error",
     "traceback": [
      "\u001b[1;31m---------------------------------------------------------------------------\u001b[0m",
      "\u001b[1;31mTypeError\u001b[0m                                 Traceback (most recent call last)",
      "\u001b[1;31mTypeError\u001b[0m: emptyfunction() takes 0 positional arguments but 1 was given"
     ]
    },
    {
     "name": "stdout",
     "output_type": "stream",
     "text": [
      "sucesfully \n",
      "sucesfully \n",
      "sucesfully \n",
      "sucesfully \n",
      "sucesfully \n",
      "sucesfully \n",
      "sucesfully \n",
      "sucesfully \n",
      "sucesfully \n",
      "sucesfully \n",
      "sucesfully \n",
      "sucesfully \n",
      "sucesfully \n",
      "sucesfully \n",
      "sucesfully \n",
      "sucesfully \n",
      "sucesfully \n",
      "sucesfully \n",
      "sucesfully \n",
      "sucesfully \n",
      "sucesfully \n",
      "sucesfully \n",
      "sucesfully \n",
      "sucesfully \n",
      "sucesfully \n",
      "sucesfully \n",
      "sucesfully \n",
      "sucesfully \n",
      "sucesfully \n",
      "sucesfully \n",
      "sucesfully \n",
      "sucesfully \n",
      "sucesfully \n",
      "sucesfully \n",
      "sucesfully \n"
     ]
    },
    {
     "ename": "TypeError",
     "evalue": "emptyfunction() takes 0 positional arguments but 1 was given",
     "output_type": "error",
     "traceback": [
      "\u001b[1;31m---------------------------------------------------------------------------\u001b[0m",
      "\u001b[1;31mTypeError\u001b[0m                                 Traceback (most recent call last)",
      "\u001b[1;31mTypeError\u001b[0m: emptyfunction() takes 0 positional arguments but 1 was given"
     ]
    },
    {
     "name": "stdout",
     "output_type": "stream",
     "text": [
      "sucesfully \n",
      "sucesfully \n",
      "sucesfully \n",
      "sucesfully \n",
      "sucesfully \n",
      "sucesfully \n",
      "sucesfully \n",
      "sucesfully \n",
      "sucesfully \n",
      "sucesfully \n",
      "sucesfully \n",
      "sucesfully \n",
      "sucesfully \n"
     ]
    },
    {
     "ename": "TypeError",
     "evalue": "emptyfunction() takes 0 positional arguments but 1 was given",
     "output_type": "error",
     "traceback": [
      "\u001b[1;31m---------------------------------------------------------------------------\u001b[0m",
      "\u001b[1;31mTypeError\u001b[0m                                 Traceback (most recent call last)",
      "\u001b[1;31mTypeError\u001b[0m: emptyfunction() takes 0 positional arguments but 1 was given"
     ]
    },
    {
     "name": "stdout",
     "output_type": "stream",
     "text": [
      "sucesfully \n",
      "sucesfully \n",
      "sucesfully \n",
      "sucesfully \n",
      "sucesfully \n",
      "sucesfully \n",
      "sucesfully \n",
      "sucesfully \n",
      "sucesfully \n",
      "sucesfully \n",
      "sucesfully \n"
     ]
    },
    {
     "ename": "TypeError",
     "evalue": "emptyfunction() takes 0 positional arguments but 1 was given",
     "output_type": "error",
     "traceback": [
      "\u001b[1;31m---------------------------------------------------------------------------\u001b[0m",
      "\u001b[1;31mTypeError\u001b[0m                                 Traceback (most recent call last)",
      "\u001b[1;31mTypeError\u001b[0m: emptyfunction() takes 0 positional arguments but 1 was given"
     ]
    },
    {
     "name": "stdout",
     "output_type": "stream",
     "text": [
      "sucesfully \n",
      "sucesfully \n",
      "sucesfully \n",
      "sucesfully \n",
      "sucesfully \n",
      "sucesfully \n",
      "sucesfully \n"
     ]
    },
    {
     "ename": "TypeError",
     "evalue": "emptyfunction() takes 0 positional arguments but 1 was given",
     "output_type": "error",
     "traceback": [
      "\u001b[1;31m---------------------------------------------------------------------------\u001b[0m",
      "\u001b[1;31mTypeError\u001b[0m                                 Traceback (most recent call last)",
      "\u001b[1;31mTypeError\u001b[0m: emptyfunction() takes 0 positional arguments but 1 was given"
     ]
    },
    {
     "name": "stdout",
     "output_type": "stream",
     "text": [
      "sucesfully \n",
      "sucesfully \n",
      "sucesfully \n",
      "sucesfully \n",
      "sucesfully \n",
      "sucesfully \n",
      "sucesfully \n",
      "sucesfully \n",
      "sucesfully \n",
      "sucesfully \n",
      "sucesfully \n",
      "sucesfully \n",
      "sucesfully \n",
      "sucesfully \n",
      "sucesfully \n",
      "sucesfully \n",
      "sucesfully \n",
      "sucesfully \n",
      "sucesfully \n",
      "sucesfully \n",
      "sucesfully \n",
      "sucesfully \n",
      "sucesfully \n",
      "sucesfully \n",
      "sucesfully \n",
      "sucesfully \n",
      "sucesfully \n",
      "sucesfully \n",
      "sucesfully \n",
      "sucesfully \n",
      "sucesfully \n",
      "sucesfully \n"
     ]
    },
    {
     "ename": "TypeError",
     "evalue": "emptyfunction() takes 0 positional arguments but 1 was given",
     "output_type": "error",
     "traceback": [
      "\u001b[1;31m---------------------------------------------------------------------------\u001b[0m",
      "\u001b[1;31mTypeError\u001b[0m                                 Traceback (most recent call last)",
      "\u001b[1;31mTypeError\u001b[0m: emptyfunction() takes 0 positional arguments but 1 was given"
     ]
    },
    {
     "name": "stdout",
     "output_type": "stream",
     "text": [
      "sucesfully \n",
      "sucesfully \n",
      "sucesfully \n",
      "sucesfully \n",
      "sucesfully \n"
     ]
    },
    {
     "ename": "TypeError",
     "evalue": "emptyfunction() takes 0 positional arguments but 1 was given",
     "output_type": "error",
     "traceback": [
      "\u001b[1;31m---------------------------------------------------------------------------\u001b[0m",
      "\u001b[1;31mTypeError\u001b[0m                                 Traceback (most recent call last)",
      "\u001b[1;31mTypeError\u001b[0m: emptyfunction() takes 0 positional arguments but 1 was given"
     ]
    },
    {
     "name": "stdout",
     "output_type": "stream",
     "text": [
      "sucesfully \n",
      "sucesfully \n",
      "sucesfully \n",
      "sucesfully \n",
      "sucesfully \n",
      "sucesfully \n",
      "sucesfully \n",
      "sucesfully \n",
      "sucesfully \n",
      "sucesfully \n",
      "sucesfully \n"
     ]
    },
    {
     "ename": "TypeError",
     "evalue": "emptyfunction() takes 0 positional arguments but 1 was given",
     "output_type": "error",
     "traceback": [
      "\u001b[1;31m---------------------------------------------------------------------------\u001b[0m",
      "\u001b[1;31mTypeError\u001b[0m                                 Traceback (most recent call last)",
      "\u001b[1;31mTypeError\u001b[0m: emptyfunction() takes 0 positional arguments but 1 was given"
     ]
    },
    {
     "name": "stdout",
     "output_type": "stream",
     "text": [
      "sucesfully \n",
      "sucesfully \n",
      "sucesfully \n",
      "sucesfully \n",
      "sucesfully \n",
      "sucesfully \n",
      "sucesfully \n"
     ]
    },
    {
     "ename": "TypeError",
     "evalue": "emptyfunction() takes 0 positional arguments but 1 was given",
     "output_type": "error",
     "traceback": [
      "\u001b[1;31m---------------------------------------------------------------------------\u001b[0m",
      "\u001b[1;31mTypeError\u001b[0m                                 Traceback (most recent call last)",
      "\u001b[1;31mTypeError\u001b[0m: emptyfunction() takes 0 positional arguments but 1 was given"
     ]
    },
    {
     "name": "stdout",
     "output_type": "stream",
     "text": [
      "sucesfully \n",
      "sucesfully \n",
      "sucesfully \n",
      "sucesfully \n",
      "sucesfully \n",
      "sucesfully \n",
      "sucesfully \n",
      "sucesfully \n",
      "sucesfully \n",
      "sucesfully \n",
      "sucesfully \n",
      "sucesfully \n"
     ]
    },
    {
     "ename": "TypeError",
     "evalue": "emptyfunction() takes 0 positional arguments but 1 was given",
     "output_type": "error",
     "traceback": [
      "\u001b[1;31m---------------------------------------------------------------------------\u001b[0m",
      "\u001b[1;31mTypeError\u001b[0m                                 Traceback (most recent call last)",
      "\u001b[1;31mTypeError\u001b[0m: emptyfunction() takes 0 positional arguments but 1 was given"
     ]
    },
    {
     "name": "stdout",
     "output_type": "stream",
     "text": [
      "sucesfully \n",
      "sucesfully \n",
      "sucesfully \n",
      "sucesfully \n",
      "sucesfully \n",
      "sucesfully \n",
      "sucesfully \n",
      "sucesfully \n",
      "sucesfully \n"
     ]
    },
    {
     "ename": "TypeError",
     "evalue": "emptyfunction() takes 0 positional arguments but 1 was given",
     "output_type": "error",
     "traceback": [
      "\u001b[1;31m---------------------------------------------------------------------------\u001b[0m",
      "\u001b[1;31mTypeError\u001b[0m                                 Traceback (most recent call last)",
      "\u001b[1;31mTypeError\u001b[0m: emptyfunction() takes 0 positional arguments but 1 was given"
     ]
    },
    {
     "name": "stdout",
     "output_type": "stream",
     "text": [
      "sucesfully \n",
      "sucesfully \n",
      "sucesfully \n",
      "sucesfully \n",
      "sucesfully \n",
      "sucesfully \n",
      "sucesfully \n",
      "sucesfully \n",
      "sucesfully \n",
      "sucesfully \n",
      "sucesfully \n"
     ]
    },
    {
     "ename": "TypeError",
     "evalue": "emptyfunction() takes 0 positional arguments but 1 was given",
     "output_type": "error",
     "traceback": [
      "\u001b[1;31m---------------------------------------------------------------------------\u001b[0m",
      "\u001b[1;31mTypeError\u001b[0m                                 Traceback (most recent call last)",
      "\u001b[1;31mTypeError\u001b[0m: emptyfunction() takes 0 positional arguments but 1 was given"
     ]
    },
    {
     "name": "stdout",
     "output_type": "stream",
     "text": [
      "sucesfully \n",
      "sucesfully \n",
      "sucesfully \n",
      "sucesfully \n",
      "sucesfully \n",
      "sucesfully \n",
      "sucesfully \n",
      "sucesfully \n",
      "sucesfully \n"
     ]
    },
    {
     "ename": "TypeError",
     "evalue": "emptyfunction() takes 0 positional arguments but 1 was given",
     "output_type": "error",
     "traceback": [
      "\u001b[1;31m---------------------------------------------------------------------------\u001b[0m",
      "\u001b[1;31mTypeError\u001b[0m                                 Traceback (most recent call last)",
      "\u001b[1;31mTypeError\u001b[0m: emptyfunction() takes 0 positional arguments but 1 was given"
     ]
    },
    {
     "name": "stdout",
     "output_type": "stream",
     "text": [
      "sucesfully \n",
      "sucesfully \n",
      "sucesfully \n",
      "sucesfully \n",
      "sucesfully \n",
      "sucesfully \n",
      "sucesfully \n",
      "sucesfully \n",
      "sucesfully \n",
      "sucesfully \n"
     ]
    },
    {
     "ename": "TypeError",
     "evalue": "emptyfunction() takes 0 positional arguments but 1 was given",
     "output_type": "error",
     "traceback": [
      "\u001b[1;31m---------------------------------------------------------------------------\u001b[0m",
      "\u001b[1;31mTypeError\u001b[0m                                 Traceback (most recent call last)",
      "\u001b[1;31mTypeError\u001b[0m: emptyfunction() takes 0 positional arguments but 1 was given"
     ]
    },
    {
     "name": "stdout",
     "output_type": "stream",
     "text": [
      "sucesfully \n",
      "sucesfully \n",
      "sucesfully \n",
      "sucesfully \n",
      "sucesfully \n",
      "sucesfully \n",
      "sucesfully \n",
      "sucesfully \n",
      "sucesfully \n",
      "sucesfully \n",
      "sucesfully \n",
      "sucesfully \n",
      "sucesfully \n"
     ]
    },
    {
     "ename": "TypeError",
     "evalue": "emptyfunction() takes 0 positional arguments but 1 was given",
     "output_type": "error",
     "traceback": [
      "\u001b[1;31m---------------------------------------------------------------------------\u001b[0m",
      "\u001b[1;31mTypeError\u001b[0m                                 Traceback (most recent call last)",
      "\u001b[1;31mTypeError\u001b[0m: emptyfunction() takes 0 positional arguments but 1 was given"
     ]
    },
    {
     "name": "stdout",
     "output_type": "stream",
     "text": [
      "sucesfully \n",
      "sucesfully \n",
      "sucesfully \n",
      "sucesfully \n",
      "sucesfully \n",
      "sucesfully \n",
      "sucesfully \n",
      "sucesfully \n",
      "sucesfully \n",
      "sucesfully \n",
      "sucesfully \n",
      "sucesfully \n"
     ]
    },
    {
     "ename": "TypeError",
     "evalue": "emptyfunction() takes 0 positional arguments but 1 was given",
     "output_type": "error",
     "traceback": [
      "\u001b[1;31m---------------------------------------------------------------------------\u001b[0m",
      "\u001b[1;31mTypeError\u001b[0m                                 Traceback (most recent call last)",
      "\u001b[1;31mTypeError\u001b[0m: emptyfunction() takes 0 positional arguments but 1 was given"
     ]
    },
    {
     "name": "stdout",
     "output_type": "stream",
     "text": [
      "sucesfully \n",
      "sucesfully \n"
     ]
    },
    {
     "ename": "TypeError",
     "evalue": "emptyfunction() takes 0 positional arguments but 1 was given",
     "output_type": "error",
     "traceback": [
      "\u001b[1;31m---------------------------------------------------------------------------\u001b[0m",
      "\u001b[1;31mTypeError\u001b[0m                                 Traceback (most recent call last)",
      "\u001b[1;31mTypeError\u001b[0m: emptyfunction() takes 0 positional arguments but 1 was given"
     ]
    },
    {
     "name": "stdout",
     "output_type": "stream",
     "text": [
      "sucesfully \n",
      "sucesfully \n",
      "sucesfully \n",
      "sucesfully \n"
     ]
    },
    {
     "ename": "TypeError",
     "evalue": "emptyfunction() takes 0 positional arguments but 1 was given",
     "output_type": "error",
     "traceback": [
      "\u001b[1;31m---------------------------------------------------------------------------\u001b[0m",
      "\u001b[1;31mTypeError\u001b[0m                                 Traceback (most recent call last)",
      "\u001b[1;31mTypeError\u001b[0m: emptyfunction() takes 0 positional arguments but 1 was given"
     ]
    },
    {
     "name": "stdout",
     "output_type": "stream",
     "text": [
      "sucesfully \n",
      "sucesfully \n",
      "sucesfully \n"
     ]
    },
    {
     "ename": "TypeError",
     "evalue": "emptyfunction() takes 0 positional arguments but 1 was given",
     "output_type": "error",
     "traceback": [
      "\u001b[1;31m---------------------------------------------------------------------------\u001b[0m",
      "\u001b[1;31mTypeError\u001b[0m                                 Traceback (most recent call last)",
      "\u001b[1;31mTypeError\u001b[0m: emptyfunction() takes 0 positional arguments but 1 was given"
     ]
    },
    {
     "name": "stdout",
     "output_type": "stream",
     "text": [
      "sucesfully \n",
      "sucesfully \n",
      "sucesfully \n",
      "sucesfully \n",
      "sucesfully \n",
      "sucesfully \n",
      "sucesfully \n",
      "sucesfully \n"
     ]
    },
    {
     "ename": "TypeError",
     "evalue": "emptyfunction() takes 0 positional arguments but 1 was given",
     "output_type": "error",
     "traceback": [
      "\u001b[1;31m---------------------------------------------------------------------------\u001b[0m",
      "\u001b[1;31mTypeError\u001b[0m                                 Traceback (most recent call last)",
      "\u001b[1;31mTypeError\u001b[0m: emptyfunction() takes 0 positional arguments but 1 was given"
     ]
    },
    {
     "name": "stdout",
     "output_type": "stream",
     "text": [
      "sucesfully \n",
      "sucesfully \n",
      "sucesfully \n",
      "sucesfully \n",
      "sucesfully \n",
      "sucesfully \n",
      "sucesfully \n",
      "sucesfully \n",
      "sucesfully \n",
      "sucesfully \n",
      "sucesfully \n"
     ]
    },
    {
     "ename": "TypeError",
     "evalue": "emptyfunction() takes 0 positional arguments but 1 was given",
     "output_type": "error",
     "traceback": [
      "\u001b[1;31m---------------------------------------------------------------------------\u001b[0m",
      "\u001b[1;31mTypeError\u001b[0m                                 Traceback (most recent call last)",
      "\u001b[1;31mTypeError\u001b[0m: emptyfunction() takes 0 positional arguments but 1 was given"
     ]
    },
    {
     "name": "stdout",
     "output_type": "stream",
     "text": [
      "sucesfully \n",
      "sucesfully \n",
      "sucesfully \n",
      "sucesfully \n",
      "sucesfully \n",
      "sucesfully \n"
     ]
    },
    {
     "ename": "TypeError",
     "evalue": "emptyfunction() takes 0 positional arguments but 1 was given",
     "output_type": "error",
     "traceback": [
      "\u001b[1;31m---------------------------------------------------------------------------\u001b[0m",
      "\u001b[1;31mTypeError\u001b[0m                                 Traceback (most recent call last)",
      "\u001b[1;31mTypeError\u001b[0m: emptyfunction() takes 0 positional arguments but 1 was given"
     ]
    },
    {
     "name": "stdout",
     "output_type": "stream",
     "text": [
      "sucesfully \n",
      "sucesfully \n",
      "sucesfully \n",
      "sucesfully \n",
      "sucesfully \n",
      "sucesfully \n",
      "sucesfully \n",
      "sucesfully \n",
      "sucesfully \n",
      "sucesfully \n"
     ]
    },
    {
     "ename": "TypeError",
     "evalue": "emptyfunction() takes 0 positional arguments but 1 was given",
     "output_type": "error",
     "traceback": [
      "\u001b[1;31m---------------------------------------------------------------------------\u001b[0m",
      "\u001b[1;31mTypeError\u001b[0m                                 Traceback (most recent call last)",
      "\u001b[1;31mTypeError\u001b[0m: emptyfunction() takes 0 positional arguments but 1 was given"
     ]
    },
    {
     "name": "stdout",
     "output_type": "stream",
     "text": [
      "sucesfully \n",
      "sucesfully \n",
      "sucesfully \n",
      "sucesfully \n"
     ]
    },
    {
     "ename": "TypeError",
     "evalue": "emptyfunction() takes 0 positional arguments but 1 was given",
     "output_type": "error",
     "traceback": [
      "\u001b[1;31m---------------------------------------------------------------------------\u001b[0m",
      "\u001b[1;31mTypeError\u001b[0m                                 Traceback (most recent call last)",
      "\u001b[1;31mTypeError\u001b[0m: emptyfunction() takes 0 positional arguments but 1 was given"
     ]
    },
    {
     "name": "stdout",
     "output_type": "stream",
     "text": [
      "sucesfully \n",
      "sucesfully \n",
      "sucesfully \n",
      "sucesfully \n",
      "sucesfully \n",
      "sucesfully \n",
      "sucesfully \n"
     ]
    },
    {
     "ename": "TypeError",
     "evalue": "emptyfunction() takes 0 positional arguments but 1 was given",
     "output_type": "error",
     "traceback": [
      "\u001b[1;31m---------------------------------------------------------------------------\u001b[0m",
      "\u001b[1;31mTypeError\u001b[0m                                 Traceback (most recent call last)",
      "\u001b[1;31mTypeError\u001b[0m: emptyfunction() takes 0 positional arguments but 1 was given"
     ]
    },
    {
     "name": "stdout",
     "output_type": "stream",
     "text": [
      "sucesfully \n",
      "sucesfully \n",
      "sucesfully \n",
      "sucesfully \n",
      "sucesfully \n",
      "sucesfully \n",
      "sucesfully \n",
      "sucesfully \n",
      "sucesfully \n",
      "sucesfully \n",
      "sucesfully \n",
      "sucesfully \n",
      "sucesfully \n",
      "sucesfully \n",
      "sucesfully \n",
      "sucesfully \n",
      "sucesfully \n",
      "sucesfully \n",
      "sucesfully \n",
      "sucesfully \n",
      "sucesfully \n",
      "sucesfully \n",
      "sucesfully \n",
      "sucesfully \n",
      "sucesfully \n",
      "sucesfully \n",
      "sucesfully \n",
      "sucesfully \n",
      "sucesfully \n",
      "sucesfully \n",
      "sucesfully \n",
      "sucesfully \n",
      "sucesfully \n",
      "sucesfully \n",
      "sucesfully \n",
      "sucesfully \n",
      "sucesfully \n",
      "sucesfully \n",
      "sucesfully \n",
      "sucesfully \n",
      "sucesfully \n",
      "sucesfully \n",
      "sucesfully \n",
      "sucesfully \n",
      "sucesfully \n",
      "sucesfully \n",
      "sucesfully \n",
      "sucesfully \n",
      "sucesfully \n",
      "sucesfully \n",
      "sucesfully \n",
      "sucesfully \n",
      "sucesfully \n",
      "sucesfully \n",
      "sucesfully \n",
      "sucesfully \n",
      "sucesfully \n",
      "sucesfully \n",
      "sucesfully \n",
      "sucesfully \n",
      "sucesfully \n"
     ]
    },
    {
     "ename": "TypeError",
     "evalue": "emptyfunction() takes 0 positional arguments but 1 was given",
     "output_type": "error",
     "traceback": [
      "\u001b[1;31m---------------------------------------------------------------------------\u001b[0m",
      "\u001b[1;31mTypeError\u001b[0m                                 Traceback (most recent call last)",
      "\u001b[1;31mTypeError\u001b[0m: emptyfunction() takes 0 positional arguments but 1 was given"
     ]
    },
    {
     "name": "stdout",
     "output_type": "stream",
     "text": [
      "sucesfully \n",
      "sucesfully \n",
      "sucesfully \n",
      "sucesfully \n",
      "sucesfully \n",
      "sucesfully \n",
      "sucesfully \n",
      "sucesfully \n",
      "sucesfully \n",
      "sucesfully \n",
      "sucesfully \n",
      "sucesfully \n",
      "sucesfully \n",
      "sucesfully \n",
      "sucesfully \n",
      "sucesfully \n",
      "sucesfully \n",
      "sucesfully \n",
      "sucesfully \n",
      "sucesfully \n",
      "sucesfully \n",
      "sucesfully \n",
      "sucesfully \n",
      "sucesfully \n",
      "sucesfully \n",
      "sucesfully \n",
      "sucesfully \n",
      "sucesfully \n",
      "sucesfully \n",
      "sucesfully \n",
      "sucesfully \n",
      "sucesfully \n"
     ]
    },
    {
     "ename": "TypeError",
     "evalue": "emptyfunction() takes 0 positional arguments but 1 was given",
     "output_type": "error",
     "traceback": [
      "\u001b[1;31m---------------------------------------------------------------------------\u001b[0m",
      "\u001b[1;31mTypeError\u001b[0m                                 Traceback (most recent call last)",
      "\u001b[1;31mTypeError\u001b[0m: emptyfunction() takes 0 positional arguments but 1 was given"
     ]
    },
    {
     "name": "stdout",
     "output_type": "stream",
     "text": [
      "sucesfully \n",
      "sucesfully \n"
     ]
    },
    {
     "ename": "TypeError",
     "evalue": "emptyfunction() takes 0 positional arguments but 1 was given",
     "output_type": "error",
     "traceback": [
      "\u001b[1;31m---------------------------------------------------------------------------\u001b[0m",
      "\u001b[1;31mTypeError\u001b[0m                                 Traceback (most recent call last)",
      "\u001b[1;31mTypeError\u001b[0m: emptyfunction() takes 0 positional arguments but 1 was given"
     ]
    },
    {
     "ename": "TypeError",
     "evalue": "emptyfunction() takes 0 positional arguments but 1 was given",
     "output_type": "error",
     "traceback": [
      "\u001b[1;31m---------------------------------------------------------------------------\u001b[0m",
      "\u001b[1;31mTypeError\u001b[0m                                 Traceback (most recent call last)",
      "\u001b[1;31mTypeError\u001b[0m: emptyfunction() takes 0 positional arguments but 1 was given"
     ]
    },
    {
     "name": "stdout",
     "output_type": "stream",
     "text": [
      "sucesfully \n",
      "sucesfully \n",
      "sucesfully \n",
      "sucesfully \n",
      "sucesfully \n"
     ]
    },
    {
     "ename": "TypeError",
     "evalue": "emptyfunction() takes 0 positional arguments but 1 was given",
     "output_type": "error",
     "traceback": [
      "\u001b[1;31m---------------------------------------------------------------------------\u001b[0m",
      "\u001b[1;31mTypeError\u001b[0m                                 Traceback (most recent call last)",
      "\u001b[1;31mTypeError\u001b[0m: emptyfunction() takes 0 positional arguments but 1 was given"
     ]
    },
    {
     "name": "stdout",
     "output_type": "stream",
     "text": [
      "sucesfully \n",
      "sucesfully \n",
      "sucesfully \n"
     ]
    },
    {
     "ename": "TypeError",
     "evalue": "emptyfunction() takes 0 positional arguments but 1 was given",
     "output_type": "error",
     "traceback": [
      "\u001b[1;31m---------------------------------------------------------------------------\u001b[0m",
      "\u001b[1;31mTypeError\u001b[0m                                 Traceback (most recent call last)",
      "\u001b[1;31mTypeError\u001b[0m: emptyfunction() takes 0 positional arguments but 1 was given"
     ]
    },
    {
     "name": "stdout",
     "output_type": "stream",
     "text": [
      "sucesfully \n",
      "sucesfully \n",
      "sucesfully \n",
      "sucesfully \n",
      "sucesfully \n",
      "sucesfully \n",
      "sucesfully \n",
      "sucesfully \n",
      "sucesfully \n",
      "sucesfully \n"
     ]
    },
    {
     "ename": "TypeError",
     "evalue": "emptyfunction() takes 0 positional arguments but 1 was given",
     "output_type": "error",
     "traceback": [
      "\u001b[1;31m---------------------------------------------------------------------------\u001b[0m",
      "\u001b[1;31mTypeError\u001b[0m                                 Traceback (most recent call last)",
      "\u001b[1;31mTypeError\u001b[0m: emptyfunction() takes 0 positional arguments but 1 was given"
     ]
    },
    {
     "name": "stdout",
     "output_type": "stream",
     "text": [
      "sucesfully \n",
      "sucesfully \n"
     ]
    },
    {
     "ename": "TypeError",
     "evalue": "emptyfunction() takes 0 positional arguments but 1 was given",
     "output_type": "error",
     "traceback": [
      "\u001b[1;31m---------------------------------------------------------------------------\u001b[0m",
      "\u001b[1;31mTypeError\u001b[0m                                 Traceback (most recent call last)",
      "\u001b[1;31mTypeError\u001b[0m: emptyfunction() takes 0 positional arguments but 1 was given"
     ]
    },
    {
     "name": "stdout",
     "output_type": "stream",
     "text": [
      "sucesfully \n"
     ]
    },
    {
     "ename": "TypeError",
     "evalue": "emptyfunction() takes 0 positional arguments but 1 was given",
     "output_type": "error",
     "traceback": [
      "\u001b[1;31m---------------------------------------------------------------------------\u001b[0m",
      "\u001b[1;31mTypeError\u001b[0m                                 Traceback (most recent call last)",
      "\u001b[1;31mTypeError\u001b[0m: emptyfunction() takes 0 positional arguments but 1 was given"
     ]
    },
    {
     "name": "stdout",
     "output_type": "stream",
     "text": [
      "sucesfully \n",
      "sucesfully \n",
      "sucesfully \n"
     ]
    },
    {
     "ename": "TypeError",
     "evalue": "emptyfunction() takes 0 positional arguments but 1 was given",
     "output_type": "error",
     "traceback": [
      "\u001b[1;31m---------------------------------------------------------------------------\u001b[0m",
      "\u001b[1;31mTypeError\u001b[0m                                 Traceback (most recent call last)",
      "\u001b[1;31mTypeError\u001b[0m: emptyfunction() takes 0 positional arguments but 1 was given"
     ]
    },
    {
     "name": "stdout",
     "output_type": "stream",
     "text": [
      "sucesfully \n",
      "sucesfully \n",
      "sucesfully \n",
      "sucesfully \n"
     ]
    },
    {
     "ename": "TypeError",
     "evalue": "emptyfunction() takes 0 positional arguments but 1 was given",
     "output_type": "error",
     "traceback": [
      "\u001b[1;31m---------------------------------------------------------------------------\u001b[0m",
      "\u001b[1;31mTypeError\u001b[0m                                 Traceback (most recent call last)",
      "\u001b[1;31mTypeError\u001b[0m: emptyfunction() takes 0 positional arguments but 1 was given"
     ]
    },
    {
     "name": "stdout",
     "output_type": "stream",
     "text": [
      "sucesfully \n",
      "sucesfully \n",
      "sucesfully \n",
      "sucesfully \n"
     ]
    },
    {
     "ename": "TypeError",
     "evalue": "emptyfunction() takes 0 positional arguments but 1 was given",
     "output_type": "error",
     "traceback": [
      "\u001b[1;31m---------------------------------------------------------------------------\u001b[0m",
      "\u001b[1;31mTypeError\u001b[0m                                 Traceback (most recent call last)",
      "\u001b[1;31mTypeError\u001b[0m: emptyfunction() takes 0 positional arguments but 1 was given"
     ]
    },
    {
     "name": "stdout",
     "output_type": "stream",
     "text": [
      "sucesfully \n",
      "sucesfully \n",
      "sucesfully \n"
     ]
    },
    {
     "ename": "TypeError",
     "evalue": "emptyfunction() takes 0 positional arguments but 1 was given",
     "output_type": "error",
     "traceback": [
      "\u001b[1;31m---------------------------------------------------------------------------\u001b[0m",
      "\u001b[1;31mTypeError\u001b[0m                                 Traceback (most recent call last)",
      "\u001b[1;31mTypeError\u001b[0m: emptyfunction() takes 0 positional arguments but 1 was given"
     ]
    },
    {
     "name": "stdout",
     "output_type": "stream",
     "text": [
      "sucesfully \n",
      "sucesfully \n",
      "sucesfully \n",
      "sucesfully \n",
      "sucesfully \n",
      "sucesfully \n",
      "sucesfully \n",
      "sucesfully \n",
      "sucesfully \n",
      "sucesfully \n",
      "sucesfully \n",
      "sucesfully \n",
      "sucesfully \n",
      "sucesfully \n",
      "sucesfully \n",
      "sucesfully \n",
      "sucesfully \n",
      "sucesfully \n",
      "sucesfully \n",
      "sucesfully \n",
      "sucesfully \n",
      "sucesfully \n"
     ]
    },
    {
     "ename": "TypeError",
     "evalue": "emptyfunction() takes 0 positional arguments but 1 was given",
     "output_type": "error",
     "traceback": [
      "\u001b[1;31m---------------------------------------------------------------------------\u001b[0m",
      "\u001b[1;31mTypeError\u001b[0m                                 Traceback (most recent call last)",
      "\u001b[1;31mTypeError\u001b[0m: emptyfunction() takes 0 positional arguments but 1 was given"
     ]
    },
    {
     "name": "stdout",
     "output_type": "stream",
     "text": [
      "sucesfully \n",
      "sucesfully \n",
      "sucesfully \n",
      "sucesfully \n",
      "sucesfully \n",
      "sucesfully \n",
      "sucesfully \n",
      "sucesfully \n",
      "sucesfully \n",
      "sucesfully \n",
      "sucesfully \n",
      "sucesfully \n",
      "sucesfully \n",
      "sucesfully \n",
      "sucesfully \n",
      "sucesfully \n",
      "sucesfully \n",
      "sucesfully \n",
      "sucesfully \n",
      "sucesfully \n",
      "sucesfully \n",
      "sucesfully \n",
      "sucesfully \n",
      "sucesfully \n",
      "sucesfully \n",
      "sucesfully \n",
      "sucesfully \n",
      "sucesfully \n",
      "sucesfully \n",
      "sucesfully \n",
      "sucesfully \n",
      "sucesfully \n",
      "sucesfully \n",
      "sucesfully \n",
      "sucesfully \n",
      "sucesfully \n",
      "sucesfully \n",
      "sucesfully \n",
      "sucesfully \n",
      "sucesfully \n",
      "sucesfully \n",
      "sucesfully \n",
      "sucesfully \n",
      "sucesfully \n",
      "sucesfully \n",
      "sucesfully \n",
      "sucesfully \n",
      "sucesfully \n",
      "sucesfully \n",
      "sucesfully \n",
      "sucesfully \n",
      "sucesfully \n",
      "sucesfully \n",
      "sucesfully \n",
      "sucesfully \n",
      "sucesfully \n",
      "sucesfully \n"
     ]
    },
    {
     "ename": "TypeError",
     "evalue": "emptyfunction() takes 0 positional arguments but 1 was given",
     "output_type": "error",
     "traceback": [
      "\u001b[1;31m---------------------------------------------------------------------------\u001b[0m",
      "\u001b[1;31mTypeError\u001b[0m                                 Traceback (most recent call last)",
      "\u001b[1;31mTypeError\u001b[0m: emptyfunction() takes 0 positional arguments but 1 was given"
     ]
    },
    {
     "name": "stdout",
     "output_type": "stream",
     "text": [
      "sucesfully \n",
      "sucesfully \n",
      "sucesfully \n",
      "sucesfully \n",
      "sucesfully \n",
      "sucesfully \n",
      "sucesfully \n",
      "sucesfully \n",
      "sucesfully \n",
      "sucesfully \n",
      "sucesfully \n"
     ]
    },
    {
     "ename": "TypeError",
     "evalue": "emptyfunction() takes 0 positional arguments but 1 was given",
     "output_type": "error",
     "traceback": [
      "\u001b[1;31m---------------------------------------------------------------------------\u001b[0m",
      "\u001b[1;31mTypeError\u001b[0m                                 Traceback (most recent call last)",
      "\u001b[1;31mTypeError\u001b[0m: emptyfunction() takes 0 positional arguments but 1 was given"
     ]
    },
    {
     "name": "stdout",
     "output_type": "stream",
     "text": [
      "sucesfully \n",
      "sucesfully \n",
      "sucesfully \n",
      "sucesfully \n",
      "sucesfully \n",
      "sucesfully \n",
      "sucesfully \n",
      "sucesfully \n",
      "sucesfully \n",
      "sucesfully \n",
      "sucesfully \n"
     ]
    },
    {
     "ename": "TypeError",
     "evalue": "emptyfunction() takes 0 positional arguments but 1 was given",
     "output_type": "error",
     "traceback": [
      "\u001b[1;31m---------------------------------------------------------------------------\u001b[0m",
      "\u001b[1;31mTypeError\u001b[0m                                 Traceback (most recent call last)",
      "\u001b[1;31mTypeError\u001b[0m: emptyfunction() takes 0 positional arguments but 1 was given"
     ]
    },
    {
     "name": "stdout",
     "output_type": "stream",
     "text": [
      "sucesfully \n",
      "sucesfully \n",
      "sucesfully \n",
      "sucesfully \n",
      "sucesfully \n",
      "sucesfully \n",
      "sucesfully \n",
      "sucesfully \n"
     ]
    },
    {
     "ename": "TypeError",
     "evalue": "emptyfunction() takes 0 positional arguments but 1 was given",
     "output_type": "error",
     "traceback": [
      "\u001b[1;31m---------------------------------------------------------------------------\u001b[0m",
      "\u001b[1;31mTypeError\u001b[0m                                 Traceback (most recent call last)",
      "\u001b[1;31mTypeError\u001b[0m: emptyfunction() takes 0 positional arguments but 1 was given"
     ]
    },
    {
     "name": "stdout",
     "output_type": "stream",
     "text": [
      "sucesfully \n",
      "sucesfully \n",
      "sucesfully \n",
      "sucesfully \n",
      "sucesfully \n",
      "sucesfully \n",
      "sucesfully \n",
      "sucesfully \n",
      "sucesfully \n",
      "sucesfully \n",
      "sucesfully \n",
      "sucesfully \n"
     ]
    },
    {
     "ename": "TypeError",
     "evalue": "emptyfunction() takes 0 positional arguments but 1 was given",
     "output_type": "error",
     "traceback": [
      "\u001b[1;31m---------------------------------------------------------------------------\u001b[0m",
      "\u001b[1;31mTypeError\u001b[0m                                 Traceback (most recent call last)",
      "\u001b[1;31mTypeError\u001b[0m: emptyfunction() takes 0 positional arguments but 1 was given"
     ]
    },
    {
     "name": "stdout",
     "output_type": "stream",
     "text": [
      "sucesfully \n",
      "sucesfully \n",
      "sucesfully \n",
      "sucesfully \n",
      "sucesfully \n",
      "sucesfully \n",
      "sucesfully \n",
      "sucesfully \n",
      "sucesfully \n",
      "sucesfully \n"
     ]
    },
    {
     "ename": "TypeError",
     "evalue": "emptyfunction() takes 0 positional arguments but 1 was given",
     "output_type": "error",
     "traceback": [
      "\u001b[1;31m---------------------------------------------------------------------------\u001b[0m",
      "\u001b[1;31mTypeError\u001b[0m                                 Traceback (most recent call last)",
      "\u001b[1;31mTypeError\u001b[0m: emptyfunction() takes 0 positional arguments but 1 was given"
     ]
    },
    {
     "name": "stdout",
     "output_type": "stream",
     "text": [
      "sucesfully \n",
      "sucesfully \n",
      "sucesfully \n",
      "sucesfully \n",
      "sucesfully \n",
      "sucesfully \n",
      "sucesfully \n",
      "sucesfully \n",
      "sucesfully \n",
      "sucesfully \n",
      "sucesfully \n",
      "sucesfully \n",
      "sucesfully \n",
      "sucesfully \n",
      "sucesfully \n",
      "sucesfully \n"
     ]
    },
    {
     "ename": "TypeError",
     "evalue": "emptyfunction() takes 0 positional arguments but 1 was given",
     "output_type": "error",
     "traceback": [
      "\u001b[1;31m---------------------------------------------------------------------------\u001b[0m",
      "\u001b[1;31mTypeError\u001b[0m                                 Traceback (most recent call last)",
      "\u001b[1;31mTypeError\u001b[0m: emptyfunction() takes 0 positional arguments but 1 was given"
     ]
    },
    {
     "name": "stdout",
     "output_type": "stream",
     "text": [
      "sucesfully \n",
      "sucesfully \n",
      "sucesfully \n",
      "sucesfully \n",
      "sucesfully \n",
      "sucesfully \n",
      "sucesfully \n",
      "sucesfully \n",
      "sucesfully \n",
      "sucesfully \n",
      "sucesfully \n",
      "sucesfully \n",
      "sucesfully \n",
      "sucesfully \n",
      "sucesfully \n"
     ]
    },
    {
     "ename": "TypeError",
     "evalue": "emptyfunction() takes 0 positional arguments but 1 was given",
     "output_type": "error",
     "traceback": [
      "\u001b[1;31m---------------------------------------------------------------------------\u001b[0m",
      "\u001b[1;31mTypeError\u001b[0m                                 Traceback (most recent call last)",
      "\u001b[1;31mTypeError\u001b[0m: emptyfunction() takes 0 positional arguments but 1 was given"
     ]
    },
    {
     "name": "stdout",
     "output_type": "stream",
     "text": [
      "sucesfully \n",
      "sucesfully \n",
      "sucesfully \n",
      "sucesfully \n",
      "sucesfully \n",
      "sucesfully \n",
      "sucesfully \n",
      "sucesfully \n",
      "sucesfully \n",
      "sucesfully \n",
      "sucesfully \n",
      "sucesfully \n",
      "sucesfully \n"
     ]
    },
    {
     "ename": "TypeError",
     "evalue": "emptyfunction() takes 0 positional arguments but 1 was given",
     "output_type": "error",
     "traceback": [
      "\u001b[1;31m---------------------------------------------------------------------------\u001b[0m",
      "\u001b[1;31mTypeError\u001b[0m                                 Traceback (most recent call last)",
      "\u001b[1;31mTypeError\u001b[0m: emptyfunction() takes 0 positional arguments but 1 was given"
     ]
    },
    {
     "name": "stdout",
     "output_type": "stream",
     "text": [
      "sucesfully \n",
      "sucesfully \n",
      "sucesfully \n",
      "sucesfully \n"
     ]
    },
    {
     "ename": "TypeError",
     "evalue": "emptyfunction() takes 0 positional arguments but 1 was given",
     "output_type": "error",
     "traceback": [
      "\u001b[1;31m---------------------------------------------------------------------------\u001b[0m",
      "\u001b[1;31mTypeError\u001b[0m                                 Traceback (most recent call last)",
      "\u001b[1;31mTypeError\u001b[0m: emptyfunction() takes 0 positional arguments but 1 was given"
     ]
    },
    {
     "name": "stdout",
     "output_type": "stream",
     "text": [
      "sucesfully \n",
      "sucesfully \n",
      "sucesfully \n",
      "sucesfully \n",
      "sucesfully \n",
      "sucesfully \n",
      "sucesfully \n",
      "sucesfully \n",
      "sucesfully \n",
      "sucesfully \n",
      "sucesfully \n",
      "sucesfully \n",
      "sucesfully \n",
      "sucesfully \n",
      "sucesfully \n",
      "sucesfully \n",
      "sucesfully \n",
      "sucesfully \n",
      "sucesfully \n",
      "sucesfully \n",
      "sucesfully \n",
      "sucesfully \n",
      "sucesfully \n",
      "sucesfully \n",
      "sucesfully \n",
      "sucesfully \n",
      "sucesfully \n",
      "sucesfully \n",
      "sucesfully \n",
      "sucesfully \n",
      "sucesfully \n",
      "sucesfully \n",
      "sucesfully \n",
      "sucesfully \n",
      "sucesfully \n",
      "sucesfully \n",
      "sucesfully \n",
      "sucesfully \n",
      "sucesfully \n",
      "sucesfully \n",
      "sucesfully \n",
      "sucesfully \n",
      "sucesfully \n",
      "sucesfully \n",
      "sucesfully \n",
      "sucesfully \n",
      "sucesfully \n",
      "sucesfully \n",
      "sucesfully \n",
      "sucesfully \n",
      "sucesfully \n",
      "sucesfully \n",
      "sucesfully \n",
      "sucesfully \n",
      "sucesfully \n",
      "sucesfully \n",
      "sucesfully \n",
      "sucesfully \n",
      "sucesfully \n",
      "sucesfully \n",
      "sucesfully \n",
      "sucesfully \n",
      "sucesfully \n",
      "sucesfully \n",
      "sucesfully \n",
      "sucesfully \n",
      "sucesfully \n"
     ]
    },
    {
     "ename": "TypeError",
     "evalue": "emptyfunction() takes 0 positional arguments but 1 was given",
     "output_type": "error",
     "traceback": [
      "\u001b[1;31m---------------------------------------------------------------------------\u001b[0m",
      "\u001b[1;31mTypeError\u001b[0m                                 Traceback (most recent call last)",
      "\u001b[1;31mTypeError\u001b[0m: emptyfunction() takes 0 positional arguments but 1 was given"
     ]
    },
    {
     "name": "stdout",
     "output_type": "stream",
     "text": [
      "sucesfully \n",
      "sucesfully \n"
     ]
    },
    {
     "ename": "TypeError",
     "evalue": "emptyfunction() takes 0 positional arguments but 1 was given",
     "output_type": "error",
     "traceback": [
      "\u001b[1;31m---------------------------------------------------------------------------\u001b[0m",
      "\u001b[1;31mTypeError\u001b[0m                                 Traceback (most recent call last)",
      "\u001b[1;31mTypeError\u001b[0m: emptyfunction() takes 0 positional arguments but 1 was given"
     ]
    },
    {
     "name": "stdout",
     "output_type": "stream",
     "text": [
      "sucesfully \n"
     ]
    },
    {
     "ename": "TypeError",
     "evalue": "emptyfunction() takes 0 positional arguments but 1 was given",
     "output_type": "error",
     "traceback": [
      "\u001b[1;31m---------------------------------------------------------------------------\u001b[0m",
      "\u001b[1;31mTypeError\u001b[0m                                 Traceback (most recent call last)",
      "\u001b[1;31mTypeError\u001b[0m: emptyfunction() takes 0 positional arguments but 1 was given"
     ]
    },
    {
     "name": "stdout",
     "output_type": "stream",
     "text": [
      "sucesfully \n",
      "sucesfully \n",
      "sucesfully \n",
      "sucesfully \n"
     ]
    },
    {
     "ename": "TypeError",
     "evalue": "emptyfunction() takes 0 positional arguments but 1 was given",
     "output_type": "error",
     "traceback": [
      "\u001b[1;31m---------------------------------------------------------------------------\u001b[0m",
      "\u001b[1;31mTypeError\u001b[0m                                 Traceback (most recent call last)",
      "\u001b[1;31mTypeError\u001b[0m: emptyfunction() takes 0 positional arguments but 1 was given"
     ]
    },
    {
     "name": "stdout",
     "output_type": "stream",
     "text": [
      "sucesfully \n",
      "sucesfully \n",
      "sucesfully \n"
     ]
    },
    {
     "ename": "TypeError",
     "evalue": "emptyfunction() takes 0 positional arguments but 1 was given",
     "output_type": "error",
     "traceback": [
      "\u001b[1;31m---------------------------------------------------------------------------\u001b[0m",
      "\u001b[1;31mTypeError\u001b[0m                                 Traceback (most recent call last)",
      "\u001b[1;31mTypeError\u001b[0m: emptyfunction() takes 0 positional arguments but 1 was given"
     ]
    },
    {
     "name": "stdout",
     "output_type": "stream",
     "text": [
      "sucesfully \n",
      "sucesfully \n",
      "sucesfully \n",
      "sucesfully \n",
      "sucesfully \n",
      "sucesfully \n"
     ]
    },
    {
     "ename": "TypeError",
     "evalue": "emptyfunction() takes 0 positional arguments but 1 was given",
     "output_type": "error",
     "traceback": [
      "\u001b[1;31m---------------------------------------------------------------------------\u001b[0m",
      "\u001b[1;31mTypeError\u001b[0m                                 Traceback (most recent call last)",
      "\u001b[1;31mTypeError\u001b[0m: emptyfunction() takes 0 positional arguments but 1 was given"
     ]
    },
    {
     "name": "stdout",
     "output_type": "stream",
     "text": [
      "sucesfully \n",
      "sucesfully \n",
      "sucesfully \n",
      "sucesfully \n",
      "sucesfully \n",
      "sucesfully \n",
      "sucesfully \n",
      "sucesfully \n",
      "sucesfully \n"
     ]
    },
    {
     "ename": "TypeError",
     "evalue": "emptyfunction() takes 0 positional arguments but 1 was given",
     "output_type": "error",
     "traceback": [
      "\u001b[1;31m---------------------------------------------------------------------------\u001b[0m",
      "\u001b[1;31mTypeError\u001b[0m                                 Traceback (most recent call last)",
      "\u001b[1;31mTypeError\u001b[0m: emptyfunction() takes 0 positional arguments but 1 was given"
     ]
    },
    {
     "name": "stdout",
     "output_type": "stream",
     "text": [
      "sucesfully \n",
      "sucesfully \n",
      "sucesfully \n",
      "sucesfully \n",
      "sucesfully \n",
      "sucesfully \n",
      "sucesfully \n",
      "sucesfully \n",
      "sucesfully \n"
     ]
    },
    {
     "ename": "TypeError",
     "evalue": "emptyfunction() takes 0 positional arguments but 1 was given",
     "output_type": "error",
     "traceback": [
      "\u001b[1;31m---------------------------------------------------------------------------\u001b[0m",
      "\u001b[1;31mTypeError\u001b[0m                                 Traceback (most recent call last)",
      "\u001b[1;31mTypeError\u001b[0m: emptyfunction() takes 0 positional arguments but 1 was given"
     ]
    },
    {
     "name": "stdout",
     "output_type": "stream",
     "text": [
      "sucesfully \n",
      "sucesfully \n",
      "sucesfully \n",
      "sucesfully \n",
      "sucesfully \n",
      "sucesfully \n",
      "sucesfully \n",
      "sucesfully \n",
      "sucesfully \n",
      "sucesfully \n",
      "sucesfully \n",
      "sucesfully \n"
     ]
    },
    {
     "ename": "TypeError",
     "evalue": "emptyfunction() takes 0 positional arguments but 1 was given",
     "output_type": "error",
     "traceback": [
      "\u001b[1;31m---------------------------------------------------------------------------\u001b[0m",
      "\u001b[1;31mTypeError\u001b[0m                                 Traceback (most recent call last)",
      "\u001b[1;31mTypeError\u001b[0m: emptyfunction() takes 0 positional arguments but 1 was given"
     ]
    },
    {
     "name": "stdout",
     "output_type": "stream",
     "text": [
      "sucesfully \n",
      "sucesfully \n",
      "sucesfully \n",
      "sucesfully \n",
      "sucesfully \n",
      "sucesfully \n"
     ]
    },
    {
     "ename": "TypeError",
     "evalue": "emptyfunction() takes 0 positional arguments but 1 was given",
     "output_type": "error",
     "traceback": [
      "\u001b[1;31m---------------------------------------------------------------------------\u001b[0m",
      "\u001b[1;31mTypeError\u001b[0m                                 Traceback (most recent call last)",
      "\u001b[1;31mTypeError\u001b[0m: emptyfunction() takes 0 positional arguments but 1 was given"
     ]
    },
    {
     "name": "stdout",
     "output_type": "stream",
     "text": [
      "sucesfully \n",
      "sucesfully \n",
      "sucesfully \n",
      "sucesfully \n",
      "sucesfully \n",
      "sucesfully \n",
      "sucesfully \n",
      "sucesfully \n",
      "sucesfully \n",
      "sucesfully \n",
      "sucesfully \n",
      "sucesfully \n",
      "sucesfully \n",
      "sucesfully \n",
      "sucesfully \n",
      "sucesfully \n",
      "sucesfully \n",
      "sucesfully \n",
      "sucesfully \n",
      "sucesfully \n",
      "sucesfully \n",
      "sucesfully \n",
      "sucesfully \n",
      "sucesfully \n",
      "sucesfully \n",
      "sucesfully \n",
      "sucesfully \n",
      "sucesfully \n",
      "sucesfully \n",
      "sucesfully \n",
      "sucesfully \n",
      "sucesfully \n",
      "sucesfully \n",
      "sucesfully \n",
      "sucesfully \n",
      "sucesfully \n",
      "sucesfully \n",
      "sucesfully \n",
      "sucesfully \n",
      "sucesfully \n",
      "sucesfully \n",
      "sucesfully \n",
      "sucesfully \n",
      "sucesfully \n",
      "sucesfully \n",
      "sucesfully \n",
      "sucesfully \n",
      "sucesfully \n",
      "sucesfully \n",
      "sucesfully \n",
      "sucesfully \n",
      "sucesfully \n",
      "sucesfully \n",
      "sucesfully \n",
      "sucesfully \n"
     ]
    },
    {
     "ename": "TypeError",
     "evalue": "emptyfunction() takes 0 positional arguments but 1 was given",
     "output_type": "error",
     "traceback": [
      "\u001b[1;31m---------------------------------------------------------------------------\u001b[0m",
      "\u001b[1;31mTypeError\u001b[0m                                 Traceback (most recent call last)",
      "\u001b[1;31mTypeError\u001b[0m: emptyfunction() takes 0 positional arguments but 1 was given"
     ]
    },
    {
     "ename": "TypeError",
     "evalue": "emptyfunction() takes 0 positional arguments but 1 was given",
     "output_type": "error",
     "traceback": [
      "\u001b[1;31m---------------------------------------------------------------------------\u001b[0m",
      "\u001b[1;31mTypeError\u001b[0m                                 Traceback (most recent call last)",
      "\u001b[1;31mTypeError\u001b[0m: emptyfunction() takes 0 positional arguments but 1 was given"
     ]
    },
    {
     "name": "stdout",
     "output_type": "stream",
     "text": [
      "sucesfully \n"
     ]
    },
    {
     "ename": "TypeError",
     "evalue": "emptyfunction() takes 0 positional arguments but 1 was given",
     "output_type": "error",
     "traceback": [
      "\u001b[1;31m---------------------------------------------------------------------------\u001b[0m",
      "\u001b[1;31mTypeError\u001b[0m                                 Traceback (most recent call last)",
      "\u001b[1;31mTypeError\u001b[0m: emptyfunction() takes 0 positional arguments but 1 was given"
     ]
    },
    {
     "name": "stdout",
     "output_type": "stream",
     "text": [
      "sucesfully \n",
      "sucesfully \n"
     ]
    },
    {
     "ename": "TypeError",
     "evalue": "emptyfunction() takes 0 positional arguments but 1 was given",
     "output_type": "error",
     "traceback": [
      "\u001b[1;31m---------------------------------------------------------------------------\u001b[0m",
      "\u001b[1;31mTypeError\u001b[0m                                 Traceback (most recent call last)",
      "\u001b[1;31mTypeError\u001b[0m: emptyfunction() takes 0 positional arguments but 1 was given"
     ]
    },
    {
     "name": "stdout",
     "output_type": "stream",
     "text": [
      "sucesfully \n",
      "sucesfully \n",
      "sucesfully \n",
      "sucesfully \n",
      "sucesfully \n",
      "sucesfully \n",
      "sucesfully \n",
      "sucesfully \n",
      "sucesfully \n",
      "sucesfully \n",
      "sucesfully \n",
      "sucesfully \n",
      "sucesfully \n",
      "sucesfully \n"
     ]
    },
    {
     "ename": "TypeError",
     "evalue": "emptyfunction() takes 0 positional arguments but 1 was given",
     "output_type": "error",
     "traceback": [
      "\u001b[1;31m---------------------------------------------------------------------------\u001b[0m",
      "\u001b[1;31mTypeError\u001b[0m                                 Traceback (most recent call last)",
      "\u001b[1;31mTypeError\u001b[0m: emptyfunction() takes 0 positional arguments but 1 was given"
     ]
    },
    {
     "name": "stdout",
     "output_type": "stream",
     "text": [
      "sucesfully \n",
      "sucesfully \n",
      "sucesfully \n",
      "sucesfully \n",
      "sucesfully \n",
      "sucesfully \n"
     ]
    },
    {
     "ename": "TypeError",
     "evalue": "emptyfunction() takes 0 positional arguments but 1 was given",
     "output_type": "error",
     "traceback": [
      "\u001b[1;31m---------------------------------------------------------------------------\u001b[0m",
      "\u001b[1;31mTypeError\u001b[0m                                 Traceback (most recent call last)",
      "\u001b[1;31mTypeError\u001b[0m: emptyfunction() takes 0 positional arguments but 1 was given"
     ]
    },
    {
     "name": "stdout",
     "output_type": "stream",
     "text": [
      "sucesfully \n",
      "sucesfully \n",
      "sucesfully \n",
      "sucesfully \n",
      "sucesfully \n",
      "sucesfully \n",
      "sucesfully \n",
      "sucesfully \n"
     ]
    },
    {
     "ename": "TypeError",
     "evalue": "emptyfunction() takes 0 positional arguments but 1 was given",
     "output_type": "error",
     "traceback": [
      "\u001b[1;31m---------------------------------------------------------------------------\u001b[0m",
      "\u001b[1;31mTypeError\u001b[0m                                 Traceback (most recent call last)",
      "\u001b[1;31mTypeError\u001b[0m: emptyfunction() takes 0 positional arguments but 1 was given"
     ]
    },
    {
     "name": "stdout",
     "output_type": "stream",
     "text": [
      "sucesfully \n",
      "sucesfully \n",
      "sucesfully \n",
      "sucesfully \n"
     ]
    },
    {
     "ename": "TypeError",
     "evalue": "emptyfunction() takes 0 positional arguments but 1 was given",
     "output_type": "error",
     "traceback": [
      "\u001b[1;31m---------------------------------------------------------------------------\u001b[0m",
      "\u001b[1;31mTypeError\u001b[0m                                 Traceback (most recent call last)",
      "\u001b[1;31mTypeError\u001b[0m: emptyfunction() takes 0 positional arguments but 1 was given"
     ]
    },
    {
     "name": "stdout",
     "output_type": "stream",
     "text": [
      "sucesfully \n",
      "sucesfully \n",
      "sucesfully \n",
      "sucesfully \n",
      "sucesfully \n",
      "sucesfully \n",
      "sucesfully \n",
      "sucesfully \n",
      "sucesfully \n",
      "sucesfully \n",
      "sucesfully \n",
      "sucesfully \n",
      "sucesfully \n",
      "sucesfully \n",
      "sucesfully \n",
      "sucesfully \n",
      "sucesfully \n",
      "sucesfully \n",
      "sucesfully \n"
     ]
    },
    {
     "ename": "TypeError",
     "evalue": "emptyfunction() takes 0 positional arguments but 1 was given",
     "output_type": "error",
     "traceback": [
      "\u001b[1;31m---------------------------------------------------------------------------\u001b[0m",
      "\u001b[1;31mTypeError\u001b[0m                                 Traceback (most recent call last)",
      "\u001b[1;31mTypeError\u001b[0m: emptyfunction() takes 0 positional arguments but 1 was given"
     ]
    },
    {
     "name": "stdout",
     "output_type": "stream",
     "text": [
      "sucesfully \n",
      "sucesfully \n",
      "sucesfully \n",
      "sucesfully \n",
      "sucesfully \n",
      "sucesfully \n"
     ]
    },
    {
     "ename": "TypeError",
     "evalue": "emptyfunction() takes 0 positional arguments but 1 was given",
     "output_type": "error",
     "traceback": [
      "\u001b[1;31m---------------------------------------------------------------------------\u001b[0m",
      "\u001b[1;31mTypeError\u001b[0m                                 Traceback (most recent call last)",
      "\u001b[1;31mTypeError\u001b[0m: emptyfunction() takes 0 positional arguments but 1 was given"
     ]
    },
    {
     "name": "stdout",
     "output_type": "stream",
     "text": [
      "sucesfully \n",
      "sucesfully \n",
      "sucesfully \n",
      "sucesfully \n",
      "sucesfully \n",
      "sucesfully \n",
      "sucesfully \n",
      "sucesfully \n",
      "sucesfully \n",
      "sucesfully \n",
      "sucesfully \n",
      "sucesfully \n",
      "sucesfully \n",
      "sucesfully \n",
      "sucesfully \n",
      "sucesfully \n",
      "sucesfully \n",
      "sucesfully \n",
      "sucesfully \n",
      "sucesfully \n",
      "sucesfully \n",
      "sucesfully \n",
      "sucesfully \n",
      "sucesfully \n",
      "sucesfully \n",
      "sucesfully \n",
      "sucesfully \n",
      "sucesfully \n",
      "sucesfully \n",
      "sucesfully \n",
      "sucesfully \n",
      "sucesfully \n",
      "sucesfully \n",
      "sucesfully \n",
      "sucesfully \n",
      "sucesfully \n",
      "sucesfully \n",
      "sucesfully \n",
      "sucesfully \n",
      "sucesfully \n",
      "sucesfully \n",
      "sucesfully \n",
      "sucesfully \n",
      "sucesfully \n",
      "sucesfully \n",
      "sucesfully \n",
      "sucesfully \n",
      "sucesfully \n",
      "sucesfully \n",
      "sucesfully \n",
      "sucesfully \n",
      "sucesfully \n",
      "sucesfully \n",
      "sucesfully \n",
      "sucesfully \n",
      "sucesfully \n",
      "sucesfully \n",
      "sucesfully \n",
      "sucesfully \n",
      "sucesfully \n",
      "sucesfully \n",
      "sucesfully \n",
      "sucesfully \n",
      "sucesfully \n",
      "sucesfully \n",
      "sucesfully \n",
      "sucesfully \n",
      "sucesfully \n",
      "sucesfully \n",
      "sucesfully \n",
      "sucesfully \n",
      "sucesfully \n",
      "sucesfully \n",
      "sucesfully \n",
      "sucesfully \n",
      "sucesfully \n",
      "sucesfully \n",
      "sucesfully \n",
      "sucesfully \n",
      "sucesfully \n",
      "sucesfully \n",
      "sucesfully \n",
      "sucesfully \n",
      "sucesfully \n",
      "sucesfully \n",
      "sucesfully \n",
      "sucesfully \n"
     ]
    },
    {
     "ename": "TypeError",
     "evalue": "emptyfunction() takes 0 positional arguments but 1 was given",
     "output_type": "error",
     "traceback": [
      "\u001b[1;31m---------------------------------------------------------------------------\u001b[0m",
      "\u001b[1;31mTypeError\u001b[0m                                 Traceback (most recent call last)",
      "\u001b[1;31mTypeError\u001b[0m: emptyfunction() takes 0 positional arguments but 1 was given"
     ]
    },
    {
     "name": "stdout",
     "output_type": "stream",
     "text": [
      "sucesfully \n"
     ]
    },
    {
     "ename": "TypeError",
     "evalue": "emptyfunction() takes 0 positional arguments but 1 was given",
     "output_type": "error",
     "traceback": [
      "\u001b[1;31m---------------------------------------------------------------------------\u001b[0m",
      "\u001b[1;31mTypeError\u001b[0m                                 Traceback (most recent call last)",
      "\u001b[1;31mTypeError\u001b[0m: emptyfunction() takes 0 positional arguments but 1 was given"
     ]
    },
    {
     "name": "stdout",
     "output_type": "stream",
     "text": [
      "sucesfully \n"
     ]
    },
    {
     "ename": "TypeError",
     "evalue": "emptyfunction() takes 0 positional arguments but 1 was given",
     "output_type": "error",
     "traceback": [
      "\u001b[1;31m---------------------------------------------------------------------------\u001b[0m",
      "\u001b[1;31mTypeError\u001b[0m                                 Traceback (most recent call last)",
      "\u001b[1;31mTypeError\u001b[0m: emptyfunction() takes 0 positional arguments but 1 was given"
     ]
    },
    {
     "name": "stdout",
     "output_type": "stream",
     "text": [
      "sucesfully \n",
      "sucesfully \n"
     ]
    },
    {
     "ename": "TypeError",
     "evalue": "emptyfunction() takes 0 positional arguments but 1 was given",
     "output_type": "error",
     "traceback": [
      "\u001b[1;31m---------------------------------------------------------------------------\u001b[0m",
      "\u001b[1;31mTypeError\u001b[0m                                 Traceback (most recent call last)",
      "\u001b[1;31mTypeError\u001b[0m: emptyfunction() takes 0 positional arguments but 1 was given"
     ]
    },
    {
     "name": "stdout",
     "output_type": "stream",
     "text": [
      "sucesfully \n",
      "sucesfully \n",
      "sucesfully \n",
      "sucesfully \n",
      "sucesfully \n",
      "sucesfully \n",
      "sucesfully \n",
      "sucesfully \n",
      "sucesfully \n"
     ]
    },
    {
     "ename": "TypeError",
     "evalue": "emptyfunction() takes 0 positional arguments but 1 was given",
     "output_type": "error",
     "traceback": [
      "\u001b[1;31m---------------------------------------------------------------------------\u001b[0m",
      "\u001b[1;31mTypeError\u001b[0m                                 Traceback (most recent call last)",
      "\u001b[1;31mTypeError\u001b[0m: emptyfunction() takes 0 positional arguments but 1 was given"
     ]
    },
    {
     "name": "stdout",
     "output_type": "stream",
     "text": [
      "sucesfully \n",
      "sucesfully \n",
      "sucesfully \n",
      "sucesfully \n"
     ]
    },
    {
     "ename": "TypeError",
     "evalue": "emptyfunction() takes 0 positional arguments but 1 was given",
     "output_type": "error",
     "traceback": [
      "\u001b[1;31m---------------------------------------------------------------------------\u001b[0m",
      "\u001b[1;31mTypeError\u001b[0m                                 Traceback (most recent call last)",
      "\u001b[1;31mTypeError\u001b[0m: emptyfunction() takes 0 positional arguments but 1 was given"
     ]
    },
    {
     "name": "stdout",
     "output_type": "stream",
     "text": [
      "sucesfully \n",
      "sucesfully \n",
      "sucesfully \n"
     ]
    },
    {
     "ename": "TypeError",
     "evalue": "emptyfunction() takes 0 positional arguments but 1 was given",
     "output_type": "error",
     "traceback": [
      "\u001b[1;31m---------------------------------------------------------------------------\u001b[0m",
      "\u001b[1;31mTypeError\u001b[0m                                 Traceback (most recent call last)",
      "\u001b[1;31mTypeError\u001b[0m: emptyfunction() takes 0 positional arguments but 1 was given"
     ]
    },
    {
     "ename": "TypeError",
     "evalue": "emptyfunction() takes 0 positional arguments but 1 was given",
     "output_type": "error",
     "traceback": [
      "\u001b[1;31m---------------------------------------------------------------------------\u001b[0m",
      "\u001b[1;31mTypeError\u001b[0m                                 Traceback (most recent call last)",
      "\u001b[1;31mTypeError\u001b[0m: emptyfunction() takes 0 positional arguments but 1 was given"
     ]
    },
    {
     "name": "stdout",
     "output_type": "stream",
     "text": [
      "sucesfully \n",
      "sucesfully \n",
      "sucesfully \n",
      "sucesfully \n"
     ]
    },
    {
     "ename": "TypeError",
     "evalue": "emptyfunction() takes 0 positional arguments but 1 was given",
     "output_type": "error",
     "traceback": [
      "\u001b[1;31m---------------------------------------------------------------------------\u001b[0m",
      "\u001b[1;31mTypeError\u001b[0m                                 Traceback (most recent call last)",
      "\u001b[1;31mTypeError\u001b[0m: emptyfunction() takes 0 positional arguments but 1 was given"
     ]
    },
    {
     "name": "stdout",
     "output_type": "stream",
     "text": [
      "sucesfully \n",
      "sucesfully \n",
      "sucesfully \n",
      "sucesfully \n",
      "sucesfully \n",
      "sucesfully \n",
      "sucesfully \n",
      "sucesfully \n",
      "sucesfully \n",
      "sucesfully \n"
     ]
    },
    {
     "ename": "TypeError",
     "evalue": "emptyfunction() takes 0 positional arguments but 1 was given",
     "output_type": "error",
     "traceback": [
      "\u001b[1;31m---------------------------------------------------------------------------\u001b[0m",
      "\u001b[1;31mTypeError\u001b[0m                                 Traceback (most recent call last)",
      "\u001b[1;31mTypeError\u001b[0m: emptyfunction() takes 0 positional arguments but 1 was given"
     ]
    },
    {
     "name": "stdout",
     "output_type": "stream",
     "text": [
      "sucesfully \n",
      "sucesfully \n",
      "sucesfully \n",
      "sucesfully \n",
      "sucesfully \n",
      "sucesfully \n",
      "sucesfully \n",
      "sucesfully \n",
      "sucesfully \n",
      "sucesfully \n",
      "sucesfully \n",
      "sucesfully \n",
      "sucesfully \n",
      "sucesfully \n",
      "sucesfully \n",
      "sucesfully \n",
      "sucesfully \n",
      "sucesfully \n",
      "sucesfully \n",
      "sucesfully \n",
      "sucesfully \n",
      "sucesfully \n",
      "sucesfully \n",
      "sucesfully \n",
      "sucesfully \n",
      "sucesfully \n",
      "sucesfully \n",
      "sucesfully \n",
      "sucesfully \n",
      "sucesfully \n",
      "sucesfully \n",
      "sucesfully \n",
      "sucesfully \n",
      "sucesfully \n",
      "sucesfully \n",
      "sucesfully \n",
      "sucesfully \n",
      "sucesfully \n",
      "sucesfully \n",
      "sucesfully \n",
      "sucesfully \n",
      "sucesfully \n",
      "sucesfully \n",
      "sucesfully \n",
      "sucesfully \n",
      "sucesfully \n",
      "sucesfully \n",
      "sucesfully \n",
      "sucesfully \n",
      "sucesfully \n",
      "sucesfully \n",
      "sucesfully \n",
      "sucesfully \n",
      "sucesfully \n",
      "sucesfully \n",
      "sucesfully \n",
      "sucesfully \n",
      "sucesfully \n",
      "sucesfully \n",
      "sucesfully \n",
      "sucesfully \n",
      "sucesfully \n",
      "sucesfully \n",
      "sucesfully \n",
      "sucesfully \n",
      "sucesfully \n",
      "sucesfully \n",
      "sucesfully \n",
      "sucesfully \n",
      "sucesfully \n",
      "sucesfully \n",
      "sucesfully \n",
      "sucesfully \n",
      "sucesfully \n",
      "sucesfully \n",
      "sucesfully \n",
      "sucesfully \n",
      "sucesfully \n",
      "sucesfully \n",
      "sucesfully \n",
      "sucesfully \n",
      "sucesfully \n",
      "sucesfully \n",
      "sucesfully \n",
      "sucesfully \n",
      "sucesfully \n",
      "sucesfully \n",
      "sucesfully \n",
      "sucesfully \n",
      "sucesfully \n",
      "sucesfully \n",
      "sucesfully \n",
      "sucesfully \n",
      "sucesfully \n",
      "sucesfully \n",
      "sucesfully \n",
      "sucesfully \n",
      "sucesfully \n",
      "sucesfully \n",
      "sucesfully \n",
      "sucesfully \n",
      "sucesfully \n",
      "sucesfully \n",
      "sucesfully \n",
      "sucesfully \n",
      "sucesfully \n",
      "sucesfully \n",
      "sucesfully \n",
      "sucesfully \n",
      "sucesfully \n",
      "sucesfully \n",
      "sucesfully \n",
      "sucesfully \n"
     ]
    },
    {
     "ename": "TypeError",
     "evalue": "emptyfunction() takes 0 positional arguments but 1 was given",
     "output_type": "error",
     "traceback": [
      "\u001b[1;31m---------------------------------------------------------------------------\u001b[0m",
      "\u001b[1;31mTypeError\u001b[0m                                 Traceback (most recent call last)",
      "\u001b[1;31mTypeError\u001b[0m: emptyfunction() takes 0 positional arguments but 1 was given"
     ]
    },
    {
     "name": "stdout",
     "output_type": "stream",
     "text": [
      "sucesfully \n"
     ]
    },
    {
     "ename": "TypeError",
     "evalue": "emptyfunction() takes 0 positional arguments but 1 was given",
     "output_type": "error",
     "traceback": [
      "\u001b[1;31m---------------------------------------------------------------------------\u001b[0m",
      "\u001b[1;31mTypeError\u001b[0m                                 Traceback (most recent call last)",
      "\u001b[1;31mTypeError\u001b[0m: emptyfunction() takes 0 positional arguments but 1 was given"
     ]
    },
    {
     "name": "stdout",
     "output_type": "stream",
     "text": [
      "sucesfully \n"
     ]
    },
    {
     "ename": "TypeError",
     "evalue": "emptyfunction() takes 0 positional arguments but 1 was given",
     "output_type": "error",
     "traceback": [
      "\u001b[1;31m---------------------------------------------------------------------------\u001b[0m",
      "\u001b[1;31mTypeError\u001b[0m                                 Traceback (most recent call last)",
      "\u001b[1;31mTypeError\u001b[0m: emptyfunction() takes 0 positional arguments but 1 was given"
     ]
    },
    {
     "name": "stdout",
     "output_type": "stream",
     "text": [
      "sucesfully \n",
      "sucesfully \n"
     ]
    },
    {
     "ename": "TypeError",
     "evalue": "emptyfunction() takes 0 positional arguments but 1 was given",
     "output_type": "error",
     "traceback": [
      "\u001b[1;31m---------------------------------------------------------------------------\u001b[0m",
      "\u001b[1;31mTypeError\u001b[0m                                 Traceback (most recent call last)",
      "\u001b[1;31mTypeError\u001b[0m: emptyfunction() takes 0 positional arguments but 1 was given"
     ]
    },
    {
     "ename": "TypeError",
     "evalue": "emptyfunction() takes 0 positional arguments but 1 was given",
     "output_type": "error",
     "traceback": [
      "\u001b[1;31m---------------------------------------------------------------------------\u001b[0m",
      "\u001b[1;31mTypeError\u001b[0m                                 Traceback (most recent call last)",
      "\u001b[1;31mTypeError\u001b[0m: emptyfunction() takes 0 positional arguments but 1 was given"
     ]
    },
    {
     "ename": "TypeError",
     "evalue": "emptyfunction() takes 0 positional arguments but 1 was given",
     "output_type": "error",
     "traceback": [
      "\u001b[1;31m---------------------------------------------------------------------------\u001b[0m",
      "\u001b[1;31mTypeError\u001b[0m                                 Traceback (most recent call last)",
      "\u001b[1;31mTypeError\u001b[0m: emptyfunction() takes 0 positional arguments but 1 was given"
     ]
    },
    {
     "name": "stdout",
     "output_type": "stream",
     "text": [
      "sucesfully \n"
     ]
    },
    {
     "ename": "TypeError",
     "evalue": "emptyfunction() takes 0 positional arguments but 1 was given",
     "output_type": "error",
     "traceback": [
      "\u001b[1;31m---------------------------------------------------------------------------\u001b[0m",
      "\u001b[1;31mTypeError\u001b[0m                                 Traceback (most recent call last)",
      "\u001b[1;31mTypeError\u001b[0m: emptyfunction() takes 0 positional arguments but 1 was given"
     ]
    },
    {
     "name": "stdout",
     "output_type": "stream",
     "text": [
      "sucesfully \n"
     ]
    },
    {
     "ename": "TypeError",
     "evalue": "emptyfunction() takes 0 positional arguments but 1 was given",
     "output_type": "error",
     "traceback": [
      "\u001b[1;31m---------------------------------------------------------------------------\u001b[0m",
      "\u001b[1;31mTypeError\u001b[0m                                 Traceback (most recent call last)",
      "\u001b[1;31mTypeError\u001b[0m: emptyfunction() takes 0 positional arguments but 1 was given"
     ]
    },
    {
     "name": "stdout",
     "output_type": "stream",
     "text": [
      "sucesfully \n"
     ]
    },
    {
     "ename": "TypeError",
     "evalue": "emptyfunction() takes 0 positional arguments but 1 was given",
     "output_type": "error",
     "traceback": [
      "\u001b[1;31m---------------------------------------------------------------------------\u001b[0m",
      "\u001b[1;31mTypeError\u001b[0m                                 Traceback (most recent call last)",
      "\u001b[1;31mTypeError\u001b[0m: emptyfunction() takes 0 positional arguments but 1 was given"
     ]
    },
    {
     "name": "stdout",
     "output_type": "stream",
     "text": [
      "sucesfully \n",
      "sucesfully \n"
     ]
    },
    {
     "ename": "TypeError",
     "evalue": "emptyfunction() takes 0 positional arguments but 1 was given",
     "output_type": "error",
     "traceback": [
      "\u001b[1;31m---------------------------------------------------------------------------\u001b[0m",
      "\u001b[1;31mTypeError\u001b[0m                                 Traceback (most recent call last)",
      "\u001b[1;31mTypeError\u001b[0m: emptyfunction() takes 0 positional arguments but 1 was given"
     ]
    },
    {
     "name": "stdout",
     "output_type": "stream",
     "text": [
      "sucesfully \n",
      "sucesfully \n",
      "sucesfully \n",
      "sucesfully \n",
      "sucesfully \n",
      "sucesfully \n",
      "sucesfully \n",
      "sucesfully \n",
      "sucesfully \n",
      "sucesfully \n",
      "sucesfully \n",
      "sucesfully \n",
      "sucesfully \n",
      "sucesfully \n",
      "sucesfully \n",
      "sucesfully \n",
      "sucesfully \n",
      "sucesfully \n",
      "sucesfully \n",
      "sucesfully \n",
      "sucesfully \n",
      "sucesfully \n",
      "sucesfully \n",
      "sucesfully \n",
      "sucesfully \n",
      "sucesfully \n",
      "sucesfully \n",
      "sucesfully \n",
      "sucesfully \n",
      "sucesfully \n",
      "sucesfully \n",
      "sucesfully \n",
      "sucesfully \n",
      "sucesfully \n",
      "sucesfully \n",
      "sucesfully \n",
      "sucesfully \n",
      "sucesfully \n",
      "sucesfully \n",
      "sucesfully \n",
      "sucesfully \n",
      "sucesfully \n",
      "sucesfully \n",
      "sucesfully \n",
      "sucesfully \n",
      "sucesfully \n",
      "sucesfully \n",
      "sucesfully \n",
      "sucesfully \n",
      "sucesfully \n",
      "sucesfully \n",
      "sucesfully \n",
      "sucesfully \n",
      "sucesfully \n",
      "sucesfully \n",
      "sucesfully \n",
      "sucesfully \n",
      "sucesfully \n",
      "sucesfully \n",
      "sucesfully \n",
      "sucesfully \n",
      "sucesfully \n",
      "sucesfully \n",
      "sucesfully \n",
      "sucesfully \n",
      "sucesfully \n",
      "sucesfully \n",
      "sucesfully \n",
      "sucesfully \n",
      "sucesfully \n",
      "sucesfully \n",
      "sucesfully \n",
      "sucesfully \n",
      "sucesfully \n",
      "sucesfully \n",
      "sucesfully \n",
      "sucesfully \n",
      "sucesfully \n",
      "sucesfully \n",
      "sucesfully \n",
      "sucesfully \n",
      "sucesfully \n",
      "sucesfully \n",
      "sucesfully \n",
      "sucesfully \n",
      "sucesfully \n",
      "sucesfully \n",
      "sucesfully \n",
      "sucesfully \n",
      "sucesfully \n",
      "sucesfully \n",
      "sucesfully \n",
      "sucesfully \n",
      "sucesfully \n",
      "sucesfully \n",
      "sucesfully \n",
      "sucesfully \n",
      "sucesfully \n",
      "sucesfully \n",
      "sucesfully \n",
      "sucesfully \n",
      "sucesfully \n",
      "sucesfully \n",
      "sucesfully \n",
      "sucesfully \n",
      "sucesfully \n",
      "sucesfully \n",
      "sucesfully \n",
      "sucesfully \n",
      "sucesfully \n",
      "sucesfully \n",
      "sucesfully \n",
      "sucesfully \n",
      "sucesfully \n",
      "sucesfully \n",
      "sucesfully \n",
      "sucesfully \n",
      "sucesfully \n",
      "sucesfully \n",
      "sucesfully \n",
      "sucesfully \n",
      "sucesfully \n",
      "sucesfully \n",
      "sucesfully \n",
      "sucesfully \n",
      "sucesfully \n",
      "sucesfully \n",
      "sucesfully \n",
      "sucesfully \n",
      "sucesfully \n",
      "sucesfully \n",
      "sucesfully \n",
      "sucesfully \n",
      "sucesfully \n",
      "sucesfully \n",
      "sucesfully \n",
      "sucesfully \n",
      "sucesfully \n",
      "sucesfully \n",
      "sucesfully \n",
      "sucesfully \n"
     ]
    }
   ],
   "source": [
    "import matplotlib.pyplot as plt \n",
    "import cv2\n",
    "import numpy as np \n",
    "keje='ismin ne'\n",
    "cv2.namedWindow(keje)\n",
    "path1=\"train\\cat.4.jpg\"\n",
    "path2=\"train\\cat.17.jpg\"\n",
    "import cv2\n",
    "imag1= cv2.imread(path1)\n",
    "imag2=cv2.imread(path2)\n",
    "\n",
    "\n",
    "def emptyfunction():\n",
    "    pass\n",
    "\n",
    "image1=np.zeros((512,512),np.uint8)\n",
    "\n",
    "cv2.createTrackbar('aslan',keje,0,10,emptyfunction)\n",
    "\n",
    "\n",
    "while True:\n",
    "    \n",
    "    alpha=cv2.getTrackbarPos('aslan',keje)/10\n",
    "    betha=1-alpha\n",
    "    output= cv2.addWeighted(imag1,alpha,imag2,betha,0)\n",
    "    cv2.imshow(keje,output)\n",
    "    if cv2.waitKey(1)==27:\n",
    "        break\n",
    "        \n",
    "    print('sucesfully ')\n",
    "    \n",
    "cv2.destroyWindow(keje)\n",
    "\n",
    "\n",
    "plt.show()"
   ]
  },
  {
   "cell_type": "code",
   "execution_count": 46,
   "metadata": {},
   "outputs": [
    {
     "name": "stdout",
     "output_type": "stream",
     "text": [
      "Help on built-in function getTrackbarPos:\n",
      "\n",
      "getTrackbarPos(...)\n",
      "    getTrackbarPos(trackbarname, winname) -> retval\n",
      "    .   @brief Returns the trackbar position.\n",
      "    .   \n",
      "    .   The function returns the current position of the specified trackbar.\n",
      "    .   \n",
      "    .   @note\n",
      "    .   \n",
      "    .   [__Qt Backend Only__] winname can be empty if the trackbar is attached to the control\n",
      "    .   panel.\n",
      "    .   \n",
      "    .   @param trackbarname Name of the trackbar.\n",
      "    .   @param winname Name of the window that is the parent of the trackbar.\n",
      "\n"
     ]
    }
   ],
   "source": [
    "import cv2\n",
    "help(cv2.getTrackbarPos )"
   ]
  },
  {
   "cell_type": "markdown",
   "metadata": {},
   "source": [
    "# 25: Scaling Operation on an Image"
   ]
  },
  {
   "cell_type": "code",
   "execution_count": 52,
   "metadata": {},
   "outputs": [
    {
     "name": "stdout",
     "output_type": "stream",
     "text": [
      "Help on built-in function resize:\n",
      "\n",
      "resize(...)\n",
      "    resize(src, dsize[, dst[, fx[, fy[, interpolation]]]]) -> dst\n",
      "    .   @brief Resizes an image.\n",
      "    .   \n",
      "    .   The function resize resizes the image src down to or up to the specified size. Note that the\n",
      "    .   initial dst type or size are not taken into account. Instead, the size and type are derived from\n",
      "    .   the `src`,`dsize`,`fx`, and `fy`. If you want to resize src so that it fits the pre-created dst,\n",
      "    .   you may call the function as follows:\n",
      "    .   @code\n",
      "    .   // explicitly specify dsize=dst.size(); fx and fy will be computed from that.\n",
      "    .   resize(src, dst, dst.size(), 0, 0, interpolation);\n",
      "    .   @endcode\n",
      "    .   If you want to decimate the image by factor of 2 in each direction, you can call the function this\n",
      "    .   way:\n",
      "    .   @code\n",
      "    .   // specify fx and fy and let the function compute the destination image size.\n",
      "    .   resize(src, dst, Size(), 0.5, 0.5, interpolation);\n",
      "    .   @endcode\n",
      "    .   To shrink an image, it will generally look best with #INTER_AREA interpolation, whereas to\n",
      "    .   enlarge an image, it will generally look best with c#INTER_CUBIC (slow) or #INTER_LINEAR\n",
      "    .   (faster but still looks OK).\n",
      "    .   \n",
      "    .   @param src input image.\n",
      "    .   @param dst output image; it has the size dsize (when it is non-zero) or the size computed from\n",
      "    .   src.size(), fx, and fy; the type of dst is the same as of src.\n",
      "    .   @param dsize output image size; if it equals zero, it is computed as:\n",
      "    .   \\f[\\texttt{dsize = Size(round(fx*src.cols), round(fy*src.rows))}\\f]\n",
      "    .   Either dsize or both fx and fy must be non-zero.\n",
      "    .   @param fx scale factor along the horizontal axis; when it equals 0, it is computed as\n",
      "    .   \\f[\\texttt{(double)dsize.width/src.cols}\\f]\n",
      "    .   @param fy scale factor along the vertical axis; when it equals 0, it is computed as\n",
      "    .   \\f[\\texttt{(double)dsize.height/src.rows}\\f]\n",
      "    .   @param interpolation interpolation method, see #InterpolationFlags\n",
      "    .   \n",
      "    .   @sa  warpAffine, warpPerspective, remap\n",
      "\n"
     ]
    }
   ],
   "source": [
    "import cv2\n",
    "help(cv2.resize)"
   ]
  },
  {
   "cell_type": "code",
   "execution_count": 62,
   "metadata": {},
   "outputs": [
    {
     "name": "stdout",
     "output_type": "stream",
     "text": [
      "(140, 150, 3)\n"
     ]
    }
   ],
   "source": [
    "import cv2\n",
    "\n",
    "image=cv2.imread('train\\cat.1.jpg')\n",
    "image1=cv2.resize(image,None, fx=0.5,fy=0.5,interpolation=cv2.INTER_AREA)\n",
    "print(image1.shape)\n",
    "while True:\n",
    "    \n",
    "    cv2.imshow('dene',image1)\n",
    "    if cv2.waitKey(1)==27:\n",
    "        break \n",
    "        \n",
    "    \n",
    "    \n",
    "        \n",
    "        \n",
    "        \n",
    "cv2.destroyWindow('dene')"
   ]
  },
  {
   "cell_type": "code",
   "execution_count": 3,
   "metadata": {},
   "outputs": [
    {
     "name": "stdout",
     "output_type": "stream",
     "text": [
      "<class 'numpy.ndarray'>\n"
     ]
    }
   ],
   "source": [
    "import cv2\n",
    "ab=cv2.imread(\"C:\\\\Users\\\\sahin\\\\cats and dogs\\\\train\\\\cat\\\\3.jpg\")\n",
    "print(type(ab))\n",
    "cv2.imshow('deneme',ab)\n",
    "cv2.waitKey(0)\n",
    "cv2.destroyWindow('deneme')\n"
   ]
  },
  {
   "cell_type": "code",
   "execution_count": null,
   "metadata": {},
   "outputs": [],
   "source": []
  }
 ],
 "metadata": {
  "kernelspec": {
   "display_name": "Python 3",
   "language": "python",
   "name": "python3"
  },
  "language_info": {
   "codemirror_mode": {
    "name": "ipython",
    "version": 3
   },
   "file_extension": ".py",
   "mimetype": "text/x-python",
   "name": "python",
   "nbconvert_exporter": "python",
   "pygments_lexer": "ipython3",
   "version": "3.6.9"
  }
 },
 "nbformat": 4,
 "nbformat_minor": 2
}
